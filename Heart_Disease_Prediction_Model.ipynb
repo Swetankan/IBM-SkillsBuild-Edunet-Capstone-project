{
  "nbformat": 4,
  "nbformat_minor": 0,
  "metadata": {
    "colab": {
      "provenance": [],
      "authorship_tag": "ABX9TyMpdIrWDgmZw4X1TghCs1ar",
      "include_colab_link": true
    },
    "kernelspec": {
      "name": "python3",
      "display_name": "Python 3"
    },
    "language_info": {
      "name": "python"
    },
    "widgets": {
      "application/vnd.jupyter.widget-state+json": {
        "404309159333400d8244cb9b707d8d58": {
          "model_module": "@jupyter-widgets/controls",
          "model_name": "LabelModel",
          "model_module_version": "1.5.0",
          "state": {
            "_dom_classes": [],
            "_model_module": "@jupyter-widgets/controls",
            "_model_module_version": "1.5.0",
            "_model_name": "LabelModel",
            "_view_count": null,
            "_view_module": "@jupyter-widgets/controls",
            "_view_module_version": "1.5.0",
            "_view_name": "LabelView",
            "description": "",
            "description_tooltip": null,
            "layout": "IPY_MODEL_3db496c4881c4c08b986638970f7927e",
            "placeholder": "​",
            "style": "IPY_MODEL_48031253c0f749e0af7575acd62b770e",
            "value": "Enter Your Age:"
          }
        },
        "3db496c4881c4c08b986638970f7927e": {
          "model_module": "@jupyter-widgets/base",
          "model_name": "LayoutModel",
          "model_module_version": "1.2.0",
          "state": {
            "_model_module": "@jupyter-widgets/base",
            "_model_module_version": "1.2.0",
            "_model_name": "LayoutModel",
            "_view_count": null,
            "_view_module": "@jupyter-widgets/base",
            "_view_module_version": "1.2.0",
            "_view_name": "LayoutView",
            "align_content": null,
            "align_items": null,
            "align_self": null,
            "border": null,
            "bottom": null,
            "display": null,
            "flex": null,
            "flex_flow": null,
            "grid_area": null,
            "grid_auto_columns": null,
            "grid_auto_flow": null,
            "grid_auto_rows": null,
            "grid_column": null,
            "grid_gap": null,
            "grid_row": null,
            "grid_template_areas": null,
            "grid_template_columns": null,
            "grid_template_rows": null,
            "height": null,
            "justify_content": null,
            "justify_items": null,
            "left": null,
            "margin": null,
            "max_height": null,
            "max_width": null,
            "min_height": null,
            "min_width": null,
            "object_fit": null,
            "object_position": null,
            "order": null,
            "overflow": null,
            "overflow_x": null,
            "overflow_y": null,
            "padding": null,
            "right": null,
            "top": null,
            "visibility": null,
            "width": null
          }
        },
        "48031253c0f749e0af7575acd62b770e": {
          "model_module": "@jupyter-widgets/controls",
          "model_name": "DescriptionStyleModel",
          "model_module_version": "1.5.0",
          "state": {
            "_model_module": "@jupyter-widgets/controls",
            "_model_module_version": "1.5.0",
            "_model_name": "DescriptionStyleModel",
            "_view_count": null,
            "_view_module": "@jupyter-widgets/base",
            "_view_module_version": "1.2.0",
            "_view_name": "StyleView",
            "description_width": ""
          }
        },
        "be7ae75aa55e4610a74e21937711f68a": {
          "model_module": "@jupyter-widgets/controls",
          "model_name": "IntTextModel",
          "model_module_version": "1.5.0",
          "state": {
            "_dom_classes": [],
            "_model_module": "@jupyter-widgets/controls",
            "_model_module_version": "1.5.0",
            "_model_name": "IntTextModel",
            "_view_count": null,
            "_view_module": "@jupyter-widgets/controls",
            "_view_module_version": "1.5.0",
            "_view_name": "IntTextView",
            "continuous_update": false,
            "description": "",
            "description_tooltip": null,
            "disabled": false,
            "layout": "IPY_MODEL_cd0987e099204413bdfb85dc1ba35e93",
            "step": 1,
            "style": "IPY_MODEL_28e6cfc63b2f49908f7891a539718131",
            "value": 44
          }
        },
        "cd0987e099204413bdfb85dc1ba35e93": {
          "model_module": "@jupyter-widgets/base",
          "model_name": "LayoutModel",
          "model_module_version": "1.2.0",
          "state": {
            "_model_module": "@jupyter-widgets/base",
            "_model_module_version": "1.2.0",
            "_model_name": "LayoutModel",
            "_view_count": null,
            "_view_module": "@jupyter-widgets/base",
            "_view_module_version": "1.2.0",
            "_view_name": "LayoutView",
            "align_content": null,
            "align_items": null,
            "align_self": null,
            "border": null,
            "bottom": null,
            "display": null,
            "flex": null,
            "flex_flow": null,
            "grid_area": null,
            "grid_auto_columns": null,
            "grid_auto_flow": null,
            "grid_auto_rows": null,
            "grid_column": null,
            "grid_gap": null,
            "grid_row": null,
            "grid_template_areas": null,
            "grid_template_columns": null,
            "grid_template_rows": null,
            "height": null,
            "justify_content": null,
            "justify_items": null,
            "left": null,
            "margin": null,
            "max_height": null,
            "max_width": null,
            "min_height": null,
            "min_width": null,
            "object_fit": null,
            "object_position": null,
            "order": null,
            "overflow": null,
            "overflow_x": null,
            "overflow_y": null,
            "padding": null,
            "right": null,
            "top": null,
            "visibility": null,
            "width": null
          }
        },
        "28e6cfc63b2f49908f7891a539718131": {
          "model_module": "@jupyter-widgets/controls",
          "model_name": "DescriptionStyleModel",
          "model_module_version": "1.5.0",
          "state": {
            "_model_module": "@jupyter-widgets/controls",
            "_model_module_version": "1.5.0",
            "_model_name": "DescriptionStyleModel",
            "_view_count": null,
            "_view_module": "@jupyter-widgets/base",
            "_view_module_version": "1.2.0",
            "_view_name": "StyleView",
            "description_width": ""
          }
        },
        "2f0889b3c47145be811f06455e92b2dd": {
          "model_module": "@jupyter-widgets/controls",
          "model_name": "LabelModel",
          "model_module_version": "1.5.0",
          "state": {
            "_dom_classes": [],
            "_model_module": "@jupyter-widgets/controls",
            "_model_module_version": "1.5.0",
            "_model_name": "LabelModel",
            "_view_count": null,
            "_view_module": "@jupyter-widgets/controls",
            "_view_module_version": "1.5.0",
            "_view_name": "LabelView",
            "description": "",
            "description_tooltip": null,
            "layout": "IPY_MODEL_1f49f5f21027432ebf5763e9cfb8b408",
            "placeholder": "​",
            "style": "IPY_MODEL_249fb03885644a37bbe86fda1826e8b7",
            "value": "Gender:"
          }
        },
        "1f49f5f21027432ebf5763e9cfb8b408": {
          "model_module": "@jupyter-widgets/base",
          "model_name": "LayoutModel",
          "model_module_version": "1.2.0",
          "state": {
            "_model_module": "@jupyter-widgets/base",
            "_model_module_version": "1.2.0",
            "_model_name": "LayoutModel",
            "_view_count": null,
            "_view_module": "@jupyter-widgets/base",
            "_view_module_version": "1.2.0",
            "_view_name": "LayoutView",
            "align_content": null,
            "align_items": null,
            "align_self": null,
            "border": null,
            "bottom": null,
            "display": null,
            "flex": null,
            "flex_flow": null,
            "grid_area": null,
            "grid_auto_columns": null,
            "grid_auto_flow": null,
            "grid_auto_rows": null,
            "grid_column": null,
            "grid_gap": null,
            "grid_row": null,
            "grid_template_areas": null,
            "grid_template_columns": null,
            "grid_template_rows": null,
            "height": null,
            "justify_content": null,
            "justify_items": null,
            "left": null,
            "margin": null,
            "max_height": null,
            "max_width": null,
            "min_height": null,
            "min_width": null,
            "object_fit": null,
            "object_position": null,
            "order": null,
            "overflow": null,
            "overflow_x": null,
            "overflow_y": null,
            "padding": null,
            "right": null,
            "top": null,
            "visibility": null,
            "width": null
          }
        },
        "249fb03885644a37bbe86fda1826e8b7": {
          "model_module": "@jupyter-widgets/controls",
          "model_name": "DescriptionStyleModel",
          "model_module_version": "1.5.0",
          "state": {
            "_model_module": "@jupyter-widgets/controls",
            "_model_module_version": "1.5.0",
            "_model_name": "DescriptionStyleModel",
            "_view_count": null,
            "_view_module": "@jupyter-widgets/base",
            "_view_module_version": "1.2.0",
            "_view_name": "StyleView",
            "description_width": ""
          }
        },
        "1bf40d9e1fa748278c7ed27e84f49d9d": {
          "model_module": "@jupyter-widgets/controls",
          "model_name": "RadioButtonsModel",
          "model_module_version": "1.5.0",
          "state": {
            "_dom_classes": [],
            "_model_module": "@jupyter-widgets/controls",
            "_model_module_version": "1.5.0",
            "_model_name": "RadioButtonsModel",
            "_options_labels": [
              "Male",
              "Female"
            ],
            "_view_count": null,
            "_view_module": "@jupyter-widgets/controls",
            "_view_module_version": "1.5.0",
            "_view_name": "RadioButtonsView",
            "description": "",
            "description_tooltip": null,
            "disabled": false,
            "index": 1,
            "layout": "IPY_MODEL_cbb8daebf5cb4ecca0c7193875cda573",
            "style": "IPY_MODEL_8f3144ed09da42c1be367012e224b697"
          }
        },
        "cbb8daebf5cb4ecca0c7193875cda573": {
          "model_module": "@jupyter-widgets/base",
          "model_name": "LayoutModel",
          "model_module_version": "1.2.0",
          "state": {
            "_model_module": "@jupyter-widgets/base",
            "_model_module_version": "1.2.0",
            "_model_name": "LayoutModel",
            "_view_count": null,
            "_view_module": "@jupyter-widgets/base",
            "_view_module_version": "1.2.0",
            "_view_name": "LayoutView",
            "align_content": null,
            "align_items": null,
            "align_self": null,
            "border": null,
            "bottom": null,
            "display": null,
            "flex": null,
            "flex_flow": null,
            "grid_area": null,
            "grid_auto_columns": null,
            "grid_auto_flow": null,
            "grid_auto_rows": null,
            "grid_column": null,
            "grid_gap": null,
            "grid_row": null,
            "grid_template_areas": null,
            "grid_template_columns": null,
            "grid_template_rows": null,
            "height": null,
            "justify_content": null,
            "justify_items": null,
            "left": null,
            "margin": null,
            "max_height": null,
            "max_width": null,
            "min_height": null,
            "min_width": null,
            "object_fit": null,
            "object_position": null,
            "order": null,
            "overflow": null,
            "overflow_x": null,
            "overflow_y": null,
            "padding": null,
            "right": null,
            "top": null,
            "visibility": null,
            "width": "max-content"
          }
        },
        "8f3144ed09da42c1be367012e224b697": {
          "model_module": "@jupyter-widgets/controls",
          "model_name": "DescriptionStyleModel",
          "model_module_version": "1.5.0",
          "state": {
            "_model_module": "@jupyter-widgets/controls",
            "_model_module_version": "1.5.0",
            "_model_name": "DescriptionStyleModel",
            "_view_count": null,
            "_view_module": "@jupyter-widgets/base",
            "_view_module_version": "1.2.0",
            "_view_name": "StyleView",
            "description_width": ""
          }
        },
        "c463d4f5a0774f8fab486918da21225a": {
          "model_module": "@jupyter-widgets/controls",
          "model_name": "LabelModel",
          "model_module_version": "1.5.0",
          "state": {
            "_dom_classes": [],
            "_model_module": "@jupyter-widgets/controls",
            "_model_module_version": "1.5.0",
            "_model_name": "LabelModel",
            "_view_count": null,
            "_view_module": "@jupyter-widgets/controls",
            "_view_module_version": "1.5.0",
            "_view_name": "LabelView",
            "description": "",
            "description_tooltip": null,
            "layout": "IPY_MODEL_879df697156a484cb00c05e7fa4f4112",
            "placeholder": "​",
            "style": "IPY_MODEL_7630a982162045a28aa921d5e5210ccf",
            "value": "Enter Value of CP:"
          }
        },
        "879df697156a484cb00c05e7fa4f4112": {
          "model_module": "@jupyter-widgets/base",
          "model_name": "LayoutModel",
          "model_module_version": "1.2.0",
          "state": {
            "_model_module": "@jupyter-widgets/base",
            "_model_module_version": "1.2.0",
            "_model_name": "LayoutModel",
            "_view_count": null,
            "_view_module": "@jupyter-widgets/base",
            "_view_module_version": "1.2.0",
            "_view_name": "LayoutView",
            "align_content": null,
            "align_items": null,
            "align_self": null,
            "border": null,
            "bottom": null,
            "display": null,
            "flex": null,
            "flex_flow": null,
            "grid_area": null,
            "grid_auto_columns": null,
            "grid_auto_flow": null,
            "grid_auto_rows": null,
            "grid_column": null,
            "grid_gap": null,
            "grid_row": null,
            "grid_template_areas": null,
            "grid_template_columns": null,
            "grid_template_rows": null,
            "height": null,
            "justify_content": null,
            "justify_items": null,
            "left": null,
            "margin": null,
            "max_height": null,
            "max_width": null,
            "min_height": null,
            "min_width": null,
            "object_fit": null,
            "object_position": null,
            "order": null,
            "overflow": null,
            "overflow_x": null,
            "overflow_y": null,
            "padding": null,
            "right": null,
            "top": null,
            "visibility": null,
            "width": null
          }
        },
        "7630a982162045a28aa921d5e5210ccf": {
          "model_module": "@jupyter-widgets/controls",
          "model_name": "DescriptionStyleModel",
          "model_module_version": "1.5.0",
          "state": {
            "_model_module": "@jupyter-widgets/controls",
            "_model_module_version": "1.5.0",
            "_model_name": "DescriptionStyleModel",
            "_view_count": null,
            "_view_module": "@jupyter-widgets/base",
            "_view_module_version": "1.2.0",
            "_view_name": "StyleView",
            "description_width": ""
          }
        },
        "3957deb04d654a9ba46ed52346889acb": {
          "model_module": "@jupyter-widgets/controls",
          "model_name": "IntSliderModel",
          "model_module_version": "1.5.0",
          "state": {
            "_dom_classes": [],
            "_model_module": "@jupyter-widgets/controls",
            "_model_module_version": "1.5.0",
            "_model_name": "IntSliderModel",
            "_view_count": null,
            "_view_module": "@jupyter-widgets/controls",
            "_view_module_version": "1.5.0",
            "_view_name": "IntSliderView",
            "continuous_update": true,
            "description": "",
            "description_tooltip": null,
            "disabled": false,
            "layout": "IPY_MODEL_6e046237219d46fe95c91583968d470b",
            "max": 3,
            "min": 0,
            "orientation": "horizontal",
            "readout": true,
            "readout_format": "d",
            "step": 1,
            "style": "IPY_MODEL_d194f81aeec44832ba3edd0f793d64fa",
            "value": 1
          }
        },
        "6e046237219d46fe95c91583968d470b": {
          "model_module": "@jupyter-widgets/base",
          "model_name": "LayoutModel",
          "model_module_version": "1.2.0",
          "state": {
            "_model_module": "@jupyter-widgets/base",
            "_model_module_version": "1.2.0",
            "_model_name": "LayoutModel",
            "_view_count": null,
            "_view_module": "@jupyter-widgets/base",
            "_view_module_version": "1.2.0",
            "_view_name": "LayoutView",
            "align_content": null,
            "align_items": null,
            "align_self": null,
            "border": null,
            "bottom": null,
            "display": null,
            "flex": null,
            "flex_flow": null,
            "grid_area": null,
            "grid_auto_columns": null,
            "grid_auto_flow": null,
            "grid_auto_rows": null,
            "grid_column": null,
            "grid_gap": null,
            "grid_row": null,
            "grid_template_areas": null,
            "grid_template_columns": null,
            "grid_template_rows": null,
            "height": null,
            "justify_content": null,
            "justify_items": null,
            "left": null,
            "margin": null,
            "max_height": null,
            "max_width": null,
            "min_height": null,
            "min_width": null,
            "object_fit": null,
            "object_position": null,
            "order": null,
            "overflow": null,
            "overflow_x": null,
            "overflow_y": null,
            "padding": null,
            "right": null,
            "top": null,
            "visibility": null,
            "width": null
          }
        },
        "d194f81aeec44832ba3edd0f793d64fa": {
          "model_module": "@jupyter-widgets/controls",
          "model_name": "SliderStyleModel",
          "model_module_version": "1.5.0",
          "state": {
            "_model_module": "@jupyter-widgets/controls",
            "_model_module_version": "1.5.0",
            "_model_name": "SliderStyleModel",
            "_view_count": null,
            "_view_module": "@jupyter-widgets/base",
            "_view_module_version": "1.2.0",
            "_view_name": "StyleView",
            "description_width": "",
            "handle_color": null
          }
        },
        "cbcd4453c99840ae864a4a4ef3d7f466": {
          "model_module": "@jupyter-widgets/controls",
          "model_name": "LabelModel",
          "model_module_version": "1.5.0",
          "state": {
            "_dom_classes": [],
            "_model_module": "@jupyter-widgets/controls",
            "_model_module_version": "1.5.0",
            "_model_name": "LabelModel",
            "_view_count": null,
            "_view_module": "@jupyter-widgets/controls",
            "_view_module_version": "1.5.0",
            "_view_name": "LabelView",
            "description": "",
            "description_tooltip": null,
            "layout": "IPY_MODEL_39b3e4468c7e42498d7e51f28da04e68",
            "placeholder": "​",
            "style": "IPY_MODEL_01dde9527e424f638d5bce57f34d7cba",
            "value": "Enter Value of trestbps:"
          }
        },
        "39b3e4468c7e42498d7e51f28da04e68": {
          "model_module": "@jupyter-widgets/base",
          "model_name": "LayoutModel",
          "model_module_version": "1.2.0",
          "state": {
            "_model_module": "@jupyter-widgets/base",
            "_model_module_version": "1.2.0",
            "_model_name": "LayoutModel",
            "_view_count": null,
            "_view_module": "@jupyter-widgets/base",
            "_view_module_version": "1.2.0",
            "_view_name": "LayoutView",
            "align_content": null,
            "align_items": null,
            "align_self": null,
            "border": null,
            "bottom": null,
            "display": null,
            "flex": null,
            "flex_flow": null,
            "grid_area": null,
            "grid_auto_columns": null,
            "grid_auto_flow": null,
            "grid_auto_rows": null,
            "grid_column": null,
            "grid_gap": null,
            "grid_row": null,
            "grid_template_areas": null,
            "grid_template_columns": null,
            "grid_template_rows": null,
            "height": null,
            "justify_content": null,
            "justify_items": null,
            "left": null,
            "margin": null,
            "max_height": null,
            "max_width": null,
            "min_height": null,
            "min_width": null,
            "object_fit": null,
            "object_position": null,
            "order": null,
            "overflow": null,
            "overflow_x": null,
            "overflow_y": null,
            "padding": null,
            "right": null,
            "top": null,
            "visibility": null,
            "width": null
          }
        },
        "01dde9527e424f638d5bce57f34d7cba": {
          "model_module": "@jupyter-widgets/controls",
          "model_name": "DescriptionStyleModel",
          "model_module_version": "1.5.0",
          "state": {
            "_model_module": "@jupyter-widgets/controls",
            "_model_module_version": "1.5.0",
            "_model_name": "DescriptionStyleModel",
            "_view_count": null,
            "_view_module": "@jupyter-widgets/base",
            "_view_module_version": "1.2.0",
            "_view_name": "StyleView",
            "description_width": ""
          }
        },
        "0ad7ddd1f76141d0bc23d6e2fb658c59": {
          "model_module": "@jupyter-widgets/controls",
          "model_name": "IntTextModel",
          "model_module_version": "1.5.0",
          "state": {
            "_dom_classes": [],
            "_model_module": "@jupyter-widgets/controls",
            "_model_module_version": "1.5.0",
            "_model_name": "IntTextModel",
            "_view_count": null,
            "_view_module": "@jupyter-widgets/controls",
            "_view_module_version": "1.5.0",
            "_view_name": "IntTextView",
            "continuous_update": false,
            "description": "",
            "description_tooltip": null,
            "disabled": false,
            "layout": "IPY_MODEL_4a898d770d9a47759d56bb3dac283f4f",
            "step": 1,
            "style": "IPY_MODEL_dda11452ba974bfaa7bf48f6598696e2",
            "value": 95
          }
        },
        "4a898d770d9a47759d56bb3dac283f4f": {
          "model_module": "@jupyter-widgets/base",
          "model_name": "LayoutModel",
          "model_module_version": "1.2.0",
          "state": {
            "_model_module": "@jupyter-widgets/base",
            "_model_module_version": "1.2.0",
            "_model_name": "LayoutModel",
            "_view_count": null,
            "_view_module": "@jupyter-widgets/base",
            "_view_module_version": "1.2.0",
            "_view_name": "LayoutView",
            "align_content": null,
            "align_items": null,
            "align_self": null,
            "border": null,
            "bottom": null,
            "display": null,
            "flex": null,
            "flex_flow": null,
            "grid_area": null,
            "grid_auto_columns": null,
            "grid_auto_flow": null,
            "grid_auto_rows": null,
            "grid_column": null,
            "grid_gap": null,
            "grid_row": null,
            "grid_template_areas": null,
            "grid_template_columns": null,
            "grid_template_rows": null,
            "height": null,
            "justify_content": null,
            "justify_items": null,
            "left": null,
            "margin": null,
            "max_height": null,
            "max_width": null,
            "min_height": null,
            "min_width": null,
            "object_fit": null,
            "object_position": null,
            "order": null,
            "overflow": null,
            "overflow_x": null,
            "overflow_y": null,
            "padding": null,
            "right": null,
            "top": null,
            "visibility": null,
            "width": null
          }
        },
        "dda11452ba974bfaa7bf48f6598696e2": {
          "model_module": "@jupyter-widgets/controls",
          "model_name": "DescriptionStyleModel",
          "model_module_version": "1.5.0",
          "state": {
            "_model_module": "@jupyter-widgets/controls",
            "_model_module_version": "1.5.0",
            "_model_name": "DescriptionStyleModel",
            "_view_count": null,
            "_view_module": "@jupyter-widgets/base",
            "_view_module_version": "1.2.0",
            "_view_name": "StyleView",
            "description_width": ""
          }
        },
        "8bd4e8818ff545f6902db70457639e63": {
          "model_module": "@jupyter-widgets/controls",
          "model_name": "LabelModel",
          "model_module_version": "1.5.0",
          "state": {
            "_dom_classes": [],
            "_model_module": "@jupyter-widgets/controls",
            "_model_module_version": "1.5.0",
            "_model_name": "LabelModel",
            "_view_count": null,
            "_view_module": "@jupyter-widgets/controls",
            "_view_module_version": "1.5.0",
            "_view_name": "LabelView",
            "description": "",
            "description_tooltip": null,
            "layout": "IPY_MODEL_bf0647d6be43455d87b6016ac024b9d1",
            "placeholder": "​",
            "style": "IPY_MODEL_5a3a1386ea5742fe984f0fe4e860e58a",
            "value": "Enter Value of chol:"
          }
        },
        "bf0647d6be43455d87b6016ac024b9d1": {
          "model_module": "@jupyter-widgets/base",
          "model_name": "LayoutModel",
          "model_module_version": "1.2.0",
          "state": {
            "_model_module": "@jupyter-widgets/base",
            "_model_module_version": "1.2.0",
            "_model_name": "LayoutModel",
            "_view_count": null,
            "_view_module": "@jupyter-widgets/base",
            "_view_module_version": "1.2.0",
            "_view_name": "LayoutView",
            "align_content": null,
            "align_items": null,
            "align_self": null,
            "border": null,
            "bottom": null,
            "display": null,
            "flex": null,
            "flex_flow": null,
            "grid_area": null,
            "grid_auto_columns": null,
            "grid_auto_flow": null,
            "grid_auto_rows": null,
            "grid_column": null,
            "grid_gap": null,
            "grid_row": null,
            "grid_template_areas": null,
            "grid_template_columns": null,
            "grid_template_rows": null,
            "height": null,
            "justify_content": null,
            "justify_items": null,
            "left": null,
            "margin": null,
            "max_height": null,
            "max_width": null,
            "min_height": null,
            "min_width": null,
            "object_fit": null,
            "object_position": null,
            "order": null,
            "overflow": null,
            "overflow_x": null,
            "overflow_y": null,
            "padding": null,
            "right": null,
            "top": null,
            "visibility": null,
            "width": null
          }
        },
        "5a3a1386ea5742fe984f0fe4e860e58a": {
          "model_module": "@jupyter-widgets/controls",
          "model_name": "DescriptionStyleModel",
          "model_module_version": "1.5.0",
          "state": {
            "_model_module": "@jupyter-widgets/controls",
            "_model_module_version": "1.5.0",
            "_model_name": "DescriptionStyleModel",
            "_view_count": null,
            "_view_module": "@jupyter-widgets/base",
            "_view_module_version": "1.2.0",
            "_view_name": "StyleView",
            "description_width": ""
          }
        },
        "320b8acb19a64d76830b5c2d72f0ae41": {
          "model_module": "@jupyter-widgets/controls",
          "model_name": "IntTextModel",
          "model_module_version": "1.5.0",
          "state": {
            "_dom_classes": [],
            "_model_module": "@jupyter-widgets/controls",
            "_model_module_version": "1.5.0",
            "_model_name": "IntTextModel",
            "_view_count": null,
            "_view_module": "@jupyter-widgets/controls",
            "_view_module_version": "1.5.0",
            "_view_name": "IntTextView",
            "continuous_update": false,
            "description": "",
            "description_tooltip": null,
            "disabled": false,
            "layout": "IPY_MODEL_ffe90b59908a477991d1e22586a39b7d",
            "step": 1,
            "style": "IPY_MODEL_511e93a90ca94447af5bb0ba939d85ef",
            "value": 212
          }
        },
        "ffe90b59908a477991d1e22586a39b7d": {
          "model_module": "@jupyter-widgets/base",
          "model_name": "LayoutModel",
          "model_module_version": "1.2.0",
          "state": {
            "_model_module": "@jupyter-widgets/base",
            "_model_module_version": "1.2.0",
            "_model_name": "LayoutModel",
            "_view_count": null,
            "_view_module": "@jupyter-widgets/base",
            "_view_module_version": "1.2.0",
            "_view_name": "LayoutView",
            "align_content": null,
            "align_items": null,
            "align_self": null,
            "border": null,
            "bottom": null,
            "display": null,
            "flex": null,
            "flex_flow": null,
            "grid_area": null,
            "grid_auto_columns": null,
            "grid_auto_flow": null,
            "grid_auto_rows": null,
            "grid_column": null,
            "grid_gap": null,
            "grid_row": null,
            "grid_template_areas": null,
            "grid_template_columns": null,
            "grid_template_rows": null,
            "height": null,
            "justify_content": null,
            "justify_items": null,
            "left": null,
            "margin": null,
            "max_height": null,
            "max_width": null,
            "min_height": null,
            "min_width": null,
            "object_fit": null,
            "object_position": null,
            "order": null,
            "overflow": null,
            "overflow_x": null,
            "overflow_y": null,
            "padding": null,
            "right": null,
            "top": null,
            "visibility": null,
            "width": null
          }
        },
        "511e93a90ca94447af5bb0ba939d85ef": {
          "model_module": "@jupyter-widgets/controls",
          "model_name": "DescriptionStyleModel",
          "model_module_version": "1.5.0",
          "state": {
            "_model_module": "@jupyter-widgets/controls",
            "_model_module_version": "1.5.0",
            "_model_name": "DescriptionStyleModel",
            "_view_count": null,
            "_view_module": "@jupyter-widgets/base",
            "_view_module_version": "1.2.0",
            "_view_name": "StyleView",
            "description_width": ""
          }
        },
        "504901a694f24c1580b5f8215769b649": {
          "model_module": "@jupyter-widgets/controls",
          "model_name": "LabelModel",
          "model_module_version": "1.5.0",
          "state": {
            "_dom_classes": [],
            "_model_module": "@jupyter-widgets/controls",
            "_model_module_version": "1.5.0",
            "_model_name": "LabelModel",
            "_view_count": null,
            "_view_module": "@jupyter-widgets/controls",
            "_view_module_version": "1.5.0",
            "_view_name": "LabelView",
            "description": "",
            "description_tooltip": null,
            "layout": "IPY_MODEL_c240026c24ac48959b4ab9512c542d13",
            "placeholder": "​",
            "style": "IPY_MODEL_ff5027cdbfa24806b59ef0387f4a4222",
            "value": "Enter Value of fbs:"
          }
        },
        "c240026c24ac48959b4ab9512c542d13": {
          "model_module": "@jupyter-widgets/base",
          "model_name": "LayoutModel",
          "model_module_version": "1.2.0",
          "state": {
            "_model_module": "@jupyter-widgets/base",
            "_model_module_version": "1.2.0",
            "_model_name": "LayoutModel",
            "_view_count": null,
            "_view_module": "@jupyter-widgets/base",
            "_view_module_version": "1.2.0",
            "_view_name": "LayoutView",
            "align_content": null,
            "align_items": null,
            "align_self": null,
            "border": null,
            "bottom": null,
            "display": null,
            "flex": null,
            "flex_flow": null,
            "grid_area": null,
            "grid_auto_columns": null,
            "grid_auto_flow": null,
            "grid_auto_rows": null,
            "grid_column": null,
            "grid_gap": null,
            "grid_row": null,
            "grid_template_areas": null,
            "grid_template_columns": null,
            "grid_template_rows": null,
            "height": null,
            "justify_content": null,
            "justify_items": null,
            "left": null,
            "margin": null,
            "max_height": null,
            "max_width": null,
            "min_height": null,
            "min_width": null,
            "object_fit": null,
            "object_position": null,
            "order": null,
            "overflow": null,
            "overflow_x": null,
            "overflow_y": null,
            "padding": null,
            "right": null,
            "top": null,
            "visibility": null,
            "width": null
          }
        },
        "ff5027cdbfa24806b59ef0387f4a4222": {
          "model_module": "@jupyter-widgets/controls",
          "model_name": "DescriptionStyleModel",
          "model_module_version": "1.5.0",
          "state": {
            "_model_module": "@jupyter-widgets/controls",
            "_model_module_version": "1.5.0",
            "_model_name": "DescriptionStyleModel",
            "_view_count": null,
            "_view_module": "@jupyter-widgets/base",
            "_view_module_version": "1.2.0",
            "_view_name": "StyleView",
            "description_width": ""
          }
        },
        "f9f98a5130cf44a7af5cecf8a220e8f5": {
          "model_module": "@jupyter-widgets/controls",
          "model_name": "IntTextModel",
          "model_module_version": "1.5.0",
          "state": {
            "_dom_classes": [],
            "_model_module": "@jupyter-widgets/controls",
            "_model_module_version": "1.5.0",
            "_model_name": "IntTextModel",
            "_view_count": null,
            "_view_module": "@jupyter-widgets/controls",
            "_view_module_version": "1.5.0",
            "_view_name": "IntTextView",
            "continuous_update": false,
            "description": "",
            "description_tooltip": null,
            "disabled": false,
            "layout": "IPY_MODEL_5db31ead7d814f11ac2a8bfc7d749dfa",
            "step": 1,
            "style": "IPY_MODEL_6359988d934c43fc93987ab25c4f21ae",
            "value": 0
          }
        },
        "5db31ead7d814f11ac2a8bfc7d749dfa": {
          "model_module": "@jupyter-widgets/base",
          "model_name": "LayoutModel",
          "model_module_version": "1.2.0",
          "state": {
            "_model_module": "@jupyter-widgets/base",
            "_model_module_version": "1.2.0",
            "_model_name": "LayoutModel",
            "_view_count": null,
            "_view_module": "@jupyter-widgets/base",
            "_view_module_version": "1.2.0",
            "_view_name": "LayoutView",
            "align_content": null,
            "align_items": null,
            "align_self": null,
            "border": null,
            "bottom": null,
            "display": null,
            "flex": null,
            "flex_flow": null,
            "grid_area": null,
            "grid_auto_columns": null,
            "grid_auto_flow": null,
            "grid_auto_rows": null,
            "grid_column": null,
            "grid_gap": null,
            "grid_row": null,
            "grid_template_areas": null,
            "grid_template_columns": null,
            "grid_template_rows": null,
            "height": null,
            "justify_content": null,
            "justify_items": null,
            "left": null,
            "margin": null,
            "max_height": null,
            "max_width": null,
            "min_height": null,
            "min_width": null,
            "object_fit": null,
            "object_position": null,
            "order": null,
            "overflow": null,
            "overflow_x": null,
            "overflow_y": null,
            "padding": null,
            "right": null,
            "top": null,
            "visibility": null,
            "width": null
          }
        },
        "6359988d934c43fc93987ab25c4f21ae": {
          "model_module": "@jupyter-widgets/controls",
          "model_name": "DescriptionStyleModel",
          "model_module_version": "1.5.0",
          "state": {
            "_model_module": "@jupyter-widgets/controls",
            "_model_module_version": "1.5.0",
            "_model_name": "DescriptionStyleModel",
            "_view_count": null,
            "_view_module": "@jupyter-widgets/base",
            "_view_module_version": "1.2.0",
            "_view_name": "StyleView",
            "description_width": ""
          }
        },
        "d59932f1639942b4b2293b2155d94b8d": {
          "model_module": "@jupyter-widgets/controls",
          "model_name": "LabelModel",
          "model_module_version": "1.5.0",
          "state": {
            "_dom_classes": [],
            "_model_module": "@jupyter-widgets/controls",
            "_model_module_version": "1.5.0",
            "_model_name": "LabelModel",
            "_view_count": null,
            "_view_module": "@jupyter-widgets/controls",
            "_view_module_version": "1.5.0",
            "_view_name": "LabelView",
            "description": "",
            "description_tooltip": null,
            "layout": "IPY_MODEL_1c71408c0e114be0a38b33cdd24e822b",
            "placeholder": "​",
            "style": "IPY_MODEL_b0aed6e408be423cba88c82f3b91a725",
            "value": "Enter Value of restecg:"
          }
        },
        "1c71408c0e114be0a38b33cdd24e822b": {
          "model_module": "@jupyter-widgets/base",
          "model_name": "LayoutModel",
          "model_module_version": "1.2.0",
          "state": {
            "_model_module": "@jupyter-widgets/base",
            "_model_module_version": "1.2.0",
            "_model_name": "LayoutModel",
            "_view_count": null,
            "_view_module": "@jupyter-widgets/base",
            "_view_module_version": "1.2.0",
            "_view_name": "LayoutView",
            "align_content": null,
            "align_items": null,
            "align_self": null,
            "border": null,
            "bottom": null,
            "display": null,
            "flex": null,
            "flex_flow": null,
            "grid_area": null,
            "grid_auto_columns": null,
            "grid_auto_flow": null,
            "grid_auto_rows": null,
            "grid_column": null,
            "grid_gap": null,
            "grid_row": null,
            "grid_template_areas": null,
            "grid_template_columns": null,
            "grid_template_rows": null,
            "height": null,
            "justify_content": null,
            "justify_items": null,
            "left": null,
            "margin": null,
            "max_height": null,
            "max_width": null,
            "min_height": null,
            "min_width": null,
            "object_fit": null,
            "object_position": null,
            "order": null,
            "overflow": null,
            "overflow_x": null,
            "overflow_y": null,
            "padding": null,
            "right": null,
            "top": null,
            "visibility": null,
            "width": null
          }
        },
        "b0aed6e408be423cba88c82f3b91a725": {
          "model_module": "@jupyter-widgets/controls",
          "model_name": "DescriptionStyleModel",
          "model_module_version": "1.5.0",
          "state": {
            "_model_module": "@jupyter-widgets/controls",
            "_model_module_version": "1.5.0",
            "_model_name": "DescriptionStyleModel",
            "_view_count": null,
            "_view_module": "@jupyter-widgets/base",
            "_view_module_version": "1.2.0",
            "_view_name": "StyleView",
            "description_width": ""
          }
        },
        "b8763f7caa574ea9937411e6ec7fa67e": {
          "model_module": "@jupyter-widgets/controls",
          "model_name": "IntSliderModel",
          "model_module_version": "1.5.0",
          "state": {
            "_dom_classes": [],
            "_model_module": "@jupyter-widgets/controls",
            "_model_module_version": "1.5.0",
            "_model_name": "IntSliderModel",
            "_view_count": null,
            "_view_module": "@jupyter-widgets/controls",
            "_view_module_version": "1.5.0",
            "_view_name": "IntSliderView",
            "continuous_update": true,
            "description": "",
            "description_tooltip": null,
            "disabled": false,
            "layout": "IPY_MODEL_e40ee144c0894151ae1f4a4949658151",
            "max": 2,
            "min": 0,
            "orientation": "horizontal",
            "readout": true,
            "readout_format": "d",
            "step": 1,
            "style": "IPY_MODEL_fdeea8f2e668473683ac18b26e29abde",
            "value": 1
          }
        },
        "e40ee144c0894151ae1f4a4949658151": {
          "model_module": "@jupyter-widgets/base",
          "model_name": "LayoutModel",
          "model_module_version": "1.2.0",
          "state": {
            "_model_module": "@jupyter-widgets/base",
            "_model_module_version": "1.2.0",
            "_model_name": "LayoutModel",
            "_view_count": null,
            "_view_module": "@jupyter-widgets/base",
            "_view_module_version": "1.2.0",
            "_view_name": "LayoutView",
            "align_content": null,
            "align_items": null,
            "align_self": null,
            "border": null,
            "bottom": null,
            "display": null,
            "flex": null,
            "flex_flow": null,
            "grid_area": null,
            "grid_auto_columns": null,
            "grid_auto_flow": null,
            "grid_auto_rows": null,
            "grid_column": null,
            "grid_gap": null,
            "grid_row": null,
            "grid_template_areas": null,
            "grid_template_columns": null,
            "grid_template_rows": null,
            "height": null,
            "justify_content": null,
            "justify_items": null,
            "left": null,
            "margin": null,
            "max_height": null,
            "max_width": null,
            "min_height": null,
            "min_width": null,
            "object_fit": null,
            "object_position": null,
            "order": null,
            "overflow": null,
            "overflow_x": null,
            "overflow_y": null,
            "padding": null,
            "right": null,
            "top": null,
            "visibility": null,
            "width": null
          }
        },
        "fdeea8f2e668473683ac18b26e29abde": {
          "model_module": "@jupyter-widgets/controls",
          "model_name": "SliderStyleModel",
          "model_module_version": "1.5.0",
          "state": {
            "_model_module": "@jupyter-widgets/controls",
            "_model_module_version": "1.5.0",
            "_model_name": "SliderStyleModel",
            "_view_count": null,
            "_view_module": "@jupyter-widgets/base",
            "_view_module_version": "1.2.0",
            "_view_name": "StyleView",
            "description_width": "",
            "handle_color": null
          }
        },
        "593bb5f778d84ef192a18055504d20e0": {
          "model_module": "@jupyter-widgets/controls",
          "model_name": "LabelModel",
          "model_module_version": "1.5.0",
          "state": {
            "_dom_classes": [],
            "_model_module": "@jupyter-widgets/controls",
            "_model_module_version": "1.5.0",
            "_model_name": "LabelModel",
            "_view_count": null,
            "_view_module": "@jupyter-widgets/controls",
            "_view_module_version": "1.5.0",
            "_view_name": "LabelView",
            "description": "",
            "description_tooltip": null,
            "layout": "IPY_MODEL_5236a558c5f84ccca72f1b1c57bb77d6",
            "placeholder": "​",
            "style": "IPY_MODEL_8ef1aaf682ec4923adcd731bf13dd189",
            "value": "Enter Value of thalach:"
          }
        },
        "5236a558c5f84ccca72f1b1c57bb77d6": {
          "model_module": "@jupyter-widgets/base",
          "model_name": "LayoutModel",
          "model_module_version": "1.2.0",
          "state": {
            "_model_module": "@jupyter-widgets/base",
            "_model_module_version": "1.2.0",
            "_model_name": "LayoutModel",
            "_view_count": null,
            "_view_module": "@jupyter-widgets/base",
            "_view_module_version": "1.2.0",
            "_view_name": "LayoutView",
            "align_content": null,
            "align_items": null,
            "align_self": null,
            "border": null,
            "bottom": null,
            "display": null,
            "flex": null,
            "flex_flow": null,
            "grid_area": null,
            "grid_auto_columns": null,
            "grid_auto_flow": null,
            "grid_auto_rows": null,
            "grid_column": null,
            "grid_gap": null,
            "grid_row": null,
            "grid_template_areas": null,
            "grid_template_columns": null,
            "grid_template_rows": null,
            "height": null,
            "justify_content": null,
            "justify_items": null,
            "left": null,
            "margin": null,
            "max_height": null,
            "max_width": null,
            "min_height": null,
            "min_width": null,
            "object_fit": null,
            "object_position": null,
            "order": null,
            "overflow": null,
            "overflow_x": null,
            "overflow_y": null,
            "padding": null,
            "right": null,
            "top": null,
            "visibility": null,
            "width": null
          }
        },
        "8ef1aaf682ec4923adcd731bf13dd189": {
          "model_module": "@jupyter-widgets/controls",
          "model_name": "DescriptionStyleModel",
          "model_module_version": "1.5.0",
          "state": {
            "_model_module": "@jupyter-widgets/controls",
            "_model_module_version": "1.5.0",
            "_model_name": "DescriptionStyleModel",
            "_view_count": null,
            "_view_module": "@jupyter-widgets/base",
            "_view_module_version": "1.2.0",
            "_view_name": "StyleView",
            "description_width": ""
          }
        },
        "a4e022a674d64c28be051fe2d747052d": {
          "model_module": "@jupyter-widgets/controls",
          "model_name": "IntTextModel",
          "model_module_version": "1.5.0",
          "state": {
            "_dom_classes": [],
            "_model_module": "@jupyter-widgets/controls",
            "_model_module_version": "1.5.0",
            "_model_name": "IntTextModel",
            "_view_count": null,
            "_view_module": "@jupyter-widgets/controls",
            "_view_module_version": "1.5.0",
            "_view_name": "IntTextView",
            "continuous_update": false,
            "description": "",
            "description_tooltip": null,
            "disabled": false,
            "layout": "IPY_MODEL_d290878642764fbc819d2779b7163e1b",
            "step": 1,
            "style": "IPY_MODEL_1434aa27230146bb9418980abae7f5de",
            "value": 168
          }
        },
        "d290878642764fbc819d2779b7163e1b": {
          "model_module": "@jupyter-widgets/base",
          "model_name": "LayoutModel",
          "model_module_version": "1.2.0",
          "state": {
            "_model_module": "@jupyter-widgets/base",
            "_model_module_version": "1.2.0",
            "_model_name": "LayoutModel",
            "_view_count": null,
            "_view_module": "@jupyter-widgets/base",
            "_view_module_version": "1.2.0",
            "_view_name": "LayoutView",
            "align_content": null,
            "align_items": null,
            "align_self": null,
            "border": null,
            "bottom": null,
            "display": null,
            "flex": null,
            "flex_flow": null,
            "grid_area": null,
            "grid_auto_columns": null,
            "grid_auto_flow": null,
            "grid_auto_rows": null,
            "grid_column": null,
            "grid_gap": null,
            "grid_row": null,
            "grid_template_areas": null,
            "grid_template_columns": null,
            "grid_template_rows": null,
            "height": null,
            "justify_content": null,
            "justify_items": null,
            "left": null,
            "margin": null,
            "max_height": null,
            "max_width": null,
            "min_height": null,
            "min_width": null,
            "object_fit": null,
            "object_position": null,
            "order": null,
            "overflow": null,
            "overflow_x": null,
            "overflow_y": null,
            "padding": null,
            "right": null,
            "top": null,
            "visibility": null,
            "width": null
          }
        },
        "1434aa27230146bb9418980abae7f5de": {
          "model_module": "@jupyter-widgets/controls",
          "model_name": "DescriptionStyleModel",
          "model_module_version": "1.5.0",
          "state": {
            "_model_module": "@jupyter-widgets/controls",
            "_model_module_version": "1.5.0",
            "_model_name": "DescriptionStyleModel",
            "_view_count": null,
            "_view_module": "@jupyter-widgets/base",
            "_view_module_version": "1.2.0",
            "_view_name": "StyleView",
            "description_width": ""
          }
        },
        "f859cb1b19c142c5be6e217d7bb3ee86": {
          "model_module": "@jupyter-widgets/controls",
          "model_name": "LabelModel",
          "model_module_version": "1.5.0",
          "state": {
            "_dom_classes": [],
            "_model_module": "@jupyter-widgets/controls",
            "_model_module_version": "1.5.0",
            "_model_name": "LabelModel",
            "_view_count": null,
            "_view_module": "@jupyter-widgets/controls",
            "_view_module_version": "1.5.0",
            "_view_name": "LabelView",
            "description": "",
            "description_tooltip": null,
            "layout": "IPY_MODEL_f164ef9fbb03456abdeb0b9d8b0b3e26",
            "placeholder": "​",
            "style": "IPY_MODEL_7745b613bc6c47a1b79aa240c430dbe0",
            "value": "Enter Value of exang:"
          }
        },
        "f164ef9fbb03456abdeb0b9d8b0b3e26": {
          "model_module": "@jupyter-widgets/base",
          "model_name": "LayoutModel",
          "model_module_version": "1.2.0",
          "state": {
            "_model_module": "@jupyter-widgets/base",
            "_model_module_version": "1.2.0",
            "_model_name": "LayoutModel",
            "_view_count": null,
            "_view_module": "@jupyter-widgets/base",
            "_view_module_version": "1.2.0",
            "_view_name": "LayoutView",
            "align_content": null,
            "align_items": null,
            "align_self": null,
            "border": null,
            "bottom": null,
            "display": null,
            "flex": null,
            "flex_flow": null,
            "grid_area": null,
            "grid_auto_columns": null,
            "grid_auto_flow": null,
            "grid_auto_rows": null,
            "grid_column": null,
            "grid_gap": null,
            "grid_row": null,
            "grid_template_areas": null,
            "grid_template_columns": null,
            "grid_template_rows": null,
            "height": null,
            "justify_content": null,
            "justify_items": null,
            "left": null,
            "margin": null,
            "max_height": null,
            "max_width": null,
            "min_height": null,
            "min_width": null,
            "object_fit": null,
            "object_position": null,
            "order": null,
            "overflow": null,
            "overflow_x": null,
            "overflow_y": null,
            "padding": null,
            "right": null,
            "top": null,
            "visibility": null,
            "width": null
          }
        },
        "7745b613bc6c47a1b79aa240c430dbe0": {
          "model_module": "@jupyter-widgets/controls",
          "model_name": "DescriptionStyleModel",
          "model_module_version": "1.5.0",
          "state": {
            "_model_module": "@jupyter-widgets/controls",
            "_model_module_version": "1.5.0",
            "_model_name": "DescriptionStyleModel",
            "_view_count": null,
            "_view_module": "@jupyter-widgets/base",
            "_view_module_version": "1.2.0",
            "_view_name": "StyleView",
            "description_width": ""
          }
        },
        "9504c5efdee641d0a6c28add62255321": {
          "model_module": "@jupyter-widgets/controls",
          "model_name": "IntTextModel",
          "model_module_version": "1.5.0",
          "state": {
            "_dom_classes": [],
            "_model_module": "@jupyter-widgets/controls",
            "_model_module_version": "1.5.0",
            "_model_name": "IntTextModel",
            "_view_count": null,
            "_view_module": "@jupyter-widgets/controls",
            "_view_module_version": "1.5.0",
            "_view_name": "IntTextView",
            "continuous_update": false,
            "description": "",
            "description_tooltip": null,
            "disabled": false,
            "layout": "IPY_MODEL_41bcac00aea64b4488ce964346b27d9e",
            "step": 1,
            "style": "IPY_MODEL_df24c2c2984f4ffd91def8fe31b75741",
            "value": 0
          }
        },
        "41bcac00aea64b4488ce964346b27d9e": {
          "model_module": "@jupyter-widgets/base",
          "model_name": "LayoutModel",
          "model_module_version": "1.2.0",
          "state": {
            "_model_module": "@jupyter-widgets/base",
            "_model_module_version": "1.2.0",
            "_model_name": "LayoutModel",
            "_view_count": null,
            "_view_module": "@jupyter-widgets/base",
            "_view_module_version": "1.2.0",
            "_view_name": "LayoutView",
            "align_content": null,
            "align_items": null,
            "align_self": null,
            "border": null,
            "bottom": null,
            "display": null,
            "flex": null,
            "flex_flow": null,
            "grid_area": null,
            "grid_auto_columns": null,
            "grid_auto_flow": null,
            "grid_auto_rows": null,
            "grid_column": null,
            "grid_gap": null,
            "grid_row": null,
            "grid_template_areas": null,
            "grid_template_columns": null,
            "grid_template_rows": null,
            "height": null,
            "justify_content": null,
            "justify_items": null,
            "left": null,
            "margin": null,
            "max_height": null,
            "max_width": null,
            "min_height": null,
            "min_width": null,
            "object_fit": null,
            "object_position": null,
            "order": null,
            "overflow": null,
            "overflow_x": null,
            "overflow_y": null,
            "padding": null,
            "right": null,
            "top": null,
            "visibility": null,
            "width": null
          }
        },
        "df24c2c2984f4ffd91def8fe31b75741": {
          "model_module": "@jupyter-widgets/controls",
          "model_name": "DescriptionStyleModel",
          "model_module_version": "1.5.0",
          "state": {
            "_model_module": "@jupyter-widgets/controls",
            "_model_module_version": "1.5.0",
            "_model_name": "DescriptionStyleModel",
            "_view_count": null,
            "_view_module": "@jupyter-widgets/base",
            "_view_module_version": "1.2.0",
            "_view_name": "StyleView",
            "description_width": ""
          }
        },
        "e5c6b058d820489ba7eea2cd2220ab5d": {
          "model_module": "@jupyter-widgets/controls",
          "model_name": "LabelModel",
          "model_module_version": "1.5.0",
          "state": {
            "_dom_classes": [],
            "_model_module": "@jupyter-widgets/controls",
            "_model_module_version": "1.5.0",
            "_model_name": "LabelModel",
            "_view_count": null,
            "_view_module": "@jupyter-widgets/controls",
            "_view_module_version": "1.5.0",
            "_view_name": "LabelView",
            "description": "",
            "description_tooltip": null,
            "layout": "IPY_MODEL_c2f4539dcdc4465b8cac0709301d30d9",
            "placeholder": "​",
            "style": "IPY_MODEL_9b87cdf1f6a74cc09439b03278dfca69",
            "value": "Enter Value of oldpeak:"
          }
        },
        "c2f4539dcdc4465b8cac0709301d30d9": {
          "model_module": "@jupyter-widgets/base",
          "model_name": "LayoutModel",
          "model_module_version": "1.2.0",
          "state": {
            "_model_module": "@jupyter-widgets/base",
            "_model_module_version": "1.2.0",
            "_model_name": "LayoutModel",
            "_view_count": null,
            "_view_module": "@jupyter-widgets/base",
            "_view_module_version": "1.2.0",
            "_view_name": "LayoutView",
            "align_content": null,
            "align_items": null,
            "align_self": null,
            "border": null,
            "bottom": null,
            "display": null,
            "flex": null,
            "flex_flow": null,
            "grid_area": null,
            "grid_auto_columns": null,
            "grid_auto_flow": null,
            "grid_auto_rows": null,
            "grid_column": null,
            "grid_gap": null,
            "grid_row": null,
            "grid_template_areas": null,
            "grid_template_columns": null,
            "grid_template_rows": null,
            "height": null,
            "justify_content": null,
            "justify_items": null,
            "left": null,
            "margin": null,
            "max_height": null,
            "max_width": null,
            "min_height": null,
            "min_width": null,
            "object_fit": null,
            "object_position": null,
            "order": null,
            "overflow": null,
            "overflow_x": null,
            "overflow_y": null,
            "padding": null,
            "right": null,
            "top": null,
            "visibility": null,
            "width": null
          }
        },
        "9b87cdf1f6a74cc09439b03278dfca69": {
          "model_module": "@jupyter-widgets/controls",
          "model_name": "DescriptionStyleModel",
          "model_module_version": "1.5.0",
          "state": {
            "_model_module": "@jupyter-widgets/controls",
            "_model_module_version": "1.5.0",
            "_model_name": "DescriptionStyleModel",
            "_view_count": null,
            "_view_module": "@jupyter-widgets/base",
            "_view_module_version": "1.2.0",
            "_view_name": "StyleView",
            "description_width": ""
          }
        },
        "074f520238434537a7afd763cfc1e374": {
          "model_module": "@jupyter-widgets/controls",
          "model_name": "FloatTextModel",
          "model_module_version": "1.5.0",
          "state": {
            "_dom_classes": [],
            "_model_module": "@jupyter-widgets/controls",
            "_model_module_version": "1.5.0",
            "_model_name": "FloatTextModel",
            "_view_count": null,
            "_view_module": "@jupyter-widgets/controls",
            "_view_module_version": "1.5.0",
            "_view_name": "FloatTextView",
            "continuous_update": false,
            "description": "",
            "description_tooltip": null,
            "disabled": false,
            "layout": "IPY_MODEL_9588680ed3e748299ea08f7d17ac7750",
            "step": null,
            "style": "IPY_MODEL_d8d0e2fb9404493680ac695818568c24",
            "value": 1
          }
        },
        "9588680ed3e748299ea08f7d17ac7750": {
          "model_module": "@jupyter-widgets/base",
          "model_name": "LayoutModel",
          "model_module_version": "1.2.0",
          "state": {
            "_model_module": "@jupyter-widgets/base",
            "_model_module_version": "1.2.0",
            "_model_name": "LayoutModel",
            "_view_count": null,
            "_view_module": "@jupyter-widgets/base",
            "_view_module_version": "1.2.0",
            "_view_name": "LayoutView",
            "align_content": null,
            "align_items": null,
            "align_self": null,
            "border": null,
            "bottom": null,
            "display": null,
            "flex": null,
            "flex_flow": null,
            "grid_area": null,
            "grid_auto_columns": null,
            "grid_auto_flow": null,
            "grid_auto_rows": null,
            "grid_column": null,
            "grid_gap": null,
            "grid_row": null,
            "grid_template_areas": null,
            "grid_template_columns": null,
            "grid_template_rows": null,
            "height": null,
            "justify_content": null,
            "justify_items": null,
            "left": null,
            "margin": null,
            "max_height": null,
            "max_width": null,
            "min_height": null,
            "min_width": null,
            "object_fit": null,
            "object_position": null,
            "order": null,
            "overflow": null,
            "overflow_x": null,
            "overflow_y": null,
            "padding": null,
            "right": null,
            "top": null,
            "visibility": null,
            "width": null
          }
        },
        "d8d0e2fb9404493680ac695818568c24": {
          "model_module": "@jupyter-widgets/controls",
          "model_name": "DescriptionStyleModel",
          "model_module_version": "1.5.0",
          "state": {
            "_model_module": "@jupyter-widgets/controls",
            "_model_module_version": "1.5.0",
            "_model_name": "DescriptionStyleModel",
            "_view_count": null,
            "_view_module": "@jupyter-widgets/base",
            "_view_module_version": "1.2.0",
            "_view_name": "StyleView",
            "description_width": ""
          }
        },
        "5b398713e00449a1b44e1b7f188048a7": {
          "model_module": "@jupyter-widgets/controls",
          "model_name": "LabelModel",
          "model_module_version": "1.5.0",
          "state": {
            "_dom_classes": [],
            "_model_module": "@jupyter-widgets/controls",
            "_model_module_version": "1.5.0",
            "_model_name": "LabelModel",
            "_view_count": null,
            "_view_module": "@jupyter-widgets/controls",
            "_view_module_version": "1.5.0",
            "_view_name": "LabelView",
            "description": "",
            "description_tooltip": null,
            "layout": "IPY_MODEL_6c5fde8d95af44bcb28378a882ae467f",
            "placeholder": "​",
            "style": "IPY_MODEL_e3720170e7bd4d0f9016a8663cf18e1d",
            "value": "Enter Value of slope:"
          }
        },
        "6c5fde8d95af44bcb28378a882ae467f": {
          "model_module": "@jupyter-widgets/base",
          "model_name": "LayoutModel",
          "model_module_version": "1.2.0",
          "state": {
            "_model_module": "@jupyter-widgets/base",
            "_model_module_version": "1.2.0",
            "_model_name": "LayoutModel",
            "_view_count": null,
            "_view_module": "@jupyter-widgets/base",
            "_view_module_version": "1.2.0",
            "_view_name": "LayoutView",
            "align_content": null,
            "align_items": null,
            "align_self": null,
            "border": null,
            "bottom": null,
            "display": null,
            "flex": null,
            "flex_flow": null,
            "grid_area": null,
            "grid_auto_columns": null,
            "grid_auto_flow": null,
            "grid_auto_rows": null,
            "grid_column": null,
            "grid_gap": null,
            "grid_row": null,
            "grid_template_areas": null,
            "grid_template_columns": null,
            "grid_template_rows": null,
            "height": null,
            "justify_content": null,
            "justify_items": null,
            "left": null,
            "margin": null,
            "max_height": null,
            "max_width": null,
            "min_height": null,
            "min_width": null,
            "object_fit": null,
            "object_position": null,
            "order": null,
            "overflow": null,
            "overflow_x": null,
            "overflow_y": null,
            "padding": null,
            "right": null,
            "top": null,
            "visibility": null,
            "width": null
          }
        },
        "e3720170e7bd4d0f9016a8663cf18e1d": {
          "model_module": "@jupyter-widgets/controls",
          "model_name": "DescriptionStyleModel",
          "model_module_version": "1.5.0",
          "state": {
            "_model_module": "@jupyter-widgets/controls",
            "_model_module_version": "1.5.0",
            "_model_name": "DescriptionStyleModel",
            "_view_count": null,
            "_view_module": "@jupyter-widgets/base",
            "_view_module_version": "1.2.0",
            "_view_name": "StyleView",
            "description_width": ""
          }
        },
        "c928f01f67c44cb3aa7e6d732b52941e": {
          "model_module": "@jupyter-widgets/controls",
          "model_name": "IntSliderModel",
          "model_module_version": "1.5.0",
          "state": {
            "_dom_classes": [],
            "_model_module": "@jupyter-widgets/controls",
            "_model_module_version": "1.5.0",
            "_model_name": "IntSliderModel",
            "_view_count": null,
            "_view_module": "@jupyter-widgets/controls",
            "_view_module_version": "1.5.0",
            "_view_name": "IntSliderView",
            "continuous_update": true,
            "description": "",
            "description_tooltip": null,
            "disabled": false,
            "layout": "IPY_MODEL_faf6a3b7d639487d9190725a80746903",
            "max": 3,
            "min": 1,
            "orientation": "horizontal",
            "readout": true,
            "readout_format": "d",
            "step": 1,
            "style": "IPY_MODEL_42a6a8b91a9b4f12ab77bba59fc5d23e",
            "value": 2
          }
        },
        "faf6a3b7d639487d9190725a80746903": {
          "model_module": "@jupyter-widgets/base",
          "model_name": "LayoutModel",
          "model_module_version": "1.2.0",
          "state": {
            "_model_module": "@jupyter-widgets/base",
            "_model_module_version": "1.2.0",
            "_model_name": "LayoutModel",
            "_view_count": null,
            "_view_module": "@jupyter-widgets/base",
            "_view_module_version": "1.2.0",
            "_view_name": "LayoutView",
            "align_content": null,
            "align_items": null,
            "align_self": null,
            "border": null,
            "bottom": null,
            "display": null,
            "flex": null,
            "flex_flow": null,
            "grid_area": null,
            "grid_auto_columns": null,
            "grid_auto_flow": null,
            "grid_auto_rows": null,
            "grid_column": null,
            "grid_gap": null,
            "grid_row": null,
            "grid_template_areas": null,
            "grid_template_columns": null,
            "grid_template_rows": null,
            "height": null,
            "justify_content": null,
            "justify_items": null,
            "left": null,
            "margin": null,
            "max_height": null,
            "max_width": null,
            "min_height": null,
            "min_width": null,
            "object_fit": null,
            "object_position": null,
            "order": null,
            "overflow": null,
            "overflow_x": null,
            "overflow_y": null,
            "padding": null,
            "right": null,
            "top": null,
            "visibility": null,
            "width": null
          }
        },
        "42a6a8b91a9b4f12ab77bba59fc5d23e": {
          "model_module": "@jupyter-widgets/controls",
          "model_name": "SliderStyleModel",
          "model_module_version": "1.5.0",
          "state": {
            "_model_module": "@jupyter-widgets/controls",
            "_model_module_version": "1.5.0",
            "_model_name": "SliderStyleModel",
            "_view_count": null,
            "_view_module": "@jupyter-widgets/base",
            "_view_module_version": "1.2.0",
            "_view_name": "StyleView",
            "description_width": "",
            "handle_color": null
          }
        },
        "cc38b101767147fb94847b17700b54ba": {
          "model_module": "@jupyter-widgets/controls",
          "model_name": "LabelModel",
          "model_module_version": "1.5.0",
          "state": {
            "_dom_classes": [],
            "_model_module": "@jupyter-widgets/controls",
            "_model_module_version": "1.5.0",
            "_model_name": "LabelModel",
            "_view_count": null,
            "_view_module": "@jupyter-widgets/controls",
            "_view_module_version": "1.5.0",
            "_view_name": "LabelView",
            "description": "",
            "description_tooltip": null,
            "layout": "IPY_MODEL_4217172ca4124db6800a4e74d55a9c26",
            "placeholder": "​",
            "style": "IPY_MODEL_5734f910d4514e49bc3bdb647e37b828",
            "value": "Enter Value of ca:"
          }
        },
        "4217172ca4124db6800a4e74d55a9c26": {
          "model_module": "@jupyter-widgets/base",
          "model_name": "LayoutModel",
          "model_module_version": "1.2.0",
          "state": {
            "_model_module": "@jupyter-widgets/base",
            "_model_module_version": "1.2.0",
            "_model_name": "LayoutModel",
            "_view_count": null,
            "_view_module": "@jupyter-widgets/base",
            "_view_module_version": "1.2.0",
            "_view_name": "LayoutView",
            "align_content": null,
            "align_items": null,
            "align_self": null,
            "border": null,
            "bottom": null,
            "display": null,
            "flex": null,
            "flex_flow": null,
            "grid_area": null,
            "grid_auto_columns": null,
            "grid_auto_flow": null,
            "grid_auto_rows": null,
            "grid_column": null,
            "grid_gap": null,
            "grid_row": null,
            "grid_template_areas": null,
            "grid_template_columns": null,
            "grid_template_rows": null,
            "height": null,
            "justify_content": null,
            "justify_items": null,
            "left": null,
            "margin": null,
            "max_height": null,
            "max_width": null,
            "min_height": null,
            "min_width": null,
            "object_fit": null,
            "object_position": null,
            "order": null,
            "overflow": null,
            "overflow_x": null,
            "overflow_y": null,
            "padding": null,
            "right": null,
            "top": null,
            "visibility": null,
            "width": null
          }
        },
        "5734f910d4514e49bc3bdb647e37b828": {
          "model_module": "@jupyter-widgets/controls",
          "model_name": "DescriptionStyleModel",
          "model_module_version": "1.5.0",
          "state": {
            "_model_module": "@jupyter-widgets/controls",
            "_model_module_version": "1.5.0",
            "_model_name": "DescriptionStyleModel",
            "_view_count": null,
            "_view_module": "@jupyter-widgets/base",
            "_view_module_version": "1.2.0",
            "_view_name": "StyleView",
            "description_width": ""
          }
        },
        "c5191a5a566d47738261ee8765edceee": {
          "model_module": "@jupyter-widgets/controls",
          "model_name": "IntSliderModel",
          "model_module_version": "1.5.0",
          "state": {
            "_dom_classes": [],
            "_model_module": "@jupyter-widgets/controls",
            "_model_module_version": "1.5.0",
            "_model_name": "IntSliderModel",
            "_view_count": null,
            "_view_module": "@jupyter-widgets/controls",
            "_view_module_version": "1.5.0",
            "_view_name": "IntSliderView",
            "continuous_update": true,
            "description": "",
            "description_tooltip": null,
            "disabled": false,
            "layout": "IPY_MODEL_18c56e5a333242e9a6300be2423afb39",
            "max": 3,
            "min": 0,
            "orientation": "horizontal",
            "readout": true,
            "readout_format": "d",
            "step": 1,
            "style": "IPY_MODEL_88ed818f14424524a27d76e587c10a5f",
            "value": 2
          }
        },
        "18c56e5a333242e9a6300be2423afb39": {
          "model_module": "@jupyter-widgets/base",
          "model_name": "LayoutModel",
          "model_module_version": "1.2.0",
          "state": {
            "_model_module": "@jupyter-widgets/base",
            "_model_module_version": "1.2.0",
            "_model_name": "LayoutModel",
            "_view_count": null,
            "_view_module": "@jupyter-widgets/base",
            "_view_module_version": "1.2.0",
            "_view_name": "LayoutView",
            "align_content": null,
            "align_items": null,
            "align_self": null,
            "border": null,
            "bottom": null,
            "display": null,
            "flex": null,
            "flex_flow": null,
            "grid_area": null,
            "grid_auto_columns": null,
            "grid_auto_flow": null,
            "grid_auto_rows": null,
            "grid_column": null,
            "grid_gap": null,
            "grid_row": null,
            "grid_template_areas": null,
            "grid_template_columns": null,
            "grid_template_rows": null,
            "height": null,
            "justify_content": null,
            "justify_items": null,
            "left": null,
            "margin": null,
            "max_height": null,
            "max_width": null,
            "min_height": null,
            "min_width": null,
            "object_fit": null,
            "object_position": null,
            "order": null,
            "overflow": null,
            "overflow_x": null,
            "overflow_y": null,
            "padding": null,
            "right": null,
            "top": null,
            "visibility": null,
            "width": null
          }
        },
        "88ed818f14424524a27d76e587c10a5f": {
          "model_module": "@jupyter-widgets/controls",
          "model_name": "SliderStyleModel",
          "model_module_version": "1.5.0",
          "state": {
            "_model_module": "@jupyter-widgets/controls",
            "_model_module_version": "1.5.0",
            "_model_name": "SliderStyleModel",
            "_view_count": null,
            "_view_module": "@jupyter-widgets/base",
            "_view_module_version": "1.2.0",
            "_view_name": "StyleView",
            "description_width": "",
            "handle_color": null
          }
        },
        "8e0b535693a642bba73f4a2d4cffe5e9": {
          "model_module": "@jupyter-widgets/controls",
          "model_name": "LabelModel",
          "model_module_version": "1.5.0",
          "state": {
            "_dom_classes": [],
            "_model_module": "@jupyter-widgets/controls",
            "_model_module_version": "1.5.0",
            "_model_name": "LabelModel",
            "_view_count": null,
            "_view_module": "@jupyter-widgets/controls",
            "_view_module_version": "1.5.0",
            "_view_name": "LabelView",
            "description": "",
            "description_tooltip": null,
            "layout": "IPY_MODEL_6c873c4aa3214225bde9a0470d76a3f5",
            "placeholder": "​",
            "style": "IPY_MODEL_dab710cdd7a2470d9e27e7ef59a19f41",
            "value": "Enter Value of thal:"
          }
        },
        "6c873c4aa3214225bde9a0470d76a3f5": {
          "model_module": "@jupyter-widgets/base",
          "model_name": "LayoutModel",
          "model_module_version": "1.2.0",
          "state": {
            "_model_module": "@jupyter-widgets/base",
            "_model_module_version": "1.2.0",
            "_model_name": "LayoutModel",
            "_view_count": null,
            "_view_module": "@jupyter-widgets/base",
            "_view_module_version": "1.2.0",
            "_view_name": "LayoutView",
            "align_content": null,
            "align_items": null,
            "align_self": null,
            "border": null,
            "bottom": null,
            "display": null,
            "flex": null,
            "flex_flow": null,
            "grid_area": null,
            "grid_auto_columns": null,
            "grid_auto_flow": null,
            "grid_auto_rows": null,
            "grid_column": null,
            "grid_gap": null,
            "grid_row": null,
            "grid_template_areas": null,
            "grid_template_columns": null,
            "grid_template_rows": null,
            "height": null,
            "justify_content": null,
            "justify_items": null,
            "left": null,
            "margin": null,
            "max_height": null,
            "max_width": null,
            "min_height": null,
            "min_width": null,
            "object_fit": null,
            "object_position": null,
            "order": null,
            "overflow": null,
            "overflow_x": null,
            "overflow_y": null,
            "padding": null,
            "right": null,
            "top": null,
            "visibility": null,
            "width": null
          }
        },
        "dab710cdd7a2470d9e27e7ef59a19f41": {
          "model_module": "@jupyter-widgets/controls",
          "model_name": "DescriptionStyleModel",
          "model_module_version": "1.5.0",
          "state": {
            "_model_module": "@jupyter-widgets/controls",
            "_model_module_version": "1.5.0",
            "_model_name": "DescriptionStyleModel",
            "_view_count": null,
            "_view_module": "@jupyter-widgets/base",
            "_view_module_version": "1.2.0",
            "_view_name": "StyleView",
            "description_width": ""
          }
        },
        "0ff1c90601d64d638900f710f763c123": {
          "model_module": "@jupyter-widgets/controls",
          "model_name": "IntSliderModel",
          "model_module_version": "1.5.0",
          "state": {
            "_dom_classes": [],
            "_model_module": "@jupyter-widgets/controls",
            "_model_module_version": "1.5.0",
            "_model_name": "IntSliderModel",
            "_view_count": null,
            "_view_module": "@jupyter-widgets/controls",
            "_view_module_version": "1.5.0",
            "_view_name": "IntSliderView",
            "continuous_update": true,
            "description": "",
            "description_tooltip": null,
            "disabled": false,
            "layout": "IPY_MODEL_fd985d75223347a4a5f5403d35c056ca",
            "max": 2,
            "min": 0,
            "orientation": "horizontal",
            "readout": true,
            "readout_format": "d",
            "step": 1,
            "style": "IPY_MODEL_0803c5a52c3a4479881d64e0ea00d4be",
            "value": 1
          }
        },
        "fd985d75223347a4a5f5403d35c056ca": {
          "model_module": "@jupyter-widgets/base",
          "model_name": "LayoutModel",
          "model_module_version": "1.2.0",
          "state": {
            "_model_module": "@jupyter-widgets/base",
            "_model_module_version": "1.2.0",
            "_model_name": "LayoutModel",
            "_view_count": null,
            "_view_module": "@jupyter-widgets/base",
            "_view_module_version": "1.2.0",
            "_view_name": "LayoutView",
            "align_content": null,
            "align_items": null,
            "align_self": null,
            "border": null,
            "bottom": null,
            "display": null,
            "flex": null,
            "flex_flow": null,
            "grid_area": null,
            "grid_auto_columns": null,
            "grid_auto_flow": null,
            "grid_auto_rows": null,
            "grid_column": null,
            "grid_gap": null,
            "grid_row": null,
            "grid_template_areas": null,
            "grid_template_columns": null,
            "grid_template_rows": null,
            "height": null,
            "justify_content": null,
            "justify_items": null,
            "left": null,
            "margin": null,
            "max_height": null,
            "max_width": null,
            "min_height": null,
            "min_width": null,
            "object_fit": null,
            "object_position": null,
            "order": null,
            "overflow": null,
            "overflow_x": null,
            "overflow_y": null,
            "padding": null,
            "right": null,
            "top": null,
            "visibility": null,
            "width": null
          }
        },
        "0803c5a52c3a4479881d64e0ea00d4be": {
          "model_module": "@jupyter-widgets/controls",
          "model_name": "SliderStyleModel",
          "model_module_version": "1.5.0",
          "state": {
            "_model_module": "@jupyter-widgets/controls",
            "_model_module_version": "1.5.0",
            "_model_name": "SliderStyleModel",
            "_view_count": null,
            "_view_module": "@jupyter-widgets/base",
            "_view_module_version": "1.2.0",
            "_view_name": "StyleView",
            "description_width": "",
            "handle_color": null
          }
        },
        "caaee8579b164205808ba1d6b2d163bf": {
          "model_module": "@jupyter-widgets/controls",
          "model_name": "ButtonModel",
          "model_module_version": "1.5.0",
          "state": {
            "_dom_classes": [],
            "_model_module": "@jupyter-widgets/controls",
            "_model_module_version": "1.5.0",
            "_model_name": "ButtonModel",
            "_view_count": null,
            "_view_module": "@jupyter-widgets/controls",
            "_view_module_version": "1.5.0",
            "_view_name": "ButtonView",
            "button_style": "",
            "description": "Predict",
            "disabled": false,
            "icon": "",
            "layout": "IPY_MODEL_ca9839d2ef244d90b0dc33b5714ca923",
            "style": "IPY_MODEL_1fa2652bd69743f5a3b4fdb1324635c9",
            "tooltip": ""
          }
        },
        "ca9839d2ef244d90b0dc33b5714ca923": {
          "model_module": "@jupyter-widgets/base",
          "model_name": "LayoutModel",
          "model_module_version": "1.2.0",
          "state": {
            "_model_module": "@jupyter-widgets/base",
            "_model_module_version": "1.2.0",
            "_model_name": "LayoutModel",
            "_view_count": null,
            "_view_module": "@jupyter-widgets/base",
            "_view_module_version": "1.2.0",
            "_view_name": "LayoutView",
            "align_content": null,
            "align_items": null,
            "align_self": null,
            "border": null,
            "bottom": null,
            "display": null,
            "flex": null,
            "flex_flow": null,
            "grid_area": null,
            "grid_auto_columns": null,
            "grid_auto_flow": null,
            "grid_auto_rows": null,
            "grid_column": null,
            "grid_gap": null,
            "grid_row": null,
            "grid_template_areas": null,
            "grid_template_columns": null,
            "grid_template_rows": null,
            "height": null,
            "justify_content": null,
            "justify_items": null,
            "left": null,
            "margin": null,
            "max_height": null,
            "max_width": null,
            "min_height": null,
            "min_width": null,
            "object_fit": null,
            "object_position": null,
            "order": null,
            "overflow": null,
            "overflow_x": null,
            "overflow_y": null,
            "padding": null,
            "right": null,
            "top": null,
            "visibility": null,
            "width": null
          }
        },
        "1fa2652bd69743f5a3b4fdb1324635c9": {
          "model_module": "@jupyter-widgets/controls",
          "model_name": "ButtonStyleModel",
          "model_module_version": "1.5.0",
          "state": {
            "_model_module": "@jupyter-widgets/controls",
            "_model_module_version": "1.5.0",
            "_model_name": "ButtonStyleModel",
            "_view_count": null,
            "_view_module": "@jupyter-widgets/base",
            "_view_module_version": "1.2.0",
            "_view_name": "StyleView",
            "button_color": null,
            "font_weight": ""
          }
        },
        "e4012d73f1774100ab5eff349b83b1c4": {
          "model_module": "@jupyter-widgets/controls",
          "model_name": "LabelModel",
          "model_module_version": "1.5.0",
          "state": {
            "_dom_classes": [],
            "_model_module": "@jupyter-widgets/controls",
            "_model_module_version": "1.5.0",
            "_model_name": "LabelModel",
            "_view_count": null,
            "_view_module": "@jupyter-widgets/controls",
            "_view_module_version": "1.5.0",
            "_view_name": "LabelView",
            "description": "",
            "description_tooltip": null,
            "layout": "IPY_MODEL_b2518ce417ce49809adee2220b0cc58b",
            "placeholder": "​",
            "style": "IPY_MODEL_a1243be41df94011b88a83f52bddc191",
            "value": "Possibility of Heart Disease"
          }
        },
        "b2518ce417ce49809adee2220b0cc58b": {
          "model_module": "@jupyter-widgets/base",
          "model_name": "LayoutModel",
          "model_module_version": "1.2.0",
          "state": {
            "_model_module": "@jupyter-widgets/base",
            "_model_module_version": "1.2.0",
            "_model_name": "LayoutModel",
            "_view_count": null,
            "_view_module": "@jupyter-widgets/base",
            "_view_module_version": "1.2.0",
            "_view_name": "LayoutView",
            "align_content": null,
            "align_items": null,
            "align_self": null,
            "border": null,
            "bottom": null,
            "display": null,
            "flex": null,
            "flex_flow": null,
            "grid_area": null,
            "grid_auto_columns": null,
            "grid_auto_flow": null,
            "grid_auto_rows": null,
            "grid_column": null,
            "grid_gap": null,
            "grid_row": null,
            "grid_template_areas": null,
            "grid_template_columns": null,
            "grid_template_rows": null,
            "height": null,
            "justify_content": null,
            "justify_items": null,
            "left": null,
            "margin": null,
            "max_height": null,
            "max_width": null,
            "min_height": null,
            "min_width": null,
            "object_fit": null,
            "object_position": null,
            "order": null,
            "overflow": null,
            "overflow_x": null,
            "overflow_y": null,
            "padding": null,
            "right": null,
            "top": null,
            "visibility": null,
            "width": null
          }
        },
        "a1243be41df94011b88a83f52bddc191": {
          "model_module": "@jupyter-widgets/controls",
          "model_name": "DescriptionStyleModel",
          "model_module_version": "1.5.0",
          "state": {
            "_model_module": "@jupyter-widgets/controls",
            "_model_module_version": "1.5.0",
            "_model_name": "DescriptionStyleModel",
            "_view_count": null,
            "_view_module": "@jupyter-widgets/base",
            "_view_module_version": "1.2.0",
            "_view_name": "StyleView",
            "description_width": ""
          }
        }
      }
    }
  },
  "cells": [
    {
      "cell_type": "markdown",
      "metadata": {
        "id": "view-in-github",
        "colab_type": "text"
      },
      "source": [
        "<a href=\"https://colab.research.google.com/github/Swetankan/IBM-SkillsBuild-Edunet-Capstone-project/blob/main/Heart_Disease_Prediction_Model.ipynb\" target=\"_parent\"><img src=\"https://colab.research.google.com/assets/colab-badge.svg\" alt=\"Open In Colab\"/></a>"
      ]
    },
    {
      "cell_type": "markdown",
      "source": [
        "### 1.) Importing the Libraries"
      ],
      "metadata": {
        "id": "cZVkhyp_sPZM"
      }
    },
    {
      "cell_type": "code",
      "source": [
        "import pandas as pd"
      ],
      "metadata": {
        "id": "xDoo9MdWwaom"
      },
      "execution_count": 13,
      "outputs": []
    },
    {
      "cell_type": "markdown",
      "source": [
        "### 2.) Importing the Dataset"
      ],
      "metadata": {
        "id": "X1idwL3Psk9F"
      }
    },
    {
      "cell_type": "code",
      "source": [
        "dataset = pd.read_csv('heart_ds.csv')"
      ],
      "metadata": {
        "id": "hd2zEmg0wqGE"
      },
      "execution_count": 15,
      "outputs": []
    },
    {
      "cell_type": "markdown",
      "source": [
        "### 3.) Check for Missing Values"
      ],
      "metadata": {
        "id": "YqQ0YCN9s6kW"
      }
    },
    {
      "cell_type": "code",
      "source": [
        "dataset.isnull().sum()"
      ],
      "metadata": {
        "colab": {
          "base_uri": "https://localhost:8080/"
        },
        "id": "cWslHwj8w113",
        "outputId": "70415d26-093e-4a37-d3eb-0712b669f4a8"
      },
      "execution_count": 16,
      "outputs": [
        {
          "output_type": "execute_result",
          "data": {
            "text/plain": [
              "age         0\n",
              "sex         0\n",
              "cp          0\n",
              "trestbps    0\n",
              "chol        0\n",
              "fbs         0\n",
              "restecg     0\n",
              "thalach     0\n",
              "exang       0\n",
              "oldpeak     0\n",
              "slope       0\n",
              "ca          0\n",
              "thal        0\n",
              "target      0\n",
              "dtype: int64"
            ]
          },
          "metadata": {},
          "execution_count": 16
        }
      ]
    },
    {
      "cell_type": "markdown",
      "source": [
        "### 4.) Check for Duplicate Values"
      ],
      "metadata": {
        "id": "pB2D_GZXs_RO"
      }
    },
    {
      "cell_type": "code",
      "source": [
        "dataset.duplicated().any()"
      ],
      "metadata": {
        "colab": {
          "base_uri": "https://localhost:8080/"
        },
        "id": "zU1qQlsuxl6n",
        "outputId": "edaf4e7b-e565-461f-d5cf-7e48cf955704"
      },
      "execution_count": 26,
      "outputs": [
        {
          "output_type": "execute_result",
          "data": {
            "text/plain": [
              "True"
            ]
          },
          "metadata": {},
          "execution_count": 26
        }
      ]
    },
    {
      "cell_type": "code",
      "source": [
        "dataset = dataset.drop_duplicates()\n"
      ],
      "metadata": {
        "id": "ul-B87m6x-Jw"
      },
      "execution_count": 27,
      "outputs": []
    },
    {
      "cell_type": "code",
      "source": [
        "dataset.duplicated().any()"
      ],
      "metadata": {
        "colab": {
          "base_uri": "https://localhost:8080/"
        },
        "id": "rK14uc8qyCd_",
        "outputId": "629c2dea-9642-42db-a8e6-b06f8d693401"
      },
      "execution_count": 28,
      "outputs": [
        {
          "output_type": "execute_result",
          "data": {
            "text/plain": [
              "False"
            ]
          },
          "metadata": {},
          "execution_count": 28
        }
      ]
    },
    {
      "cell_type": "markdown",
      "source": [
        "### 5.) Processing the Dataset"
      ],
      "metadata": {
        "id": "gXn5O52YtGxl"
      }
    },
    {
      "cell_type": "code",
      "source": [
        "cate_val = []\n",
        "cont_val = []\n",
        "for column in dataset.columns:\n",
        "    if dataset[column].nunique() <=10:\n",
        "        cate_val.append(column)\n",
        "    else:\n",
        "        cont_val.append(column)"
      ],
      "metadata": {
        "id": "Jxja4pPqyRrg"
      },
      "execution_count": 29,
      "outputs": []
    },
    {
      "cell_type": "markdown",
      "source": [
        "### 6.) Categorical Data Encoding"
      ],
      "metadata": {
        "id": "A42cIgW4tPFW"
      }
    },
    {
      "cell_type": "code",
      "source": [
        "cont_val"
      ],
      "metadata": {
        "colab": {
          "base_uri": "https://localhost:8080/"
        },
        "id": "qC1he0uuyaG3",
        "outputId": "899387c7-8f87-408f-ceeb-64282387ac4c"
      },
      "execution_count": 30,
      "outputs": [
        {
          "output_type": "execute_result",
          "data": {
            "text/plain": [
              "['age', 'trestbps', 'chol', 'thalach', 'oldpeak']"
            ]
          },
          "metadata": {},
          "execution_count": 30
        }
      ]
    },
    {
      "cell_type": "code",
      "source": [
        "cate_val"
      ],
      "metadata": {
        "colab": {
          "base_uri": "https://localhost:8080/"
        },
        "id": "jIuCue9xyXD-",
        "outputId": "23f04faf-5376-44f2-9114-0c5294de3a1f"
      },
      "execution_count": 31,
      "outputs": [
        {
          "output_type": "execute_result",
          "data": {
            "text/plain": [
              "['sex', 'cp', 'fbs', 'restecg', 'exang', 'slope', 'ca', 'thal', 'target']"
            ]
          },
          "metadata": {},
          "execution_count": 31
        }
      ]
    },
    {
      "cell_type": "code",
      "source": [
        "dataset['cp'].unique()"
      ],
      "metadata": {
        "colab": {
          "base_uri": "https://localhost:8080/"
        },
        "id": "kF-aG01Sy3SO",
        "outputId": "49d7a7b5-8c1a-4207-fb99-fe550a003fc5"
      },
      "execution_count": 32,
      "outputs": [
        {
          "output_type": "execute_result",
          "data": {
            "text/plain": [
              "array([0, 1, 2, 3])"
            ]
          },
          "metadata": {},
          "execution_count": 32
        }
      ]
    },
    {
      "cell_type": "code",
      "source": [
        "cate_val.remove('sex')\n",
        "cate_val.remove('target')\n",
        "dataset = pd.get_dummies(dataset,columns = cate_val,drop_first=True)"
      ],
      "metadata": {
        "id": "Ltm7s1XozGrq"
      },
      "execution_count": 33,
      "outputs": []
    },
    {
      "cell_type": "code",
      "source": [
        "dataset.head()"
      ],
      "metadata": {
        "colab": {
          "base_uri": "https://localhost:8080/",
          "height": 235
        },
        "id": "eAUWGpeBzMww",
        "outputId": "08afe528-9446-4679-a033-1ecf7e9d1aa3"
      },
      "execution_count": 34,
      "outputs": [
        {
          "output_type": "execute_result",
          "data": {
            "text/plain": [
              "        age  sex  trestbps      chol   thalach   oldpeak  target  cp_1  cp_2  \\\n",
              "0 -0.268437    1 -0.377636 -0.659332  0.821321 -0.060888       0     0     0   \n",
              "1 -0.158157    1  0.479107 -0.833861  0.255968  1.727137       0     0     0   \n",
              "2  1.716595    1  0.764688 -1.396233 -1.048692  1.301417       0     0     0   \n",
              "3  0.724079    1  0.936037 -0.833861  0.516900 -0.912329       0     0     0   \n",
              "4  0.834359    0  0.364875  0.930822 -1.874977  0.705408       0     0     0   \n",
              "\n",
              "   cp_3  ...  exang_1  slope_1  slope_2  ca_1  ca_2  ca_3  ca_4  thal_1  \\\n",
              "0     0  ...        0        0        1     0     1     0     0       0   \n",
              "1     0  ...        1        0        0     0     0     0     0       0   \n",
              "2     0  ...        1        0        0     0     0     0     0       0   \n",
              "3     0  ...        0        0        1     1     0     0     0       0   \n",
              "4     0  ...        0        1        0     0     0     1     0       0   \n",
              "\n",
              "   thal_2  thal_3  \n",
              "0       0       1  \n",
              "1       0       1  \n",
              "2       0       1  \n",
              "3       0       1  \n",
              "4       1       0  \n",
              "\n",
              "[5 rows x 23 columns]"
            ],
            "text/html": [
              "\n",
              "  <div id=\"df-e814ed9b-d83a-44ea-830a-d67c8d12d9ee\" class=\"colab-df-container\">\n",
              "    <div>\n",
              "<style scoped>\n",
              "    .dataframe tbody tr th:only-of-type {\n",
              "        vertical-align: middle;\n",
              "    }\n",
              "\n",
              "    .dataframe tbody tr th {\n",
              "        vertical-align: top;\n",
              "    }\n",
              "\n",
              "    .dataframe thead th {\n",
              "        text-align: right;\n",
              "    }\n",
              "</style>\n",
              "<table border=\"1\" class=\"dataframe\">\n",
              "  <thead>\n",
              "    <tr style=\"text-align: right;\">\n",
              "      <th></th>\n",
              "      <th>age</th>\n",
              "      <th>sex</th>\n",
              "      <th>trestbps</th>\n",
              "      <th>chol</th>\n",
              "      <th>thalach</th>\n",
              "      <th>oldpeak</th>\n",
              "      <th>target</th>\n",
              "      <th>cp_1</th>\n",
              "      <th>cp_2</th>\n",
              "      <th>cp_3</th>\n",
              "      <th>...</th>\n",
              "      <th>exang_1</th>\n",
              "      <th>slope_1</th>\n",
              "      <th>slope_2</th>\n",
              "      <th>ca_1</th>\n",
              "      <th>ca_2</th>\n",
              "      <th>ca_3</th>\n",
              "      <th>ca_4</th>\n",
              "      <th>thal_1</th>\n",
              "      <th>thal_2</th>\n",
              "      <th>thal_3</th>\n",
              "    </tr>\n",
              "  </thead>\n",
              "  <tbody>\n",
              "    <tr>\n",
              "      <th>0</th>\n",
              "      <td>-0.268437</td>\n",
              "      <td>1</td>\n",
              "      <td>-0.377636</td>\n",
              "      <td>-0.659332</td>\n",
              "      <td>0.821321</td>\n",
              "      <td>-0.060888</td>\n",
              "      <td>0</td>\n",
              "      <td>0</td>\n",
              "      <td>0</td>\n",
              "      <td>0</td>\n",
              "      <td>...</td>\n",
              "      <td>0</td>\n",
              "      <td>0</td>\n",
              "      <td>1</td>\n",
              "      <td>0</td>\n",
              "      <td>1</td>\n",
              "      <td>0</td>\n",
              "      <td>0</td>\n",
              "      <td>0</td>\n",
              "      <td>0</td>\n",
              "      <td>1</td>\n",
              "    </tr>\n",
              "    <tr>\n",
              "      <th>1</th>\n",
              "      <td>-0.158157</td>\n",
              "      <td>1</td>\n",
              "      <td>0.479107</td>\n",
              "      <td>-0.833861</td>\n",
              "      <td>0.255968</td>\n",
              "      <td>1.727137</td>\n",
              "      <td>0</td>\n",
              "      <td>0</td>\n",
              "      <td>0</td>\n",
              "      <td>0</td>\n",
              "      <td>...</td>\n",
              "      <td>1</td>\n",
              "      <td>0</td>\n",
              "      <td>0</td>\n",
              "      <td>0</td>\n",
              "      <td>0</td>\n",
              "      <td>0</td>\n",
              "      <td>0</td>\n",
              "      <td>0</td>\n",
              "      <td>0</td>\n",
              "      <td>1</td>\n",
              "    </tr>\n",
              "    <tr>\n",
              "      <th>2</th>\n",
              "      <td>1.716595</td>\n",
              "      <td>1</td>\n",
              "      <td>0.764688</td>\n",
              "      <td>-1.396233</td>\n",
              "      <td>-1.048692</td>\n",
              "      <td>1.301417</td>\n",
              "      <td>0</td>\n",
              "      <td>0</td>\n",
              "      <td>0</td>\n",
              "      <td>0</td>\n",
              "      <td>...</td>\n",
              "      <td>1</td>\n",
              "      <td>0</td>\n",
              "      <td>0</td>\n",
              "      <td>0</td>\n",
              "      <td>0</td>\n",
              "      <td>0</td>\n",
              "      <td>0</td>\n",
              "      <td>0</td>\n",
              "      <td>0</td>\n",
              "      <td>1</td>\n",
              "    </tr>\n",
              "    <tr>\n",
              "      <th>3</th>\n",
              "      <td>0.724079</td>\n",
              "      <td>1</td>\n",
              "      <td>0.936037</td>\n",
              "      <td>-0.833861</td>\n",
              "      <td>0.516900</td>\n",
              "      <td>-0.912329</td>\n",
              "      <td>0</td>\n",
              "      <td>0</td>\n",
              "      <td>0</td>\n",
              "      <td>0</td>\n",
              "      <td>...</td>\n",
              "      <td>0</td>\n",
              "      <td>0</td>\n",
              "      <td>1</td>\n",
              "      <td>1</td>\n",
              "      <td>0</td>\n",
              "      <td>0</td>\n",
              "      <td>0</td>\n",
              "      <td>0</td>\n",
              "      <td>0</td>\n",
              "      <td>1</td>\n",
              "    </tr>\n",
              "    <tr>\n",
              "      <th>4</th>\n",
              "      <td>0.834359</td>\n",
              "      <td>0</td>\n",
              "      <td>0.364875</td>\n",
              "      <td>0.930822</td>\n",
              "      <td>-1.874977</td>\n",
              "      <td>0.705408</td>\n",
              "      <td>0</td>\n",
              "      <td>0</td>\n",
              "      <td>0</td>\n",
              "      <td>0</td>\n",
              "      <td>...</td>\n",
              "      <td>0</td>\n",
              "      <td>1</td>\n",
              "      <td>0</td>\n",
              "      <td>0</td>\n",
              "      <td>0</td>\n",
              "      <td>1</td>\n",
              "      <td>0</td>\n",
              "      <td>0</td>\n",
              "      <td>1</td>\n",
              "      <td>0</td>\n",
              "    </tr>\n",
              "  </tbody>\n",
              "</table>\n",
              "<p>5 rows × 23 columns</p>\n",
              "</div>\n",
              "    <div class=\"colab-df-buttons\">\n",
              "\n",
              "  <div class=\"colab-df-container\">\n",
              "    <button class=\"colab-df-convert\" onclick=\"convertToInteractive('df-e814ed9b-d83a-44ea-830a-d67c8d12d9ee')\"\n",
              "            title=\"Convert this dataframe to an interactive table.\"\n",
              "            style=\"display:none;\">\n",
              "\n",
              "  <svg xmlns=\"http://www.w3.org/2000/svg\" height=\"24px\" viewBox=\"0 -960 960 960\">\n",
              "    <path d=\"M120-120v-720h720v720H120Zm60-500h600v-160H180v160Zm220 220h160v-160H400v160Zm0 220h160v-160H400v160ZM180-400h160v-160H180v160Zm440 0h160v-160H620v160ZM180-180h160v-160H180v160Zm440 0h160v-160H620v160Z\"/>\n",
              "  </svg>\n",
              "    </button>\n",
              "\n",
              "  <style>\n",
              "    .colab-df-container {\n",
              "      display:flex;\n",
              "      gap: 12px;\n",
              "    }\n",
              "\n",
              "    .colab-df-convert {\n",
              "      background-color: #E8F0FE;\n",
              "      border: none;\n",
              "      border-radius: 50%;\n",
              "      cursor: pointer;\n",
              "      display: none;\n",
              "      fill: #1967D2;\n",
              "      height: 32px;\n",
              "      padding: 0 0 0 0;\n",
              "      width: 32px;\n",
              "    }\n",
              "\n",
              "    .colab-df-convert:hover {\n",
              "      background-color: #E2EBFA;\n",
              "      box-shadow: 0px 1px 2px rgba(60, 64, 67, 0.3), 0px 1px 3px 1px rgba(60, 64, 67, 0.15);\n",
              "      fill: #174EA6;\n",
              "    }\n",
              "\n",
              "    .colab-df-buttons div {\n",
              "      margin-bottom: 4px;\n",
              "    }\n",
              "\n",
              "    [theme=dark] .colab-df-convert {\n",
              "      background-color: #3B4455;\n",
              "      fill: #D2E3FC;\n",
              "    }\n",
              "\n",
              "    [theme=dark] .colab-df-convert:hover {\n",
              "      background-color: #434B5C;\n",
              "      box-shadow: 0px 1px 3px 1px rgba(0, 0, 0, 0.15);\n",
              "      filter: drop-shadow(0px 1px 2px rgba(0, 0, 0, 0.3));\n",
              "      fill: #FFFFFF;\n",
              "    }\n",
              "  </style>\n",
              "\n",
              "    <script>\n",
              "      const buttonEl =\n",
              "        document.querySelector('#df-e814ed9b-d83a-44ea-830a-d67c8d12d9ee button.colab-df-convert');\n",
              "      buttonEl.style.display =\n",
              "        google.colab.kernel.accessAllowed ? 'block' : 'none';\n",
              "\n",
              "      async function convertToInteractive(key) {\n",
              "        const element = document.querySelector('#df-e814ed9b-d83a-44ea-830a-d67c8d12d9ee');\n",
              "        const dataTable =\n",
              "          await google.colab.kernel.invokeFunction('convertToInteractive',\n",
              "                                                    [key], {});\n",
              "        if (!dataTable) return;\n",
              "\n",
              "        const docLinkHtml = 'Like what you see? Visit the ' +\n",
              "          '<a target=\"_blank\" href=https://colab.research.google.com/notebooks/data_table.ipynb>data table notebook</a>'\n",
              "          + ' to learn more about interactive tables.';\n",
              "        element.innerHTML = '';\n",
              "        dataTable['output_type'] = 'display_data';\n",
              "        await google.colab.output.renderOutput(dataTable, element);\n",
              "        const docLink = document.createElement('div');\n",
              "        docLink.innerHTML = docLinkHtml;\n",
              "        element.appendChild(docLink);\n",
              "      }\n",
              "    </script>\n",
              "  </div>\n",
              "\n",
              "\n",
              "<div id=\"df-5f926f7f-c50d-4c37-9088-356165cfa4de\">\n",
              "  <button class=\"colab-df-quickchart\" onclick=\"quickchart('df-5f926f7f-c50d-4c37-9088-356165cfa4de')\"\n",
              "            title=\"Suggest charts\"\n",
              "            style=\"display:none;\">\n",
              "\n",
              "<svg xmlns=\"http://www.w3.org/2000/svg\" height=\"24px\"viewBox=\"0 0 24 24\"\n",
              "     width=\"24px\">\n",
              "    <g>\n",
              "        <path d=\"M19 3H5c-1.1 0-2 .9-2 2v14c0 1.1.9 2 2 2h14c1.1 0 2-.9 2-2V5c0-1.1-.9-2-2-2zM9 17H7v-7h2v7zm4 0h-2V7h2v10zm4 0h-2v-4h2v4z\"/>\n",
              "    </g>\n",
              "</svg>\n",
              "  </button>\n",
              "\n",
              "<style>\n",
              "  .colab-df-quickchart {\n",
              "      --bg-color: #E8F0FE;\n",
              "      --fill-color: #1967D2;\n",
              "      --hover-bg-color: #E2EBFA;\n",
              "      --hover-fill-color: #174EA6;\n",
              "      --disabled-fill-color: #AAA;\n",
              "      --disabled-bg-color: #DDD;\n",
              "  }\n",
              "\n",
              "  [theme=dark] .colab-df-quickchart {\n",
              "      --bg-color: #3B4455;\n",
              "      --fill-color: #D2E3FC;\n",
              "      --hover-bg-color: #434B5C;\n",
              "      --hover-fill-color: #FFFFFF;\n",
              "      --disabled-bg-color: #3B4455;\n",
              "      --disabled-fill-color: #666;\n",
              "  }\n",
              "\n",
              "  .colab-df-quickchart {\n",
              "    background-color: var(--bg-color);\n",
              "    border: none;\n",
              "    border-radius: 50%;\n",
              "    cursor: pointer;\n",
              "    display: none;\n",
              "    fill: var(--fill-color);\n",
              "    height: 32px;\n",
              "    padding: 0;\n",
              "    width: 32px;\n",
              "  }\n",
              "\n",
              "  .colab-df-quickchart:hover {\n",
              "    background-color: var(--hover-bg-color);\n",
              "    box-shadow: 0 1px 2px rgba(60, 64, 67, 0.3), 0 1px 3px 1px rgba(60, 64, 67, 0.15);\n",
              "    fill: var(--button-hover-fill-color);\n",
              "  }\n",
              "\n",
              "  .colab-df-quickchart-complete:disabled,\n",
              "  .colab-df-quickchart-complete:disabled:hover {\n",
              "    background-color: var(--disabled-bg-color);\n",
              "    fill: var(--disabled-fill-color);\n",
              "    box-shadow: none;\n",
              "  }\n",
              "\n",
              "  .colab-df-spinner {\n",
              "    border: 2px solid var(--fill-color);\n",
              "    border-color: transparent;\n",
              "    border-bottom-color: var(--fill-color);\n",
              "    animation:\n",
              "      spin 1s steps(1) infinite;\n",
              "  }\n",
              "\n",
              "  @keyframes spin {\n",
              "    0% {\n",
              "      border-color: transparent;\n",
              "      border-bottom-color: var(--fill-color);\n",
              "      border-left-color: var(--fill-color);\n",
              "    }\n",
              "    20% {\n",
              "      border-color: transparent;\n",
              "      border-left-color: var(--fill-color);\n",
              "      border-top-color: var(--fill-color);\n",
              "    }\n",
              "    30% {\n",
              "      border-color: transparent;\n",
              "      border-left-color: var(--fill-color);\n",
              "      border-top-color: var(--fill-color);\n",
              "      border-right-color: var(--fill-color);\n",
              "    }\n",
              "    40% {\n",
              "      border-color: transparent;\n",
              "      border-right-color: var(--fill-color);\n",
              "      border-top-color: var(--fill-color);\n",
              "    }\n",
              "    60% {\n",
              "      border-color: transparent;\n",
              "      border-right-color: var(--fill-color);\n",
              "    }\n",
              "    80% {\n",
              "      border-color: transparent;\n",
              "      border-right-color: var(--fill-color);\n",
              "      border-bottom-color: var(--fill-color);\n",
              "    }\n",
              "    90% {\n",
              "      border-color: transparent;\n",
              "      border-bottom-color: var(--fill-color);\n",
              "    }\n",
              "  }\n",
              "</style>\n",
              "\n",
              "  <script>\n",
              "    async function quickchart(key) {\n",
              "      const quickchartButtonEl =\n",
              "        document.querySelector('#' + key + ' button');\n",
              "      quickchartButtonEl.disabled = true;  // To prevent multiple clicks.\n",
              "      quickchartButtonEl.classList.add('colab-df-spinner');\n",
              "      try {\n",
              "        const charts = await google.colab.kernel.invokeFunction(\n",
              "            'suggestCharts', [key], {});\n",
              "      } catch (error) {\n",
              "        console.error('Error during call to suggestCharts:', error);\n",
              "      }\n",
              "      quickchartButtonEl.classList.remove('colab-df-spinner');\n",
              "      quickchartButtonEl.classList.add('colab-df-quickchart-complete');\n",
              "    }\n",
              "    (() => {\n",
              "      let quickchartButtonEl =\n",
              "        document.querySelector('#df-5f926f7f-c50d-4c37-9088-356165cfa4de button');\n",
              "      quickchartButtonEl.style.display =\n",
              "        google.colab.kernel.accessAllowed ? 'block' : 'none';\n",
              "    })();\n",
              "  </script>\n",
              "</div>\n",
              "\n",
              "    </div>\n",
              "  </div>\n"
            ],
            "application/vnd.google.colaboratory.intrinsic+json": {
              "type": "dataframe",
              "variable_name": "dataset"
            }
          },
          "metadata": {},
          "execution_count": 34
        }
      ]
    },
    {
      "cell_type": "markdown",
      "source": [
        "### 7.) Feature Scaling"
      ],
      "metadata": {
        "id": "7OLbMBFttaKe"
      }
    },
    {
      "cell_type": "code",
      "source": [
        "from sklearn.preprocessing import StandardScaler"
      ],
      "metadata": {
        "id": "rMbr4DJQztKj"
      },
      "execution_count": 41,
      "outputs": []
    },
    {
      "cell_type": "code",
      "source": [
        "st = StandardScaler()\n",
        "dataset[cont_val] = st.fit_transform(dataset[cont_val])"
      ],
      "metadata": {
        "id": "knuL3c_jzvFM"
      },
      "execution_count": 42,
      "outputs": []
    },
    {
      "cell_type": "code",
      "source": [
        "dataset.head()"
      ],
      "metadata": {
        "colab": {
          "base_uri": "https://localhost:8080/",
          "height": 235
        },
        "id": "yxns7G9Gz2Mj",
        "outputId": "b3d56b27-a08f-45ad-e005-10e1914b8650"
      },
      "execution_count": 43,
      "outputs": [
        {
          "output_type": "execute_result",
          "data": {
            "text/plain": [
              "        age  sex  trestbps      chol   thalach   oldpeak  target  cp_1  cp_2  \\\n",
              "0 -0.267966    1 -0.376556 -0.667728  0.806035 -0.037124       0     0     0   \n",
              "1 -0.157260    1  0.478910 -0.841918  0.237495  1.773958       0     0     0   \n",
              "2  1.724733    1  0.764066 -1.403197 -1.074521  1.342748       0     0     0   \n",
              "3  0.728383    1  0.935159 -0.841918  0.499898 -0.899544       0     0     0   \n",
              "4  0.839089    0  0.364848  0.919336 -1.905464  0.739054       0     0     0   \n",
              "\n",
              "   cp_3  ...  exang_1  slope_1  slope_2  ca_1  ca_2  ca_3  ca_4  thal_1  \\\n",
              "0     0  ...        0        0        1     0     1     0     0       0   \n",
              "1     0  ...        1        0        0     0     0     0     0       0   \n",
              "2     0  ...        1        0        0     0     0     0     0       0   \n",
              "3     0  ...        0        0        1     1     0     0     0       0   \n",
              "4     0  ...        0        1        0     0     0     1     0       0   \n",
              "\n",
              "   thal_2  thal_3  \n",
              "0       0       1  \n",
              "1       0       1  \n",
              "2       0       1  \n",
              "3       0       1  \n",
              "4       1       0  \n",
              "\n",
              "[5 rows x 23 columns]"
            ],
            "text/html": [
              "\n",
              "  <div id=\"df-d953f146-5979-4a53-a0d7-47a359d920ba\" class=\"colab-df-container\">\n",
              "    <div>\n",
              "<style scoped>\n",
              "    .dataframe tbody tr th:only-of-type {\n",
              "        vertical-align: middle;\n",
              "    }\n",
              "\n",
              "    .dataframe tbody tr th {\n",
              "        vertical-align: top;\n",
              "    }\n",
              "\n",
              "    .dataframe thead th {\n",
              "        text-align: right;\n",
              "    }\n",
              "</style>\n",
              "<table border=\"1\" class=\"dataframe\">\n",
              "  <thead>\n",
              "    <tr style=\"text-align: right;\">\n",
              "      <th></th>\n",
              "      <th>age</th>\n",
              "      <th>sex</th>\n",
              "      <th>trestbps</th>\n",
              "      <th>chol</th>\n",
              "      <th>thalach</th>\n",
              "      <th>oldpeak</th>\n",
              "      <th>target</th>\n",
              "      <th>cp_1</th>\n",
              "      <th>cp_2</th>\n",
              "      <th>cp_3</th>\n",
              "      <th>...</th>\n",
              "      <th>exang_1</th>\n",
              "      <th>slope_1</th>\n",
              "      <th>slope_2</th>\n",
              "      <th>ca_1</th>\n",
              "      <th>ca_2</th>\n",
              "      <th>ca_3</th>\n",
              "      <th>ca_4</th>\n",
              "      <th>thal_1</th>\n",
              "      <th>thal_2</th>\n",
              "      <th>thal_3</th>\n",
              "    </tr>\n",
              "  </thead>\n",
              "  <tbody>\n",
              "    <tr>\n",
              "      <th>0</th>\n",
              "      <td>-0.267966</td>\n",
              "      <td>1</td>\n",
              "      <td>-0.376556</td>\n",
              "      <td>-0.667728</td>\n",
              "      <td>0.806035</td>\n",
              "      <td>-0.037124</td>\n",
              "      <td>0</td>\n",
              "      <td>0</td>\n",
              "      <td>0</td>\n",
              "      <td>0</td>\n",
              "      <td>...</td>\n",
              "      <td>0</td>\n",
              "      <td>0</td>\n",
              "      <td>1</td>\n",
              "      <td>0</td>\n",
              "      <td>1</td>\n",
              "      <td>0</td>\n",
              "      <td>0</td>\n",
              "      <td>0</td>\n",
              "      <td>0</td>\n",
              "      <td>1</td>\n",
              "    </tr>\n",
              "    <tr>\n",
              "      <th>1</th>\n",
              "      <td>-0.157260</td>\n",
              "      <td>1</td>\n",
              "      <td>0.478910</td>\n",
              "      <td>-0.841918</td>\n",
              "      <td>0.237495</td>\n",
              "      <td>1.773958</td>\n",
              "      <td>0</td>\n",
              "      <td>0</td>\n",
              "      <td>0</td>\n",
              "      <td>0</td>\n",
              "      <td>...</td>\n",
              "      <td>1</td>\n",
              "      <td>0</td>\n",
              "      <td>0</td>\n",
              "      <td>0</td>\n",
              "      <td>0</td>\n",
              "      <td>0</td>\n",
              "      <td>0</td>\n",
              "      <td>0</td>\n",
              "      <td>0</td>\n",
              "      <td>1</td>\n",
              "    </tr>\n",
              "    <tr>\n",
              "      <th>2</th>\n",
              "      <td>1.724733</td>\n",
              "      <td>1</td>\n",
              "      <td>0.764066</td>\n",
              "      <td>-1.403197</td>\n",
              "      <td>-1.074521</td>\n",
              "      <td>1.342748</td>\n",
              "      <td>0</td>\n",
              "      <td>0</td>\n",
              "      <td>0</td>\n",
              "      <td>0</td>\n",
              "      <td>...</td>\n",
              "      <td>1</td>\n",
              "      <td>0</td>\n",
              "      <td>0</td>\n",
              "      <td>0</td>\n",
              "      <td>0</td>\n",
              "      <td>0</td>\n",
              "      <td>0</td>\n",
              "      <td>0</td>\n",
              "      <td>0</td>\n",
              "      <td>1</td>\n",
              "    </tr>\n",
              "    <tr>\n",
              "      <th>3</th>\n",
              "      <td>0.728383</td>\n",
              "      <td>1</td>\n",
              "      <td>0.935159</td>\n",
              "      <td>-0.841918</td>\n",
              "      <td>0.499898</td>\n",
              "      <td>-0.899544</td>\n",
              "      <td>0</td>\n",
              "      <td>0</td>\n",
              "      <td>0</td>\n",
              "      <td>0</td>\n",
              "      <td>...</td>\n",
              "      <td>0</td>\n",
              "      <td>0</td>\n",
              "      <td>1</td>\n",
              "      <td>1</td>\n",
              "      <td>0</td>\n",
              "      <td>0</td>\n",
              "      <td>0</td>\n",
              "      <td>0</td>\n",
              "      <td>0</td>\n",
              "      <td>1</td>\n",
              "    </tr>\n",
              "    <tr>\n",
              "      <th>4</th>\n",
              "      <td>0.839089</td>\n",
              "      <td>0</td>\n",
              "      <td>0.364848</td>\n",
              "      <td>0.919336</td>\n",
              "      <td>-1.905464</td>\n",
              "      <td>0.739054</td>\n",
              "      <td>0</td>\n",
              "      <td>0</td>\n",
              "      <td>0</td>\n",
              "      <td>0</td>\n",
              "      <td>...</td>\n",
              "      <td>0</td>\n",
              "      <td>1</td>\n",
              "      <td>0</td>\n",
              "      <td>0</td>\n",
              "      <td>0</td>\n",
              "      <td>1</td>\n",
              "      <td>0</td>\n",
              "      <td>0</td>\n",
              "      <td>1</td>\n",
              "      <td>0</td>\n",
              "    </tr>\n",
              "  </tbody>\n",
              "</table>\n",
              "<p>5 rows × 23 columns</p>\n",
              "</div>\n",
              "    <div class=\"colab-df-buttons\">\n",
              "\n",
              "  <div class=\"colab-df-container\">\n",
              "    <button class=\"colab-df-convert\" onclick=\"convertToInteractive('df-d953f146-5979-4a53-a0d7-47a359d920ba')\"\n",
              "            title=\"Convert this dataframe to an interactive table.\"\n",
              "            style=\"display:none;\">\n",
              "\n",
              "  <svg xmlns=\"http://www.w3.org/2000/svg\" height=\"24px\" viewBox=\"0 -960 960 960\">\n",
              "    <path d=\"M120-120v-720h720v720H120Zm60-500h600v-160H180v160Zm220 220h160v-160H400v160Zm0 220h160v-160H400v160ZM180-400h160v-160H180v160Zm440 0h160v-160H620v160ZM180-180h160v-160H180v160Zm440 0h160v-160H620v160Z\"/>\n",
              "  </svg>\n",
              "    </button>\n",
              "\n",
              "  <style>\n",
              "    .colab-df-container {\n",
              "      display:flex;\n",
              "      gap: 12px;\n",
              "    }\n",
              "\n",
              "    .colab-df-convert {\n",
              "      background-color: #E8F0FE;\n",
              "      border: none;\n",
              "      border-radius: 50%;\n",
              "      cursor: pointer;\n",
              "      display: none;\n",
              "      fill: #1967D2;\n",
              "      height: 32px;\n",
              "      padding: 0 0 0 0;\n",
              "      width: 32px;\n",
              "    }\n",
              "\n",
              "    .colab-df-convert:hover {\n",
              "      background-color: #E2EBFA;\n",
              "      box-shadow: 0px 1px 2px rgba(60, 64, 67, 0.3), 0px 1px 3px 1px rgba(60, 64, 67, 0.15);\n",
              "      fill: #174EA6;\n",
              "    }\n",
              "\n",
              "    .colab-df-buttons div {\n",
              "      margin-bottom: 4px;\n",
              "    }\n",
              "\n",
              "    [theme=dark] .colab-df-convert {\n",
              "      background-color: #3B4455;\n",
              "      fill: #D2E3FC;\n",
              "    }\n",
              "\n",
              "    [theme=dark] .colab-df-convert:hover {\n",
              "      background-color: #434B5C;\n",
              "      box-shadow: 0px 1px 3px 1px rgba(0, 0, 0, 0.15);\n",
              "      filter: drop-shadow(0px 1px 2px rgba(0, 0, 0, 0.3));\n",
              "      fill: #FFFFFF;\n",
              "    }\n",
              "  </style>\n",
              "\n",
              "    <script>\n",
              "      const buttonEl =\n",
              "        document.querySelector('#df-d953f146-5979-4a53-a0d7-47a359d920ba button.colab-df-convert');\n",
              "      buttonEl.style.display =\n",
              "        google.colab.kernel.accessAllowed ? 'block' : 'none';\n",
              "\n",
              "      async function convertToInteractive(key) {\n",
              "        const element = document.querySelector('#df-d953f146-5979-4a53-a0d7-47a359d920ba');\n",
              "        const dataTable =\n",
              "          await google.colab.kernel.invokeFunction('convertToInteractive',\n",
              "                                                    [key], {});\n",
              "        if (!dataTable) return;\n",
              "\n",
              "        const docLinkHtml = 'Like what you see? Visit the ' +\n",
              "          '<a target=\"_blank\" href=https://colab.research.google.com/notebooks/data_table.ipynb>data table notebook</a>'\n",
              "          + ' to learn more about interactive tables.';\n",
              "        element.innerHTML = '';\n",
              "        dataTable['output_type'] = 'display_data';\n",
              "        await google.colab.output.renderOutput(dataTable, element);\n",
              "        const docLink = document.createElement('div');\n",
              "        docLink.innerHTML = docLinkHtml;\n",
              "        element.appendChild(docLink);\n",
              "      }\n",
              "    </script>\n",
              "  </div>\n",
              "\n",
              "\n",
              "<div id=\"df-0959b2a6-f860-415e-9707-82b670d983d4\">\n",
              "  <button class=\"colab-df-quickchart\" onclick=\"quickchart('df-0959b2a6-f860-415e-9707-82b670d983d4')\"\n",
              "            title=\"Suggest charts\"\n",
              "            style=\"display:none;\">\n",
              "\n",
              "<svg xmlns=\"http://www.w3.org/2000/svg\" height=\"24px\"viewBox=\"0 0 24 24\"\n",
              "     width=\"24px\">\n",
              "    <g>\n",
              "        <path d=\"M19 3H5c-1.1 0-2 .9-2 2v14c0 1.1.9 2 2 2h14c1.1 0 2-.9 2-2V5c0-1.1-.9-2-2-2zM9 17H7v-7h2v7zm4 0h-2V7h2v10zm4 0h-2v-4h2v4z\"/>\n",
              "    </g>\n",
              "</svg>\n",
              "  </button>\n",
              "\n",
              "<style>\n",
              "  .colab-df-quickchart {\n",
              "      --bg-color: #E8F0FE;\n",
              "      --fill-color: #1967D2;\n",
              "      --hover-bg-color: #E2EBFA;\n",
              "      --hover-fill-color: #174EA6;\n",
              "      --disabled-fill-color: #AAA;\n",
              "      --disabled-bg-color: #DDD;\n",
              "  }\n",
              "\n",
              "  [theme=dark] .colab-df-quickchart {\n",
              "      --bg-color: #3B4455;\n",
              "      --fill-color: #D2E3FC;\n",
              "      --hover-bg-color: #434B5C;\n",
              "      --hover-fill-color: #FFFFFF;\n",
              "      --disabled-bg-color: #3B4455;\n",
              "      --disabled-fill-color: #666;\n",
              "  }\n",
              "\n",
              "  .colab-df-quickchart {\n",
              "    background-color: var(--bg-color);\n",
              "    border: none;\n",
              "    border-radius: 50%;\n",
              "    cursor: pointer;\n",
              "    display: none;\n",
              "    fill: var(--fill-color);\n",
              "    height: 32px;\n",
              "    padding: 0;\n",
              "    width: 32px;\n",
              "  }\n",
              "\n",
              "  .colab-df-quickchart:hover {\n",
              "    background-color: var(--hover-bg-color);\n",
              "    box-shadow: 0 1px 2px rgba(60, 64, 67, 0.3), 0 1px 3px 1px rgba(60, 64, 67, 0.15);\n",
              "    fill: var(--button-hover-fill-color);\n",
              "  }\n",
              "\n",
              "  .colab-df-quickchart-complete:disabled,\n",
              "  .colab-df-quickchart-complete:disabled:hover {\n",
              "    background-color: var(--disabled-bg-color);\n",
              "    fill: var(--disabled-fill-color);\n",
              "    box-shadow: none;\n",
              "  }\n",
              "\n",
              "  .colab-df-spinner {\n",
              "    border: 2px solid var(--fill-color);\n",
              "    border-color: transparent;\n",
              "    border-bottom-color: var(--fill-color);\n",
              "    animation:\n",
              "      spin 1s steps(1) infinite;\n",
              "  }\n",
              "\n",
              "  @keyframes spin {\n",
              "    0% {\n",
              "      border-color: transparent;\n",
              "      border-bottom-color: var(--fill-color);\n",
              "      border-left-color: var(--fill-color);\n",
              "    }\n",
              "    20% {\n",
              "      border-color: transparent;\n",
              "      border-left-color: var(--fill-color);\n",
              "      border-top-color: var(--fill-color);\n",
              "    }\n",
              "    30% {\n",
              "      border-color: transparent;\n",
              "      border-left-color: var(--fill-color);\n",
              "      border-top-color: var(--fill-color);\n",
              "      border-right-color: var(--fill-color);\n",
              "    }\n",
              "    40% {\n",
              "      border-color: transparent;\n",
              "      border-right-color: var(--fill-color);\n",
              "      border-top-color: var(--fill-color);\n",
              "    }\n",
              "    60% {\n",
              "      border-color: transparent;\n",
              "      border-right-color: var(--fill-color);\n",
              "    }\n",
              "    80% {\n",
              "      border-color: transparent;\n",
              "      border-right-color: var(--fill-color);\n",
              "      border-bottom-color: var(--fill-color);\n",
              "    }\n",
              "    90% {\n",
              "      border-color: transparent;\n",
              "      border-bottom-color: var(--fill-color);\n",
              "    }\n",
              "  }\n",
              "</style>\n",
              "\n",
              "  <script>\n",
              "    async function quickchart(key) {\n",
              "      const quickchartButtonEl =\n",
              "        document.querySelector('#' + key + ' button');\n",
              "      quickchartButtonEl.disabled = true;  // To prevent multiple clicks.\n",
              "      quickchartButtonEl.classList.add('colab-df-spinner');\n",
              "      try {\n",
              "        const charts = await google.colab.kernel.invokeFunction(\n",
              "            'suggestCharts', [key], {});\n",
              "      } catch (error) {\n",
              "        console.error('Error during call to suggestCharts:', error);\n",
              "      }\n",
              "      quickchartButtonEl.classList.remove('colab-df-spinner');\n",
              "      quickchartButtonEl.classList.add('colab-df-quickchart-complete');\n",
              "    }\n",
              "    (() => {\n",
              "      let quickchartButtonEl =\n",
              "        document.querySelector('#df-0959b2a6-f860-415e-9707-82b670d983d4 button');\n",
              "      quickchartButtonEl.style.display =\n",
              "        google.colab.kernel.accessAllowed ? 'block' : 'none';\n",
              "    })();\n",
              "  </script>\n",
              "</div>\n",
              "\n",
              "    </div>\n",
              "  </div>\n"
            ],
            "application/vnd.google.colaboratory.intrinsic+json": {
              "type": "dataframe",
              "variable_name": "dataset"
            }
          },
          "metadata": {},
          "execution_count": 43
        }
      ]
    },
    {
      "cell_type": "markdown",
      "source": [
        "### 8.) Splitting The Dataset Into The Training Set And Test Set"
      ],
      "metadata": {
        "id": "wPAR2Oa3th9u"
      }
    },
    {
      "cell_type": "code",
      "source": [
        "x = dataset.drop('target',axis=1)"
      ],
      "metadata": {
        "id": "8rTzBBfL0wdv"
      },
      "execution_count": 44,
      "outputs": []
    },
    {
      "cell_type": "code",
      "source": [
        "y = dataset['target']"
      ],
      "metadata": {
        "id": "sXaWFoes07Xd"
      },
      "execution_count": 45,
      "outputs": []
    },
    {
      "cell_type": "code",
      "source": [
        "from sklearn.model_selection import train_test_split"
      ],
      "metadata": {
        "id": "zS3oKW5h1TFi"
      },
      "execution_count": 46,
      "outputs": []
    },
    {
      "cell_type": "code",
      "source": [
        "x_train,x_test,y_train,y_test=train_test_split(x,y,test_size=0.3,\n",
        "                                               random_state=42)"
      ],
      "metadata": {
        "id": "6x1_L1v41Y7L"
      },
      "execution_count": 47,
      "outputs": []
    },
    {
      "cell_type": "code",
      "source": [
        "y_test"
      ],
      "metadata": {
        "colab": {
          "base_uri": "https://localhost:8080/"
        },
        "id": "dtpeiXDJ1hfb",
        "outputId": "467e4eb6-80bc-4f1a-b2d7-e46d949f00d9"
      },
      "execution_count": 48,
      "outputs": [
        {
          "output_type": "execute_result",
          "data": {
            "text/plain": [
              "245    1\n",
              "349    0\n",
              "135    0\n",
              "389    1\n",
              "66     1\n",
              "      ..\n",
              "421    1\n",
              "20     0\n",
              "177    0\n",
              "90     1\n",
              "179    0\n",
              "Name: target, Length: 91, dtype: int64"
            ]
          },
          "metadata": {},
          "execution_count": 48
        }
      ]
    },
    {
      "cell_type": "markdown",
      "source": [
        "### 9.) Logistic Regression"
      ],
      "metadata": {
        "id": "zIF-2HW_toa7"
      }
    },
    {
      "cell_type": "code",
      "source": [
        "dataset.head()"
      ],
      "metadata": {
        "colab": {
          "base_uri": "https://localhost:8080/",
          "height": 235
        },
        "id": "lgJbU04j1l6f",
        "outputId": "5bb6db98-cf72-474b-fc8d-0afe19ac8028"
      },
      "execution_count": 49,
      "outputs": [
        {
          "output_type": "execute_result",
          "data": {
            "text/plain": [
              "        age  sex  trestbps      chol   thalach   oldpeak  target  cp_1  cp_2  \\\n",
              "0 -0.267966    1 -0.376556 -0.667728  0.806035 -0.037124       0     0     0   \n",
              "1 -0.157260    1  0.478910 -0.841918  0.237495  1.773958       0     0     0   \n",
              "2  1.724733    1  0.764066 -1.403197 -1.074521  1.342748       0     0     0   \n",
              "3  0.728383    1  0.935159 -0.841918  0.499898 -0.899544       0     0     0   \n",
              "4  0.839089    0  0.364848  0.919336 -1.905464  0.739054       0     0     0   \n",
              "\n",
              "   cp_3  ...  exang_1  slope_1  slope_2  ca_1  ca_2  ca_3  ca_4  thal_1  \\\n",
              "0     0  ...        0        0        1     0     1     0     0       0   \n",
              "1     0  ...        1        0        0     0     0     0     0       0   \n",
              "2     0  ...        1        0        0     0     0     0     0       0   \n",
              "3     0  ...        0        0        1     1     0     0     0       0   \n",
              "4     0  ...        0        1        0     0     0     1     0       0   \n",
              "\n",
              "   thal_2  thal_3  \n",
              "0       0       1  \n",
              "1       0       1  \n",
              "2       0       1  \n",
              "3       0       1  \n",
              "4       1       0  \n",
              "\n",
              "[5 rows x 23 columns]"
            ],
            "text/html": [
              "\n",
              "  <div id=\"df-564e1e02-2022-4783-84b8-1da64de1e2b4\" class=\"colab-df-container\">\n",
              "    <div>\n",
              "<style scoped>\n",
              "    .dataframe tbody tr th:only-of-type {\n",
              "        vertical-align: middle;\n",
              "    }\n",
              "\n",
              "    .dataframe tbody tr th {\n",
              "        vertical-align: top;\n",
              "    }\n",
              "\n",
              "    .dataframe thead th {\n",
              "        text-align: right;\n",
              "    }\n",
              "</style>\n",
              "<table border=\"1\" class=\"dataframe\">\n",
              "  <thead>\n",
              "    <tr style=\"text-align: right;\">\n",
              "      <th></th>\n",
              "      <th>age</th>\n",
              "      <th>sex</th>\n",
              "      <th>trestbps</th>\n",
              "      <th>chol</th>\n",
              "      <th>thalach</th>\n",
              "      <th>oldpeak</th>\n",
              "      <th>target</th>\n",
              "      <th>cp_1</th>\n",
              "      <th>cp_2</th>\n",
              "      <th>cp_3</th>\n",
              "      <th>...</th>\n",
              "      <th>exang_1</th>\n",
              "      <th>slope_1</th>\n",
              "      <th>slope_2</th>\n",
              "      <th>ca_1</th>\n",
              "      <th>ca_2</th>\n",
              "      <th>ca_3</th>\n",
              "      <th>ca_4</th>\n",
              "      <th>thal_1</th>\n",
              "      <th>thal_2</th>\n",
              "      <th>thal_3</th>\n",
              "    </tr>\n",
              "  </thead>\n",
              "  <tbody>\n",
              "    <tr>\n",
              "      <th>0</th>\n",
              "      <td>-0.267966</td>\n",
              "      <td>1</td>\n",
              "      <td>-0.376556</td>\n",
              "      <td>-0.667728</td>\n",
              "      <td>0.806035</td>\n",
              "      <td>-0.037124</td>\n",
              "      <td>0</td>\n",
              "      <td>0</td>\n",
              "      <td>0</td>\n",
              "      <td>0</td>\n",
              "      <td>...</td>\n",
              "      <td>0</td>\n",
              "      <td>0</td>\n",
              "      <td>1</td>\n",
              "      <td>0</td>\n",
              "      <td>1</td>\n",
              "      <td>0</td>\n",
              "      <td>0</td>\n",
              "      <td>0</td>\n",
              "      <td>0</td>\n",
              "      <td>1</td>\n",
              "    </tr>\n",
              "    <tr>\n",
              "      <th>1</th>\n",
              "      <td>-0.157260</td>\n",
              "      <td>1</td>\n",
              "      <td>0.478910</td>\n",
              "      <td>-0.841918</td>\n",
              "      <td>0.237495</td>\n",
              "      <td>1.773958</td>\n",
              "      <td>0</td>\n",
              "      <td>0</td>\n",
              "      <td>0</td>\n",
              "      <td>0</td>\n",
              "      <td>...</td>\n",
              "      <td>1</td>\n",
              "      <td>0</td>\n",
              "      <td>0</td>\n",
              "      <td>0</td>\n",
              "      <td>0</td>\n",
              "      <td>0</td>\n",
              "      <td>0</td>\n",
              "      <td>0</td>\n",
              "      <td>0</td>\n",
              "      <td>1</td>\n",
              "    </tr>\n",
              "    <tr>\n",
              "      <th>2</th>\n",
              "      <td>1.724733</td>\n",
              "      <td>1</td>\n",
              "      <td>0.764066</td>\n",
              "      <td>-1.403197</td>\n",
              "      <td>-1.074521</td>\n",
              "      <td>1.342748</td>\n",
              "      <td>0</td>\n",
              "      <td>0</td>\n",
              "      <td>0</td>\n",
              "      <td>0</td>\n",
              "      <td>...</td>\n",
              "      <td>1</td>\n",
              "      <td>0</td>\n",
              "      <td>0</td>\n",
              "      <td>0</td>\n",
              "      <td>0</td>\n",
              "      <td>0</td>\n",
              "      <td>0</td>\n",
              "      <td>0</td>\n",
              "      <td>0</td>\n",
              "      <td>1</td>\n",
              "    </tr>\n",
              "    <tr>\n",
              "      <th>3</th>\n",
              "      <td>0.728383</td>\n",
              "      <td>1</td>\n",
              "      <td>0.935159</td>\n",
              "      <td>-0.841918</td>\n",
              "      <td>0.499898</td>\n",
              "      <td>-0.899544</td>\n",
              "      <td>0</td>\n",
              "      <td>0</td>\n",
              "      <td>0</td>\n",
              "      <td>0</td>\n",
              "      <td>...</td>\n",
              "      <td>0</td>\n",
              "      <td>0</td>\n",
              "      <td>1</td>\n",
              "      <td>1</td>\n",
              "      <td>0</td>\n",
              "      <td>0</td>\n",
              "      <td>0</td>\n",
              "      <td>0</td>\n",
              "      <td>0</td>\n",
              "      <td>1</td>\n",
              "    </tr>\n",
              "    <tr>\n",
              "      <th>4</th>\n",
              "      <td>0.839089</td>\n",
              "      <td>0</td>\n",
              "      <td>0.364848</td>\n",
              "      <td>0.919336</td>\n",
              "      <td>-1.905464</td>\n",
              "      <td>0.739054</td>\n",
              "      <td>0</td>\n",
              "      <td>0</td>\n",
              "      <td>0</td>\n",
              "      <td>0</td>\n",
              "      <td>...</td>\n",
              "      <td>0</td>\n",
              "      <td>1</td>\n",
              "      <td>0</td>\n",
              "      <td>0</td>\n",
              "      <td>0</td>\n",
              "      <td>1</td>\n",
              "      <td>0</td>\n",
              "      <td>0</td>\n",
              "      <td>1</td>\n",
              "      <td>0</td>\n",
              "    </tr>\n",
              "  </tbody>\n",
              "</table>\n",
              "<p>5 rows × 23 columns</p>\n",
              "</div>\n",
              "    <div class=\"colab-df-buttons\">\n",
              "\n",
              "  <div class=\"colab-df-container\">\n",
              "    <button class=\"colab-df-convert\" onclick=\"convertToInteractive('df-564e1e02-2022-4783-84b8-1da64de1e2b4')\"\n",
              "            title=\"Convert this dataframe to an interactive table.\"\n",
              "            style=\"display:none;\">\n",
              "\n",
              "  <svg xmlns=\"http://www.w3.org/2000/svg\" height=\"24px\" viewBox=\"0 -960 960 960\">\n",
              "    <path d=\"M120-120v-720h720v720H120Zm60-500h600v-160H180v160Zm220 220h160v-160H400v160Zm0 220h160v-160H400v160ZM180-400h160v-160H180v160Zm440 0h160v-160H620v160ZM180-180h160v-160H180v160Zm440 0h160v-160H620v160Z\"/>\n",
              "  </svg>\n",
              "    </button>\n",
              "\n",
              "  <style>\n",
              "    .colab-df-container {\n",
              "      display:flex;\n",
              "      gap: 12px;\n",
              "    }\n",
              "\n",
              "    .colab-df-convert {\n",
              "      background-color: #E8F0FE;\n",
              "      border: none;\n",
              "      border-radius: 50%;\n",
              "      cursor: pointer;\n",
              "      display: none;\n",
              "      fill: #1967D2;\n",
              "      height: 32px;\n",
              "      padding: 0 0 0 0;\n",
              "      width: 32px;\n",
              "    }\n",
              "\n",
              "    .colab-df-convert:hover {\n",
              "      background-color: #E2EBFA;\n",
              "      box-shadow: 0px 1px 2px rgba(60, 64, 67, 0.3), 0px 1px 3px 1px rgba(60, 64, 67, 0.15);\n",
              "      fill: #174EA6;\n",
              "    }\n",
              "\n",
              "    .colab-df-buttons div {\n",
              "      margin-bottom: 4px;\n",
              "    }\n",
              "\n",
              "    [theme=dark] .colab-df-convert {\n",
              "      background-color: #3B4455;\n",
              "      fill: #D2E3FC;\n",
              "    }\n",
              "\n",
              "    [theme=dark] .colab-df-convert:hover {\n",
              "      background-color: #434B5C;\n",
              "      box-shadow: 0px 1px 3px 1px rgba(0, 0, 0, 0.15);\n",
              "      filter: drop-shadow(0px 1px 2px rgba(0, 0, 0, 0.3));\n",
              "      fill: #FFFFFF;\n",
              "    }\n",
              "  </style>\n",
              "\n",
              "    <script>\n",
              "      const buttonEl =\n",
              "        document.querySelector('#df-564e1e02-2022-4783-84b8-1da64de1e2b4 button.colab-df-convert');\n",
              "      buttonEl.style.display =\n",
              "        google.colab.kernel.accessAllowed ? 'block' : 'none';\n",
              "\n",
              "      async function convertToInteractive(key) {\n",
              "        const element = document.querySelector('#df-564e1e02-2022-4783-84b8-1da64de1e2b4');\n",
              "        const dataTable =\n",
              "          await google.colab.kernel.invokeFunction('convertToInteractive',\n",
              "                                                    [key], {});\n",
              "        if (!dataTable) return;\n",
              "\n",
              "        const docLinkHtml = 'Like what you see? Visit the ' +\n",
              "          '<a target=\"_blank\" href=https://colab.research.google.com/notebooks/data_table.ipynb>data table notebook</a>'\n",
              "          + ' to learn more about interactive tables.';\n",
              "        element.innerHTML = '';\n",
              "        dataTable['output_type'] = 'display_data';\n",
              "        await google.colab.output.renderOutput(dataTable, element);\n",
              "        const docLink = document.createElement('div');\n",
              "        docLink.innerHTML = docLinkHtml;\n",
              "        element.appendChild(docLink);\n",
              "      }\n",
              "    </script>\n",
              "  </div>\n",
              "\n",
              "\n",
              "<div id=\"df-1947af04-f9a9-4a5c-83d3-40bd0e0db333\">\n",
              "  <button class=\"colab-df-quickchart\" onclick=\"quickchart('df-1947af04-f9a9-4a5c-83d3-40bd0e0db333')\"\n",
              "            title=\"Suggest charts\"\n",
              "            style=\"display:none;\">\n",
              "\n",
              "<svg xmlns=\"http://www.w3.org/2000/svg\" height=\"24px\"viewBox=\"0 0 24 24\"\n",
              "     width=\"24px\">\n",
              "    <g>\n",
              "        <path d=\"M19 3H5c-1.1 0-2 .9-2 2v14c0 1.1.9 2 2 2h14c1.1 0 2-.9 2-2V5c0-1.1-.9-2-2-2zM9 17H7v-7h2v7zm4 0h-2V7h2v10zm4 0h-2v-4h2v4z\"/>\n",
              "    </g>\n",
              "</svg>\n",
              "  </button>\n",
              "\n",
              "<style>\n",
              "  .colab-df-quickchart {\n",
              "      --bg-color: #E8F0FE;\n",
              "      --fill-color: #1967D2;\n",
              "      --hover-bg-color: #E2EBFA;\n",
              "      --hover-fill-color: #174EA6;\n",
              "      --disabled-fill-color: #AAA;\n",
              "      --disabled-bg-color: #DDD;\n",
              "  }\n",
              "\n",
              "  [theme=dark] .colab-df-quickchart {\n",
              "      --bg-color: #3B4455;\n",
              "      --fill-color: #D2E3FC;\n",
              "      --hover-bg-color: #434B5C;\n",
              "      --hover-fill-color: #FFFFFF;\n",
              "      --disabled-bg-color: #3B4455;\n",
              "      --disabled-fill-color: #666;\n",
              "  }\n",
              "\n",
              "  .colab-df-quickchart {\n",
              "    background-color: var(--bg-color);\n",
              "    border: none;\n",
              "    border-radius: 50%;\n",
              "    cursor: pointer;\n",
              "    display: none;\n",
              "    fill: var(--fill-color);\n",
              "    height: 32px;\n",
              "    padding: 0;\n",
              "    width: 32px;\n",
              "  }\n",
              "\n",
              "  .colab-df-quickchart:hover {\n",
              "    background-color: var(--hover-bg-color);\n",
              "    box-shadow: 0 1px 2px rgba(60, 64, 67, 0.3), 0 1px 3px 1px rgba(60, 64, 67, 0.15);\n",
              "    fill: var(--button-hover-fill-color);\n",
              "  }\n",
              "\n",
              "  .colab-df-quickchart-complete:disabled,\n",
              "  .colab-df-quickchart-complete:disabled:hover {\n",
              "    background-color: var(--disabled-bg-color);\n",
              "    fill: var(--disabled-fill-color);\n",
              "    box-shadow: none;\n",
              "  }\n",
              "\n",
              "  .colab-df-spinner {\n",
              "    border: 2px solid var(--fill-color);\n",
              "    border-color: transparent;\n",
              "    border-bottom-color: var(--fill-color);\n",
              "    animation:\n",
              "      spin 1s steps(1) infinite;\n",
              "  }\n",
              "\n",
              "  @keyframes spin {\n",
              "    0% {\n",
              "      border-color: transparent;\n",
              "      border-bottom-color: var(--fill-color);\n",
              "      border-left-color: var(--fill-color);\n",
              "    }\n",
              "    20% {\n",
              "      border-color: transparent;\n",
              "      border-left-color: var(--fill-color);\n",
              "      border-top-color: var(--fill-color);\n",
              "    }\n",
              "    30% {\n",
              "      border-color: transparent;\n",
              "      border-left-color: var(--fill-color);\n",
              "      border-top-color: var(--fill-color);\n",
              "      border-right-color: var(--fill-color);\n",
              "    }\n",
              "    40% {\n",
              "      border-color: transparent;\n",
              "      border-right-color: var(--fill-color);\n",
              "      border-top-color: var(--fill-color);\n",
              "    }\n",
              "    60% {\n",
              "      border-color: transparent;\n",
              "      border-right-color: var(--fill-color);\n",
              "    }\n",
              "    80% {\n",
              "      border-color: transparent;\n",
              "      border-right-color: var(--fill-color);\n",
              "      border-bottom-color: var(--fill-color);\n",
              "    }\n",
              "    90% {\n",
              "      border-color: transparent;\n",
              "      border-bottom-color: var(--fill-color);\n",
              "    }\n",
              "  }\n",
              "</style>\n",
              "\n",
              "  <script>\n",
              "    async function quickchart(key) {\n",
              "      const quickchartButtonEl =\n",
              "        document.querySelector('#' + key + ' button');\n",
              "      quickchartButtonEl.disabled = true;  // To prevent multiple clicks.\n",
              "      quickchartButtonEl.classList.add('colab-df-spinner');\n",
              "      try {\n",
              "        const charts = await google.colab.kernel.invokeFunction(\n",
              "            'suggestCharts', [key], {});\n",
              "      } catch (error) {\n",
              "        console.error('Error during call to suggestCharts:', error);\n",
              "      }\n",
              "      quickchartButtonEl.classList.remove('colab-df-spinner');\n",
              "      quickchartButtonEl.classList.add('colab-df-quickchart-complete');\n",
              "    }\n",
              "    (() => {\n",
              "      let quickchartButtonEl =\n",
              "        document.querySelector('#df-1947af04-f9a9-4a5c-83d3-40bd0e0db333 button');\n",
              "      quickchartButtonEl.style.display =\n",
              "        google.colab.kernel.accessAllowed ? 'block' : 'none';\n",
              "    })();\n",
              "  </script>\n",
              "</div>\n",
              "\n",
              "    </div>\n",
              "  </div>\n"
            ],
            "application/vnd.google.colaboratory.intrinsic+json": {
              "type": "dataframe",
              "variable_name": "dataset"
            }
          },
          "metadata": {},
          "execution_count": 49
        }
      ]
    },
    {
      "cell_type": "code",
      "source": [
        "from sklearn.linear_model import LogisticRegression"
      ],
      "metadata": {
        "id": "7f7GdMyU1sTP"
      },
      "execution_count": 50,
      "outputs": []
    },
    {
      "cell_type": "code",
      "source": [
        "log = LogisticRegression()\n",
        "log.fit(x_train,y_train)"
      ],
      "metadata": {
        "colab": {
          "base_uri": "https://localhost:8080/",
          "height": 74
        },
        "id": "kJy92_zH1uh3",
        "outputId": "e479545e-e908-479f-ab38-fd79cc8aa904"
      },
      "execution_count": 51,
      "outputs": [
        {
          "output_type": "execute_result",
          "data": {
            "text/plain": [
              "LogisticRegression()"
            ],
            "text/html": [
              "<style>#sk-container-id-1 {color: black;background-color: white;}#sk-container-id-1 pre{padding: 0;}#sk-container-id-1 div.sk-toggleable {background-color: white;}#sk-container-id-1 label.sk-toggleable__label {cursor: pointer;display: block;width: 100%;margin-bottom: 0;padding: 0.3em;box-sizing: border-box;text-align: center;}#sk-container-id-1 label.sk-toggleable__label-arrow:before {content: \"▸\";float: left;margin-right: 0.25em;color: #696969;}#sk-container-id-1 label.sk-toggleable__label-arrow:hover:before {color: black;}#sk-container-id-1 div.sk-estimator:hover label.sk-toggleable__label-arrow:before {color: black;}#sk-container-id-1 div.sk-toggleable__content {max-height: 0;max-width: 0;overflow: hidden;text-align: left;background-color: #f0f8ff;}#sk-container-id-1 div.sk-toggleable__content pre {margin: 0.2em;color: black;border-radius: 0.25em;background-color: #f0f8ff;}#sk-container-id-1 input.sk-toggleable__control:checked~div.sk-toggleable__content {max-height: 200px;max-width: 100%;overflow: auto;}#sk-container-id-1 input.sk-toggleable__control:checked~label.sk-toggleable__label-arrow:before {content: \"▾\";}#sk-container-id-1 div.sk-estimator input.sk-toggleable__control:checked~label.sk-toggleable__label {background-color: #d4ebff;}#sk-container-id-1 div.sk-label input.sk-toggleable__control:checked~label.sk-toggleable__label {background-color: #d4ebff;}#sk-container-id-1 input.sk-hidden--visually {border: 0;clip: rect(1px 1px 1px 1px);clip: rect(1px, 1px, 1px, 1px);height: 1px;margin: -1px;overflow: hidden;padding: 0;position: absolute;width: 1px;}#sk-container-id-1 div.sk-estimator {font-family: monospace;background-color: #f0f8ff;border: 1px dotted black;border-radius: 0.25em;box-sizing: border-box;margin-bottom: 0.5em;}#sk-container-id-1 div.sk-estimator:hover {background-color: #d4ebff;}#sk-container-id-1 div.sk-parallel-item::after {content: \"\";width: 100%;border-bottom: 1px solid gray;flex-grow: 1;}#sk-container-id-1 div.sk-label:hover label.sk-toggleable__label {background-color: #d4ebff;}#sk-container-id-1 div.sk-serial::before {content: \"\";position: absolute;border-left: 1px solid gray;box-sizing: border-box;top: 0;bottom: 0;left: 50%;z-index: 0;}#sk-container-id-1 div.sk-serial {display: flex;flex-direction: column;align-items: center;background-color: white;padding-right: 0.2em;padding-left: 0.2em;position: relative;}#sk-container-id-1 div.sk-item {position: relative;z-index: 1;}#sk-container-id-1 div.sk-parallel {display: flex;align-items: stretch;justify-content: center;background-color: white;position: relative;}#sk-container-id-1 div.sk-item::before, #sk-container-id-1 div.sk-parallel-item::before {content: \"\";position: absolute;border-left: 1px solid gray;box-sizing: border-box;top: 0;bottom: 0;left: 50%;z-index: -1;}#sk-container-id-1 div.sk-parallel-item {display: flex;flex-direction: column;z-index: 1;position: relative;background-color: white;}#sk-container-id-1 div.sk-parallel-item:first-child::after {align-self: flex-end;width: 50%;}#sk-container-id-1 div.sk-parallel-item:last-child::after {align-self: flex-start;width: 50%;}#sk-container-id-1 div.sk-parallel-item:only-child::after {width: 0;}#sk-container-id-1 div.sk-dashed-wrapped {border: 1px dashed gray;margin: 0 0.4em 0.5em 0.4em;box-sizing: border-box;padding-bottom: 0.4em;background-color: white;}#sk-container-id-1 div.sk-label label {font-family: monospace;font-weight: bold;display: inline-block;line-height: 1.2em;}#sk-container-id-1 div.sk-label-container {text-align: center;}#sk-container-id-1 div.sk-container {/* jupyter's `normalize.less` sets `[hidden] { display: none; }` but bootstrap.min.css set `[hidden] { display: none !important; }` so we also need the `!important` here to be able to override the default hidden behavior on the sphinx rendered scikit-learn.org. See: https://github.com/scikit-learn/scikit-learn/issues/21755 */display: inline-block !important;position: relative;}#sk-container-id-1 div.sk-text-repr-fallback {display: none;}</style><div id=\"sk-container-id-1\" class=\"sk-top-container\"><div class=\"sk-text-repr-fallback\"><pre>LogisticRegression()</pre><b>In a Jupyter environment, please rerun this cell to show the HTML representation or trust the notebook. <br />On GitHub, the HTML representation is unable to render, please try loading this page with nbviewer.org.</b></div><div class=\"sk-container\" hidden><div class=\"sk-item\"><div class=\"sk-estimator sk-toggleable\"><input class=\"sk-toggleable__control sk-hidden--visually\" id=\"sk-estimator-id-1\" type=\"checkbox\" checked><label for=\"sk-estimator-id-1\" class=\"sk-toggleable__label sk-toggleable__label-arrow\">LogisticRegression</label><div class=\"sk-toggleable__content\"><pre>LogisticRegression()</pre></div></div></div></div></div>"
            ]
          },
          "metadata": {},
          "execution_count": 51
        }
      ]
    },
    {
      "cell_type": "code",
      "source": [
        "y_predict_lr = log.predict(x_test)"
      ],
      "metadata": {
        "id": "aQECiIkf2plY"
      },
      "execution_count": 52,
      "outputs": []
    },
    {
      "cell_type": "code",
      "source": [
        "from sklearn.metrics import accuracy_score"
      ],
      "metadata": {
        "id": "h5bPwjUX2waw"
      },
      "execution_count": 53,
      "outputs": []
    },
    {
      "cell_type": "code",
      "source": [
        "print(\"Logistic Regression Method is\",(accuracy_score(y_test,y_predict_lr))*100,\"%\",\"accurate on this dataset.\")"
      ],
      "metadata": {
        "colab": {
          "base_uri": "https://localhost:8080/"
        },
        "id": "0eJfI9TM2xz4",
        "outputId": "0f475e1e-2e0a-4f46-fe16-d65df41a49ac"
      },
      "execution_count": 54,
      "outputs": [
        {
          "output_type": "stream",
          "name": "stdout",
          "text": [
            "Logistic Regression Method is 84.61538461538461 % accurate on this dataset.\n"
          ]
        }
      ]
    },
    {
      "cell_type": "markdown",
      "source": [
        "### 10.) SVC"
      ],
      "metadata": {
        "id": "KGsdDewfu985"
      }
    },
    {
      "cell_type": "code",
      "source": [
        "from sklearn import svm"
      ],
      "metadata": {
        "id": "zVBZTBnK3Qlh"
      },
      "execution_count": 55,
      "outputs": []
    },
    {
      "cell_type": "code",
      "source": [
        "svm = svm.SVC()"
      ],
      "metadata": {
        "id": "GOhHmgN63RUz"
      },
      "execution_count": 56,
      "outputs": []
    },
    {
      "cell_type": "code",
      "source": [
        "svm.fit(x_train,y_train)"
      ],
      "metadata": {
        "colab": {
          "base_uri": "https://localhost:8080/",
          "height": 74
        },
        "id": "CYFUqhOR3Wd5",
        "outputId": "e5f6b41b-227c-41b5-9ada-348c2169595e"
      },
      "execution_count": 57,
      "outputs": [
        {
          "output_type": "execute_result",
          "data": {
            "text/plain": [
              "SVC()"
            ],
            "text/html": [
              "<style>#sk-container-id-2 {color: black;background-color: white;}#sk-container-id-2 pre{padding: 0;}#sk-container-id-2 div.sk-toggleable {background-color: white;}#sk-container-id-2 label.sk-toggleable__label {cursor: pointer;display: block;width: 100%;margin-bottom: 0;padding: 0.3em;box-sizing: border-box;text-align: center;}#sk-container-id-2 label.sk-toggleable__label-arrow:before {content: \"▸\";float: left;margin-right: 0.25em;color: #696969;}#sk-container-id-2 label.sk-toggleable__label-arrow:hover:before {color: black;}#sk-container-id-2 div.sk-estimator:hover label.sk-toggleable__label-arrow:before {color: black;}#sk-container-id-2 div.sk-toggleable__content {max-height: 0;max-width: 0;overflow: hidden;text-align: left;background-color: #f0f8ff;}#sk-container-id-2 div.sk-toggleable__content pre {margin: 0.2em;color: black;border-radius: 0.25em;background-color: #f0f8ff;}#sk-container-id-2 input.sk-toggleable__control:checked~div.sk-toggleable__content {max-height: 200px;max-width: 100%;overflow: auto;}#sk-container-id-2 input.sk-toggleable__control:checked~label.sk-toggleable__label-arrow:before {content: \"▾\";}#sk-container-id-2 div.sk-estimator input.sk-toggleable__control:checked~label.sk-toggleable__label {background-color: #d4ebff;}#sk-container-id-2 div.sk-label input.sk-toggleable__control:checked~label.sk-toggleable__label {background-color: #d4ebff;}#sk-container-id-2 input.sk-hidden--visually {border: 0;clip: rect(1px 1px 1px 1px);clip: rect(1px, 1px, 1px, 1px);height: 1px;margin: -1px;overflow: hidden;padding: 0;position: absolute;width: 1px;}#sk-container-id-2 div.sk-estimator {font-family: monospace;background-color: #f0f8ff;border: 1px dotted black;border-radius: 0.25em;box-sizing: border-box;margin-bottom: 0.5em;}#sk-container-id-2 div.sk-estimator:hover {background-color: #d4ebff;}#sk-container-id-2 div.sk-parallel-item::after {content: \"\";width: 100%;border-bottom: 1px solid gray;flex-grow: 1;}#sk-container-id-2 div.sk-label:hover label.sk-toggleable__label {background-color: #d4ebff;}#sk-container-id-2 div.sk-serial::before {content: \"\";position: absolute;border-left: 1px solid gray;box-sizing: border-box;top: 0;bottom: 0;left: 50%;z-index: 0;}#sk-container-id-2 div.sk-serial {display: flex;flex-direction: column;align-items: center;background-color: white;padding-right: 0.2em;padding-left: 0.2em;position: relative;}#sk-container-id-2 div.sk-item {position: relative;z-index: 1;}#sk-container-id-2 div.sk-parallel {display: flex;align-items: stretch;justify-content: center;background-color: white;position: relative;}#sk-container-id-2 div.sk-item::before, #sk-container-id-2 div.sk-parallel-item::before {content: \"\";position: absolute;border-left: 1px solid gray;box-sizing: border-box;top: 0;bottom: 0;left: 50%;z-index: -1;}#sk-container-id-2 div.sk-parallel-item {display: flex;flex-direction: column;z-index: 1;position: relative;background-color: white;}#sk-container-id-2 div.sk-parallel-item:first-child::after {align-self: flex-end;width: 50%;}#sk-container-id-2 div.sk-parallel-item:last-child::after {align-self: flex-start;width: 50%;}#sk-container-id-2 div.sk-parallel-item:only-child::after {width: 0;}#sk-container-id-2 div.sk-dashed-wrapped {border: 1px dashed gray;margin: 0 0.4em 0.5em 0.4em;box-sizing: border-box;padding-bottom: 0.4em;background-color: white;}#sk-container-id-2 div.sk-label label {font-family: monospace;font-weight: bold;display: inline-block;line-height: 1.2em;}#sk-container-id-2 div.sk-label-container {text-align: center;}#sk-container-id-2 div.sk-container {/* jupyter's `normalize.less` sets `[hidden] { display: none; }` but bootstrap.min.css set `[hidden] { display: none !important; }` so we also need the `!important` here to be able to override the default hidden behavior on the sphinx rendered scikit-learn.org. See: https://github.com/scikit-learn/scikit-learn/issues/21755 */display: inline-block !important;position: relative;}#sk-container-id-2 div.sk-text-repr-fallback {display: none;}</style><div id=\"sk-container-id-2\" class=\"sk-top-container\"><div class=\"sk-text-repr-fallback\"><pre>SVC()</pre><b>In a Jupyter environment, please rerun this cell to show the HTML representation or trust the notebook. <br />On GitHub, the HTML representation is unable to render, please try loading this page with nbviewer.org.</b></div><div class=\"sk-container\" hidden><div class=\"sk-item\"><div class=\"sk-estimator sk-toggleable\"><input class=\"sk-toggleable__control sk-hidden--visually\" id=\"sk-estimator-id-2\" type=\"checkbox\" checked><label for=\"sk-estimator-id-2\" class=\"sk-toggleable__label sk-toggleable__label-arrow\">SVC</label><div class=\"sk-toggleable__content\"><pre>SVC()</pre></div></div></div></div></div>"
            ]
          },
          "metadata": {},
          "execution_count": 57
        }
      ]
    },
    {
      "cell_type": "code",
      "source": [
        "y_predict_svm = svm.predict(x_test)"
      ],
      "metadata": {
        "id": "Rg4z1RG530RI"
      },
      "execution_count": 58,
      "outputs": []
    },
    {
      "cell_type": "code",
      "source": [
        "print(\"SVM Method is\",(accuracy_score(y_test,y_predict_svm))*100,\"%\",\"accurate on this dataset.\")"
      ],
      "metadata": {
        "colab": {
          "base_uri": "https://localhost:8080/"
        },
        "id": "-E__1oOB37ik",
        "outputId": "1c3596ad-993a-407d-89bc-18b6ef9f1074"
      },
      "execution_count": 59,
      "outputs": [
        {
          "output_type": "stream",
          "name": "stdout",
          "text": [
            "SVM Method is 80.21978021978022 % accurate on this dataset.\n"
          ]
        }
      ]
    },
    {
      "cell_type": "markdown",
      "source": [
        "### 11.) KNeighbors Classifier"
      ],
      "metadata": {
        "id": "GCHCzVMivAWS"
      }
    },
    {
      "cell_type": "code",
      "source": [
        "from sklearn.neighbors import KNeighborsClassifier"
      ],
      "metadata": {
        "id": "ENr9kqF-6Nhx"
      },
      "execution_count": 60,
      "outputs": []
    },
    {
      "cell_type": "code",
      "source": [
        "knn = KNeighborsClassifier()"
      ],
      "metadata": {
        "id": "16FuwnKB6P_C"
      },
      "execution_count": 61,
      "outputs": []
    },
    {
      "cell_type": "code",
      "source": [
        "knn.fit(x_train,y_train)"
      ],
      "metadata": {
        "colab": {
          "base_uri": "https://localhost:8080/",
          "height": 74
        },
        "id": "Dl09DI5K6SP-",
        "outputId": "45e7ad6f-43b7-4fbe-e2b9-c458a3a3b202"
      },
      "execution_count": 62,
      "outputs": [
        {
          "output_type": "execute_result",
          "data": {
            "text/plain": [
              "KNeighborsClassifier()"
            ],
            "text/html": [
              "<style>#sk-container-id-3 {color: black;background-color: white;}#sk-container-id-3 pre{padding: 0;}#sk-container-id-3 div.sk-toggleable {background-color: white;}#sk-container-id-3 label.sk-toggleable__label {cursor: pointer;display: block;width: 100%;margin-bottom: 0;padding: 0.3em;box-sizing: border-box;text-align: center;}#sk-container-id-3 label.sk-toggleable__label-arrow:before {content: \"▸\";float: left;margin-right: 0.25em;color: #696969;}#sk-container-id-3 label.sk-toggleable__label-arrow:hover:before {color: black;}#sk-container-id-3 div.sk-estimator:hover label.sk-toggleable__label-arrow:before {color: black;}#sk-container-id-3 div.sk-toggleable__content {max-height: 0;max-width: 0;overflow: hidden;text-align: left;background-color: #f0f8ff;}#sk-container-id-3 div.sk-toggleable__content pre {margin: 0.2em;color: black;border-radius: 0.25em;background-color: #f0f8ff;}#sk-container-id-3 input.sk-toggleable__control:checked~div.sk-toggleable__content {max-height: 200px;max-width: 100%;overflow: auto;}#sk-container-id-3 input.sk-toggleable__control:checked~label.sk-toggleable__label-arrow:before {content: \"▾\";}#sk-container-id-3 div.sk-estimator input.sk-toggleable__control:checked~label.sk-toggleable__label {background-color: #d4ebff;}#sk-container-id-3 div.sk-label input.sk-toggleable__control:checked~label.sk-toggleable__label {background-color: #d4ebff;}#sk-container-id-3 input.sk-hidden--visually {border: 0;clip: rect(1px 1px 1px 1px);clip: rect(1px, 1px, 1px, 1px);height: 1px;margin: -1px;overflow: hidden;padding: 0;position: absolute;width: 1px;}#sk-container-id-3 div.sk-estimator {font-family: monospace;background-color: #f0f8ff;border: 1px dotted black;border-radius: 0.25em;box-sizing: border-box;margin-bottom: 0.5em;}#sk-container-id-3 div.sk-estimator:hover {background-color: #d4ebff;}#sk-container-id-3 div.sk-parallel-item::after {content: \"\";width: 100%;border-bottom: 1px solid gray;flex-grow: 1;}#sk-container-id-3 div.sk-label:hover label.sk-toggleable__label {background-color: #d4ebff;}#sk-container-id-3 div.sk-serial::before {content: \"\";position: absolute;border-left: 1px solid gray;box-sizing: border-box;top: 0;bottom: 0;left: 50%;z-index: 0;}#sk-container-id-3 div.sk-serial {display: flex;flex-direction: column;align-items: center;background-color: white;padding-right: 0.2em;padding-left: 0.2em;position: relative;}#sk-container-id-3 div.sk-item {position: relative;z-index: 1;}#sk-container-id-3 div.sk-parallel {display: flex;align-items: stretch;justify-content: center;background-color: white;position: relative;}#sk-container-id-3 div.sk-item::before, #sk-container-id-3 div.sk-parallel-item::before {content: \"\";position: absolute;border-left: 1px solid gray;box-sizing: border-box;top: 0;bottom: 0;left: 50%;z-index: -1;}#sk-container-id-3 div.sk-parallel-item {display: flex;flex-direction: column;z-index: 1;position: relative;background-color: white;}#sk-container-id-3 div.sk-parallel-item:first-child::after {align-self: flex-end;width: 50%;}#sk-container-id-3 div.sk-parallel-item:last-child::after {align-self: flex-start;width: 50%;}#sk-container-id-3 div.sk-parallel-item:only-child::after {width: 0;}#sk-container-id-3 div.sk-dashed-wrapped {border: 1px dashed gray;margin: 0 0.4em 0.5em 0.4em;box-sizing: border-box;padding-bottom: 0.4em;background-color: white;}#sk-container-id-3 div.sk-label label {font-family: monospace;font-weight: bold;display: inline-block;line-height: 1.2em;}#sk-container-id-3 div.sk-label-container {text-align: center;}#sk-container-id-3 div.sk-container {/* jupyter's `normalize.less` sets `[hidden] { display: none; }` but bootstrap.min.css set `[hidden] { display: none !important; }` so we also need the `!important` here to be able to override the default hidden behavior on the sphinx rendered scikit-learn.org. See: https://github.com/scikit-learn/scikit-learn/issues/21755 */display: inline-block !important;position: relative;}#sk-container-id-3 div.sk-text-repr-fallback {display: none;}</style><div id=\"sk-container-id-3\" class=\"sk-top-container\"><div class=\"sk-text-repr-fallback\"><pre>KNeighborsClassifier()</pre><b>In a Jupyter environment, please rerun this cell to show the HTML representation or trust the notebook. <br />On GitHub, the HTML representation is unable to render, please try loading this page with nbviewer.org.</b></div><div class=\"sk-container\" hidden><div class=\"sk-item\"><div class=\"sk-estimator sk-toggleable\"><input class=\"sk-toggleable__control sk-hidden--visually\" id=\"sk-estimator-id-3\" type=\"checkbox\" checked><label for=\"sk-estimator-id-3\" class=\"sk-toggleable__label sk-toggleable__label-arrow\">KNeighborsClassifier</label><div class=\"sk-toggleable__content\"><pre>KNeighborsClassifier()</pre></div></div></div></div></div>"
            ]
          },
          "metadata": {},
          "execution_count": 62
        }
      ]
    },
    {
      "cell_type": "code",
      "source": [
        "y_predict_knn=knn.predict(x_test)"
      ],
      "metadata": {
        "id": "N5fYI0l96Wac"
      },
      "execution_count": 63,
      "outputs": []
    },
    {
      "cell_type": "code",
      "source": [
        "print(\"KNN classifier is\",(accuracy_score(y_test,y_predict_knn))*100,\"%\",\"accurate on this dataset.\")"
      ],
      "metadata": {
        "colab": {
          "base_uri": "https://localhost:8080/"
        },
        "id": "6WtihlIc6dCQ",
        "outputId": "1e1d39c2-b7fa-4817-8e3d-de6a1cce0250"
      },
      "execution_count": 64,
      "outputs": [
        {
          "output_type": "stream",
          "name": "stdout",
          "text": [
            "KNN classifier is 79.12087912087912 % accurate on this dataset.\n"
          ]
        }
      ]
    },
    {
      "cell_type": "code",
      "source": [
        "scores = []\n",
        "\n",
        "for k in range(1,40):\n",
        "    knn=KNeighborsClassifier(n_neighbors=k)\n",
        "    knn.fit(x_train,y_train)\n",
        "    y_predict=knn.predict(x_test)\n",
        "    scores.append(accuracy_score(y_test,y_predict))"
      ],
      "metadata": {
        "id": "-RKT7NsF6s1C"
      },
      "execution_count": 65,
      "outputs": []
    },
    {
      "cell_type": "code",
      "source": [
        "scores\n"
      ],
      "metadata": {
        "colab": {
          "base_uri": "https://localhost:8080/"
        },
        "id": "2B6N5bZX7Cnx",
        "outputId": "3ec5e109-a690-46e6-dce2-74adeb995c6d"
      },
      "execution_count": 66,
      "outputs": [
        {
          "output_type": "execute_result",
          "data": {
            "text/plain": [
              "[0.6813186813186813,\n",
              " 0.7912087912087912,\n",
              " 0.7252747252747253,\n",
              " 0.7802197802197802,\n",
              " 0.7912087912087912,\n",
              " 0.8021978021978022,\n",
              " 0.7802197802197802,\n",
              " 0.8021978021978022,\n",
              " 0.8021978021978022,\n",
              " 0.7802197802197802,\n",
              " 0.7912087912087912,\n",
              " 0.7802197802197802,\n",
              " 0.7912087912087912,\n",
              " 0.7912087912087912,\n",
              " 0.7912087912087912,\n",
              " 0.7912087912087912,\n",
              " 0.7582417582417582,\n",
              " 0.7802197802197802,\n",
              " 0.7582417582417582,\n",
              " 0.7802197802197802,\n",
              " 0.7692307692307693,\n",
              " 0.7692307692307693,\n",
              " 0.7582417582417582,\n",
              " 0.7802197802197802,\n",
              " 0.7692307692307693,\n",
              " 0.7802197802197802,\n",
              " 0.7692307692307693,\n",
              " 0.7912087912087912,\n",
              " 0.7802197802197802,\n",
              " 0.7912087912087912,\n",
              " 0.7912087912087912,\n",
              " 0.7912087912087912,\n",
              " 0.7802197802197802,\n",
              " 0.7912087912087912,\n",
              " 0.7912087912087912,\n",
              " 0.7912087912087912,\n",
              " 0.7802197802197802,\n",
              " 0.7802197802197802,\n",
              " 0.7692307692307693]"
            ]
          },
          "metadata": {},
          "execution_count": 66
        }
      ]
    },
    {
      "cell_type": "code",
      "source": [
        "import matplotlib.pyplot as plt"
      ],
      "metadata": {
        "id": "aAIyR_NA8g9t"
      },
      "execution_count": 67,
      "outputs": []
    },
    {
      "cell_type": "code",
      "source": [
        "plt.plot(scores,color='g' )\n",
        "plt.xlabel(\"K Value\")\n",
        "plt.ylabel(\"Accuracy\")\n",
        "plt.show()"
      ],
      "metadata": {
        "colab": {
          "base_uri": "https://localhost:8080/",
          "height": 449
        },
        "id": "nwQntJh58hpw",
        "outputId": "164a0d13-e46f-4336-8031-5d8f0948c4c9"
      },
      "execution_count": 68,
      "outputs": [
        {
          "output_type": "display_data",
          "data": {
            "text/plain": [
              "<Figure size 640x480 with 1 Axes>"
            ],
            "image/png": "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\n"
          },
          "metadata": {}
        }
      ]
    },
    {
      "cell_type": "code",
      "source": [
        "m=scores.index(max(scores))\n",
        "print(m+1)"
      ],
      "metadata": {
        "colab": {
          "base_uri": "https://localhost:8080/"
        },
        "id": "AQDVi9la82gV",
        "outputId": "af2ecfc6-ffe9-496d-994a-80cb0c8d89b1"
      },
      "execution_count": 69,
      "outputs": [
        {
          "output_type": "stream",
          "name": "stdout",
          "text": [
            "6\n"
          ]
        }
      ]
    },
    {
      "cell_type": "code",
      "source": [
        "knn=KNeighborsClassifier(n_neighbors=6)\n",
        "knn.fit(x_train,y_train)\n",
        "y_predict=knn.predict(x_test)\n",
        "print(\"KNN classifier with KNN value=6 is\",(accuracy_score(y_test,y_predict))*100,\"%\",\"accurate on this dataset.\")"
      ],
      "metadata": {
        "colab": {
          "base_uri": "https://localhost:8080/"
        },
        "id": "4i7KlXMU9Wao",
        "outputId": "e4f08361-742e-4f54-9330-adb616f17076"
      },
      "execution_count": 70,
      "outputs": [
        {
          "output_type": "stream",
          "name": "stdout",
          "text": [
            "KNN classifier with KNN value=6 is 80.21978021978022 % accurate on this dataset.\n"
          ]
        }
      ]
    },
    {
      "cell_type": "markdown",
      "source": [
        "###12.) Non-Linear ML Algorithms"
      ],
      "metadata": {
        "id": "xY3XlUmyvYX8"
      }
    },
    {
      "cell_type": "code",
      "source": [
        "dataset=pd.read_csv(\"heart_ds.csv\")"
      ],
      "metadata": {
        "id": "CtUUFca_A_eN"
      },
      "execution_count": 71,
      "outputs": []
    },
    {
      "cell_type": "code",
      "source": [
        "dataset=dataset.drop_duplicates()"
      ],
      "metadata": {
        "id": "O_kxvV5rBRPn"
      },
      "execution_count": 72,
      "outputs": []
    },
    {
      "cell_type": "code",
      "source": [
        "dataset.shape\n"
      ],
      "metadata": {
        "colab": {
          "base_uri": "https://localhost:8080/"
        },
        "id": "_YYG5ml9BYXY",
        "outputId": "56ebf330-5bd0-4761-f054-4adf71504c2f"
      },
      "execution_count": 73,
      "outputs": [
        {
          "output_type": "execute_result",
          "data": {
            "text/plain": [
              "(302, 14)"
            ]
          },
          "metadata": {},
          "execution_count": 73
        }
      ]
    },
    {
      "cell_type": "code",
      "source": [
        "dataset.head()"
      ],
      "metadata": {
        "colab": {
          "base_uri": "https://localhost:8080/",
          "height": 206
        },
        "id": "m4FSIOzNBfOx",
        "outputId": "211d07b9-ddb9-434a-f717-abd4aa397366"
      },
      "execution_count": 74,
      "outputs": [
        {
          "output_type": "execute_result",
          "data": {
            "text/plain": [
              "   age  sex  cp  trestbps  chol  fbs  restecg  thalach  exang  oldpeak  slope  \\\n",
              "0   52    1   0       125   212    0        1      168      0      1.0      2   \n",
              "1   53    1   0       140   203    1        0      155      1      3.1      0   \n",
              "2   70    1   0       145   174    0        1      125      1      2.6      0   \n",
              "3   61    1   0       148   203    0        1      161      0      0.0      2   \n",
              "4   62    0   0       138   294    1        1      106      0      1.9      1   \n",
              "\n",
              "   ca  thal  target  \n",
              "0   2     3       0  \n",
              "1   0     3       0  \n",
              "2   0     3       0  \n",
              "3   1     3       0  \n",
              "4   3     2       0  "
            ],
            "text/html": [
              "\n",
              "  <div id=\"df-8c2ec8d6-0617-47a7-b4ae-16e007d424be\" class=\"colab-df-container\">\n",
              "    <div>\n",
              "<style scoped>\n",
              "    .dataframe tbody tr th:only-of-type {\n",
              "        vertical-align: middle;\n",
              "    }\n",
              "\n",
              "    .dataframe tbody tr th {\n",
              "        vertical-align: top;\n",
              "    }\n",
              "\n",
              "    .dataframe thead th {\n",
              "        text-align: right;\n",
              "    }\n",
              "</style>\n",
              "<table border=\"1\" class=\"dataframe\">\n",
              "  <thead>\n",
              "    <tr style=\"text-align: right;\">\n",
              "      <th></th>\n",
              "      <th>age</th>\n",
              "      <th>sex</th>\n",
              "      <th>cp</th>\n",
              "      <th>trestbps</th>\n",
              "      <th>chol</th>\n",
              "      <th>fbs</th>\n",
              "      <th>restecg</th>\n",
              "      <th>thalach</th>\n",
              "      <th>exang</th>\n",
              "      <th>oldpeak</th>\n",
              "      <th>slope</th>\n",
              "      <th>ca</th>\n",
              "      <th>thal</th>\n",
              "      <th>target</th>\n",
              "    </tr>\n",
              "  </thead>\n",
              "  <tbody>\n",
              "    <tr>\n",
              "      <th>0</th>\n",
              "      <td>52</td>\n",
              "      <td>1</td>\n",
              "      <td>0</td>\n",
              "      <td>125</td>\n",
              "      <td>212</td>\n",
              "      <td>0</td>\n",
              "      <td>1</td>\n",
              "      <td>168</td>\n",
              "      <td>0</td>\n",
              "      <td>1.0</td>\n",
              "      <td>2</td>\n",
              "      <td>2</td>\n",
              "      <td>3</td>\n",
              "      <td>0</td>\n",
              "    </tr>\n",
              "    <tr>\n",
              "      <th>1</th>\n",
              "      <td>53</td>\n",
              "      <td>1</td>\n",
              "      <td>0</td>\n",
              "      <td>140</td>\n",
              "      <td>203</td>\n",
              "      <td>1</td>\n",
              "      <td>0</td>\n",
              "      <td>155</td>\n",
              "      <td>1</td>\n",
              "      <td>3.1</td>\n",
              "      <td>0</td>\n",
              "      <td>0</td>\n",
              "      <td>3</td>\n",
              "      <td>0</td>\n",
              "    </tr>\n",
              "    <tr>\n",
              "      <th>2</th>\n",
              "      <td>70</td>\n",
              "      <td>1</td>\n",
              "      <td>0</td>\n",
              "      <td>145</td>\n",
              "      <td>174</td>\n",
              "      <td>0</td>\n",
              "      <td>1</td>\n",
              "      <td>125</td>\n",
              "      <td>1</td>\n",
              "      <td>2.6</td>\n",
              "      <td>0</td>\n",
              "      <td>0</td>\n",
              "      <td>3</td>\n",
              "      <td>0</td>\n",
              "    </tr>\n",
              "    <tr>\n",
              "      <th>3</th>\n",
              "      <td>61</td>\n",
              "      <td>1</td>\n",
              "      <td>0</td>\n",
              "      <td>148</td>\n",
              "      <td>203</td>\n",
              "      <td>0</td>\n",
              "      <td>1</td>\n",
              "      <td>161</td>\n",
              "      <td>0</td>\n",
              "      <td>0.0</td>\n",
              "      <td>2</td>\n",
              "      <td>1</td>\n",
              "      <td>3</td>\n",
              "      <td>0</td>\n",
              "    </tr>\n",
              "    <tr>\n",
              "      <th>4</th>\n",
              "      <td>62</td>\n",
              "      <td>0</td>\n",
              "      <td>0</td>\n",
              "      <td>138</td>\n",
              "      <td>294</td>\n",
              "      <td>1</td>\n",
              "      <td>1</td>\n",
              "      <td>106</td>\n",
              "      <td>0</td>\n",
              "      <td>1.9</td>\n",
              "      <td>1</td>\n",
              "      <td>3</td>\n",
              "      <td>2</td>\n",
              "      <td>0</td>\n",
              "    </tr>\n",
              "  </tbody>\n",
              "</table>\n",
              "</div>\n",
              "    <div class=\"colab-df-buttons\">\n",
              "\n",
              "  <div class=\"colab-df-container\">\n",
              "    <button class=\"colab-df-convert\" onclick=\"convertToInteractive('df-8c2ec8d6-0617-47a7-b4ae-16e007d424be')\"\n",
              "            title=\"Convert this dataframe to an interactive table.\"\n",
              "            style=\"display:none;\">\n",
              "\n",
              "  <svg xmlns=\"http://www.w3.org/2000/svg\" height=\"24px\" viewBox=\"0 -960 960 960\">\n",
              "    <path d=\"M120-120v-720h720v720H120Zm60-500h600v-160H180v160Zm220 220h160v-160H400v160Zm0 220h160v-160H400v160ZM180-400h160v-160H180v160Zm440 0h160v-160H620v160ZM180-180h160v-160H180v160Zm440 0h160v-160H620v160Z\"/>\n",
              "  </svg>\n",
              "    </button>\n",
              "\n",
              "  <style>\n",
              "    .colab-df-container {\n",
              "      display:flex;\n",
              "      gap: 12px;\n",
              "    }\n",
              "\n",
              "    .colab-df-convert {\n",
              "      background-color: #E8F0FE;\n",
              "      border: none;\n",
              "      border-radius: 50%;\n",
              "      cursor: pointer;\n",
              "      display: none;\n",
              "      fill: #1967D2;\n",
              "      height: 32px;\n",
              "      padding: 0 0 0 0;\n",
              "      width: 32px;\n",
              "    }\n",
              "\n",
              "    .colab-df-convert:hover {\n",
              "      background-color: #E2EBFA;\n",
              "      box-shadow: 0px 1px 2px rgba(60, 64, 67, 0.3), 0px 1px 3px 1px rgba(60, 64, 67, 0.15);\n",
              "      fill: #174EA6;\n",
              "    }\n",
              "\n",
              "    .colab-df-buttons div {\n",
              "      margin-bottom: 4px;\n",
              "    }\n",
              "\n",
              "    [theme=dark] .colab-df-convert {\n",
              "      background-color: #3B4455;\n",
              "      fill: #D2E3FC;\n",
              "    }\n",
              "\n",
              "    [theme=dark] .colab-df-convert:hover {\n",
              "      background-color: #434B5C;\n",
              "      box-shadow: 0px 1px 3px 1px rgba(0, 0, 0, 0.15);\n",
              "      filter: drop-shadow(0px 1px 2px rgba(0, 0, 0, 0.3));\n",
              "      fill: #FFFFFF;\n",
              "    }\n",
              "  </style>\n",
              "\n",
              "    <script>\n",
              "      const buttonEl =\n",
              "        document.querySelector('#df-8c2ec8d6-0617-47a7-b4ae-16e007d424be button.colab-df-convert');\n",
              "      buttonEl.style.display =\n",
              "        google.colab.kernel.accessAllowed ? 'block' : 'none';\n",
              "\n",
              "      async function convertToInteractive(key) {\n",
              "        const element = document.querySelector('#df-8c2ec8d6-0617-47a7-b4ae-16e007d424be');\n",
              "        const dataTable =\n",
              "          await google.colab.kernel.invokeFunction('convertToInteractive',\n",
              "                                                    [key], {});\n",
              "        if (!dataTable) return;\n",
              "\n",
              "        const docLinkHtml = 'Like what you see? Visit the ' +\n",
              "          '<a target=\"_blank\" href=https://colab.research.google.com/notebooks/data_table.ipynb>data table notebook</a>'\n",
              "          + ' to learn more about interactive tables.';\n",
              "        element.innerHTML = '';\n",
              "        dataTable['output_type'] = 'display_data';\n",
              "        await google.colab.output.renderOutput(dataTable, element);\n",
              "        const docLink = document.createElement('div');\n",
              "        docLink.innerHTML = docLinkHtml;\n",
              "        element.appendChild(docLink);\n",
              "      }\n",
              "    </script>\n",
              "  </div>\n",
              "\n",
              "\n",
              "<div id=\"df-71b943fd-95a5-40c7-8158-469a2e58df99\">\n",
              "  <button class=\"colab-df-quickchart\" onclick=\"quickchart('df-71b943fd-95a5-40c7-8158-469a2e58df99')\"\n",
              "            title=\"Suggest charts\"\n",
              "            style=\"display:none;\">\n",
              "\n",
              "<svg xmlns=\"http://www.w3.org/2000/svg\" height=\"24px\"viewBox=\"0 0 24 24\"\n",
              "     width=\"24px\">\n",
              "    <g>\n",
              "        <path d=\"M19 3H5c-1.1 0-2 .9-2 2v14c0 1.1.9 2 2 2h14c1.1 0 2-.9 2-2V5c0-1.1-.9-2-2-2zM9 17H7v-7h2v7zm4 0h-2V7h2v10zm4 0h-2v-4h2v4z\"/>\n",
              "    </g>\n",
              "</svg>\n",
              "  </button>\n",
              "\n",
              "<style>\n",
              "  .colab-df-quickchart {\n",
              "      --bg-color: #E8F0FE;\n",
              "      --fill-color: #1967D2;\n",
              "      --hover-bg-color: #E2EBFA;\n",
              "      --hover-fill-color: #174EA6;\n",
              "      --disabled-fill-color: #AAA;\n",
              "      --disabled-bg-color: #DDD;\n",
              "  }\n",
              "\n",
              "  [theme=dark] .colab-df-quickchart {\n",
              "      --bg-color: #3B4455;\n",
              "      --fill-color: #D2E3FC;\n",
              "      --hover-bg-color: #434B5C;\n",
              "      --hover-fill-color: #FFFFFF;\n",
              "      --disabled-bg-color: #3B4455;\n",
              "      --disabled-fill-color: #666;\n",
              "  }\n",
              "\n",
              "  .colab-df-quickchart {\n",
              "    background-color: var(--bg-color);\n",
              "    border: none;\n",
              "    border-radius: 50%;\n",
              "    cursor: pointer;\n",
              "    display: none;\n",
              "    fill: var(--fill-color);\n",
              "    height: 32px;\n",
              "    padding: 0;\n",
              "    width: 32px;\n",
              "  }\n",
              "\n",
              "  .colab-df-quickchart:hover {\n",
              "    background-color: var(--hover-bg-color);\n",
              "    box-shadow: 0 1px 2px rgba(60, 64, 67, 0.3), 0 1px 3px 1px rgba(60, 64, 67, 0.15);\n",
              "    fill: var(--button-hover-fill-color);\n",
              "  }\n",
              "\n",
              "  .colab-df-quickchart-complete:disabled,\n",
              "  .colab-df-quickchart-complete:disabled:hover {\n",
              "    background-color: var(--disabled-bg-color);\n",
              "    fill: var(--disabled-fill-color);\n",
              "    box-shadow: none;\n",
              "  }\n",
              "\n",
              "  .colab-df-spinner {\n",
              "    border: 2px solid var(--fill-color);\n",
              "    border-color: transparent;\n",
              "    border-bottom-color: var(--fill-color);\n",
              "    animation:\n",
              "      spin 1s steps(1) infinite;\n",
              "  }\n",
              "\n",
              "  @keyframes spin {\n",
              "    0% {\n",
              "      border-color: transparent;\n",
              "      border-bottom-color: var(--fill-color);\n",
              "      border-left-color: var(--fill-color);\n",
              "    }\n",
              "    20% {\n",
              "      border-color: transparent;\n",
              "      border-left-color: var(--fill-color);\n",
              "      border-top-color: var(--fill-color);\n",
              "    }\n",
              "    30% {\n",
              "      border-color: transparent;\n",
              "      border-left-color: var(--fill-color);\n",
              "      border-top-color: var(--fill-color);\n",
              "      border-right-color: var(--fill-color);\n",
              "    }\n",
              "    40% {\n",
              "      border-color: transparent;\n",
              "      border-right-color: var(--fill-color);\n",
              "      border-top-color: var(--fill-color);\n",
              "    }\n",
              "    60% {\n",
              "      border-color: transparent;\n",
              "      border-right-color: var(--fill-color);\n",
              "    }\n",
              "    80% {\n",
              "      border-color: transparent;\n",
              "      border-right-color: var(--fill-color);\n",
              "      border-bottom-color: var(--fill-color);\n",
              "    }\n",
              "    90% {\n",
              "      border-color: transparent;\n",
              "      border-bottom-color: var(--fill-color);\n",
              "    }\n",
              "  }\n",
              "</style>\n",
              "\n",
              "  <script>\n",
              "    async function quickchart(key) {\n",
              "      const quickchartButtonEl =\n",
              "        document.querySelector('#' + key + ' button');\n",
              "      quickchartButtonEl.disabled = true;  // To prevent multiple clicks.\n",
              "      quickchartButtonEl.classList.add('colab-df-spinner');\n",
              "      try {\n",
              "        const charts = await google.colab.kernel.invokeFunction(\n",
              "            'suggestCharts', [key], {});\n",
              "      } catch (error) {\n",
              "        console.error('Error during call to suggestCharts:', error);\n",
              "      }\n",
              "      quickchartButtonEl.classList.remove('colab-df-spinner');\n",
              "      quickchartButtonEl.classList.add('colab-df-quickchart-complete');\n",
              "    }\n",
              "    (() => {\n",
              "      let quickchartButtonEl =\n",
              "        document.querySelector('#df-71b943fd-95a5-40c7-8158-469a2e58df99 button');\n",
              "      quickchartButtonEl.style.display =\n",
              "        google.colab.kernel.accessAllowed ? 'block' : 'none';\n",
              "    })();\n",
              "  </script>\n",
              "</div>\n",
              "\n",
              "    </div>\n",
              "  </div>\n"
            ],
            "application/vnd.google.colaboratory.intrinsic+json": {
              "type": "dataframe",
              "variable_name": "dataset",
              "summary": "{\n  \"name\": \"dataset\",\n  \"rows\": 302,\n  \"fields\": [\n    {\n      \"column\": \"age\",\n      \"properties\": {\n        \"dtype\": \"number\",\n        \"std\": 9,\n        \"min\": 29,\n        \"max\": 77,\n        \"num_unique_values\": 41,\n        \"samples\": [\n          65,\n          50,\n          54\n        ],\n        \"semantic_type\": \"\",\n        \"description\": \"\"\n      }\n    },\n    {\n      \"column\": \"sex\",\n      \"properties\": {\n        \"dtype\": \"number\",\n        \"std\": 0,\n        \"min\": 0,\n        \"max\": 1,\n        \"num_unique_values\": 2,\n        \"samples\": [\n          0,\n          1\n        ],\n        \"semantic_type\": \"\",\n        \"description\": \"\"\n      }\n    },\n    {\n      \"column\": \"cp\",\n      \"properties\": {\n        \"dtype\": \"number\",\n        \"std\": 1,\n        \"min\": 0,\n        \"max\": 3,\n        \"num_unique_values\": 4,\n        \"samples\": [\n          1,\n          3\n        ],\n        \"semantic_type\": \"\",\n        \"description\": \"\"\n      }\n    },\n    {\n      \"column\": \"trestbps\",\n      \"properties\": {\n        \"dtype\": \"number\",\n        \"std\": 17,\n        \"min\": 94,\n        \"max\": 200,\n        \"num_unique_values\": 49,\n        \"samples\": [\n          128,\n          172\n        ],\n        \"semantic_type\": \"\",\n        \"description\": \"\"\n      }\n    },\n    {\n      \"column\": \"chol\",\n      \"properties\": {\n        \"dtype\": \"number\",\n        \"std\": 51,\n        \"min\": 126,\n        \"max\": 564,\n        \"num_unique_values\": 152,\n        \"samples\": [\n          267,\n          262\n        ],\n        \"semantic_type\": \"\",\n        \"description\": \"\"\n      }\n    },\n    {\n      \"column\": \"fbs\",\n      \"properties\": {\n        \"dtype\": \"number\",\n        \"std\": 0,\n        \"min\": 0,\n        \"max\": 1,\n        \"num_unique_values\": 2,\n        \"samples\": [\n          1,\n          0\n        ],\n        \"semantic_type\": \"\",\n        \"description\": \"\"\n      }\n    },\n    {\n      \"column\": \"restecg\",\n      \"properties\": {\n        \"dtype\": \"number\",\n        \"std\": 0,\n        \"min\": 0,\n        \"max\": 2,\n        \"num_unique_values\": 3,\n        \"samples\": [\n          1,\n          0\n        ],\n        \"semantic_type\": \"\",\n        \"description\": \"\"\n      }\n    },\n    {\n      \"column\": \"thalach\",\n      \"properties\": {\n        \"dtype\": \"number\",\n        \"std\": 22,\n        \"min\": 71,\n        \"max\": 202,\n        \"num_unique_values\": 91,\n        \"samples\": [\n          180,\n          152\n        ],\n        \"semantic_type\": \"\",\n        \"description\": \"\"\n      }\n    },\n    {\n      \"column\": \"exang\",\n      \"properties\": {\n        \"dtype\": \"number\",\n        \"std\": 0,\n        \"min\": 0,\n        \"max\": 1,\n        \"num_unique_values\": 2,\n        \"samples\": [\n          1,\n          0\n        ],\n        \"semantic_type\": \"\",\n        \"description\": \"\"\n      }\n    },\n    {\n      \"column\": \"oldpeak\",\n      \"properties\": {\n        \"dtype\": \"number\",\n        \"std\": 1.1614522890634562,\n        \"min\": 0.0,\n        \"max\": 6.2,\n        \"num_unique_values\": 40,\n        \"samples\": [\n          2.8,\n          0.4\n        ],\n        \"semantic_type\": \"\",\n        \"description\": \"\"\n      }\n    },\n    {\n      \"column\": \"slope\",\n      \"properties\": {\n        \"dtype\": \"number\",\n        \"std\": 0,\n        \"min\": 0,\n        \"max\": 2,\n        \"num_unique_values\": 3,\n        \"samples\": [\n          2,\n          0\n        ],\n        \"semantic_type\": \"\",\n        \"description\": \"\"\n      }\n    },\n    {\n      \"column\": \"ca\",\n      \"properties\": {\n        \"dtype\": \"number\",\n        \"std\": 1,\n        \"min\": 0,\n        \"max\": 4,\n        \"num_unique_values\": 5,\n        \"samples\": [\n          0,\n          4\n        ],\n        \"semantic_type\": \"\",\n        \"description\": \"\"\n      }\n    },\n    {\n      \"column\": \"thal\",\n      \"properties\": {\n        \"dtype\": \"number\",\n        \"std\": 0,\n        \"min\": 0,\n        \"max\": 3,\n        \"num_unique_values\": 4,\n        \"samples\": [\n          2,\n          0\n        ],\n        \"semantic_type\": \"\",\n        \"description\": \"\"\n      }\n    },\n    {\n      \"column\": \"target\",\n      \"properties\": {\n        \"dtype\": \"number\",\n        \"std\": 0,\n        \"min\": 0,\n        \"max\": 1,\n        \"num_unique_values\": 2,\n        \"samples\": [\n          1,\n          0\n        ],\n        \"semantic_type\": \"\",\n        \"description\": \"\"\n      }\n    }\n  ]\n}"
            }
          },
          "metadata": {},
          "execution_count": 74
        }
      ]
    },
    {
      "cell_type": "code",
      "source": [
        "X = dataset.drop('target',axis=1)\n",
        "Y=dataset['target']"
      ],
      "metadata": {
        "id": "j5L08ZS8BziH"
      },
      "execution_count": 75,
      "outputs": []
    },
    {
      "cell_type": "code",
      "source": [
        "X_train,X_test,Y_train,Y_test= train_test_split(X,Y,test_size=0.3,\n",
        "                                                random_state=42)"
      ],
      "metadata": {
        "id": "f_NnZYS4CMKB"
      },
      "execution_count": 76,
      "outputs": []
    },
    {
      "cell_type": "markdown",
      "source": [
        "### 13.) Decision Tree Classifier"
      ],
      "metadata": {
        "id": "isRrhh86vbLa"
      }
    },
    {
      "cell_type": "code",
      "source": [
        "from sklearn.tree import DecisionTreeClassifier"
      ],
      "metadata": {
        "id": "Fz7I8NbgCqAY"
      },
      "execution_count": 77,
      "outputs": []
    },
    {
      "cell_type": "code",
      "source": [
        "dt = DecisionTreeClassifier()"
      ],
      "metadata": {
        "id": "WVlHPzg-CrPy"
      },
      "execution_count": 78,
      "outputs": []
    },
    {
      "cell_type": "code",
      "source": [
        "dt.fit(X_train,Y_train)"
      ],
      "metadata": {
        "colab": {
          "base_uri": "https://localhost:8080/",
          "height": 74
        },
        "id": "FCK4w3HHCrFa",
        "outputId": "6c3fb85e-9e88-4f2a-c0ed-596ae2efe5bd"
      },
      "execution_count": 79,
      "outputs": [
        {
          "output_type": "execute_result",
          "data": {
            "text/plain": [
              "DecisionTreeClassifier()"
            ],
            "text/html": [
              "<style>#sk-container-id-4 {color: black;background-color: white;}#sk-container-id-4 pre{padding: 0;}#sk-container-id-4 div.sk-toggleable {background-color: white;}#sk-container-id-4 label.sk-toggleable__label {cursor: pointer;display: block;width: 100%;margin-bottom: 0;padding: 0.3em;box-sizing: border-box;text-align: center;}#sk-container-id-4 label.sk-toggleable__label-arrow:before {content: \"▸\";float: left;margin-right: 0.25em;color: #696969;}#sk-container-id-4 label.sk-toggleable__label-arrow:hover:before {color: black;}#sk-container-id-4 div.sk-estimator:hover label.sk-toggleable__label-arrow:before {color: black;}#sk-container-id-4 div.sk-toggleable__content {max-height: 0;max-width: 0;overflow: hidden;text-align: left;background-color: #f0f8ff;}#sk-container-id-4 div.sk-toggleable__content pre {margin: 0.2em;color: black;border-radius: 0.25em;background-color: #f0f8ff;}#sk-container-id-4 input.sk-toggleable__control:checked~div.sk-toggleable__content {max-height: 200px;max-width: 100%;overflow: auto;}#sk-container-id-4 input.sk-toggleable__control:checked~label.sk-toggleable__label-arrow:before {content: \"▾\";}#sk-container-id-4 div.sk-estimator input.sk-toggleable__control:checked~label.sk-toggleable__label {background-color: #d4ebff;}#sk-container-id-4 div.sk-label input.sk-toggleable__control:checked~label.sk-toggleable__label {background-color: #d4ebff;}#sk-container-id-4 input.sk-hidden--visually {border: 0;clip: rect(1px 1px 1px 1px);clip: rect(1px, 1px, 1px, 1px);height: 1px;margin: -1px;overflow: hidden;padding: 0;position: absolute;width: 1px;}#sk-container-id-4 div.sk-estimator {font-family: monospace;background-color: #f0f8ff;border: 1px dotted black;border-radius: 0.25em;box-sizing: border-box;margin-bottom: 0.5em;}#sk-container-id-4 div.sk-estimator:hover {background-color: #d4ebff;}#sk-container-id-4 div.sk-parallel-item::after {content: \"\";width: 100%;border-bottom: 1px solid gray;flex-grow: 1;}#sk-container-id-4 div.sk-label:hover label.sk-toggleable__label {background-color: #d4ebff;}#sk-container-id-4 div.sk-serial::before {content: \"\";position: absolute;border-left: 1px solid gray;box-sizing: border-box;top: 0;bottom: 0;left: 50%;z-index: 0;}#sk-container-id-4 div.sk-serial {display: flex;flex-direction: column;align-items: center;background-color: white;padding-right: 0.2em;padding-left: 0.2em;position: relative;}#sk-container-id-4 div.sk-item {position: relative;z-index: 1;}#sk-container-id-4 div.sk-parallel {display: flex;align-items: stretch;justify-content: center;background-color: white;position: relative;}#sk-container-id-4 div.sk-item::before, #sk-container-id-4 div.sk-parallel-item::before {content: \"\";position: absolute;border-left: 1px solid gray;box-sizing: border-box;top: 0;bottom: 0;left: 50%;z-index: -1;}#sk-container-id-4 div.sk-parallel-item {display: flex;flex-direction: column;z-index: 1;position: relative;background-color: white;}#sk-container-id-4 div.sk-parallel-item:first-child::after {align-self: flex-end;width: 50%;}#sk-container-id-4 div.sk-parallel-item:last-child::after {align-self: flex-start;width: 50%;}#sk-container-id-4 div.sk-parallel-item:only-child::after {width: 0;}#sk-container-id-4 div.sk-dashed-wrapped {border: 1px dashed gray;margin: 0 0.4em 0.5em 0.4em;box-sizing: border-box;padding-bottom: 0.4em;background-color: white;}#sk-container-id-4 div.sk-label label {font-family: monospace;font-weight: bold;display: inline-block;line-height: 1.2em;}#sk-container-id-4 div.sk-label-container {text-align: center;}#sk-container-id-4 div.sk-container {/* jupyter's `normalize.less` sets `[hidden] { display: none; }` but bootstrap.min.css set `[hidden] { display: none !important; }` so we also need the `!important` here to be able to override the default hidden behavior on the sphinx rendered scikit-learn.org. See: https://github.com/scikit-learn/scikit-learn/issues/21755 */display: inline-block !important;position: relative;}#sk-container-id-4 div.sk-text-repr-fallback {display: none;}</style><div id=\"sk-container-id-4\" class=\"sk-top-container\"><div class=\"sk-text-repr-fallback\"><pre>DecisionTreeClassifier()</pre><b>In a Jupyter environment, please rerun this cell to show the HTML representation or trust the notebook. <br />On GitHub, the HTML representation is unable to render, please try loading this page with nbviewer.org.</b></div><div class=\"sk-container\" hidden><div class=\"sk-item\"><div class=\"sk-estimator sk-toggleable\"><input class=\"sk-toggleable__control sk-hidden--visually\" id=\"sk-estimator-id-4\" type=\"checkbox\" checked><label for=\"sk-estimator-id-4\" class=\"sk-toggleable__label sk-toggleable__label-arrow\">DecisionTreeClassifier</label><div class=\"sk-toggleable__content\"><pre>DecisionTreeClassifier()</pre></div></div></div></div></div>"
            ]
          },
          "metadata": {},
          "execution_count": 79
        }
      ]
    },
    {
      "cell_type": "code",
      "source": [
        "y_predict_dt= dt.predict(X_test)"
      ],
      "metadata": {
        "id": "aymVvcs9C8v-"
      },
      "execution_count": 80,
      "outputs": []
    },
    {
      "cell_type": "code",
      "source": [
        "print(\"Dicision Tree classifier is\",(accuracy_score(Y_test,y_predict_dt))*100,\"%\",\"accurate on this dataset.\")"
      ],
      "metadata": {
        "colab": {
          "base_uri": "https://localhost:8080/"
        },
        "id": "5LqLvea3C8ny",
        "outputId": "f5a14124-01d7-44b4-bec8-1d221c632ff1"
      },
      "execution_count": 81,
      "outputs": [
        {
          "output_type": "stream",
          "name": "stdout",
          "text": [
            "Dicision Tree classifier is 70.32967032967034 % accurate on this dataset.\n"
          ]
        }
      ]
    },
    {
      "cell_type": "markdown",
      "source": [
        "### 14.) Random Forest Classifier"
      ],
      "metadata": {
        "id": "pTpoOs9JvlAs"
      }
    },
    {
      "cell_type": "code",
      "source": [
        "from sklearn.ensemble import RandomForestClassifier"
      ],
      "metadata": {
        "id": "7-WT5RcgE3qL"
      },
      "execution_count": 82,
      "outputs": []
    },
    {
      "cell_type": "code",
      "source": [
        "rf = RandomForestClassifier()"
      ],
      "metadata": {
        "id": "wj9wyvHdE4jC"
      },
      "execution_count": 83,
      "outputs": []
    },
    {
      "cell_type": "code",
      "source": [
        "rf.fit(X_train,Y_train)"
      ],
      "metadata": {
        "colab": {
          "base_uri": "https://localhost:8080/",
          "height": 74
        },
        "id": "lgXZFeziE7ZE",
        "outputId": "ddff0f85-8b8c-4626-a305-2e71a1acd365"
      },
      "execution_count": 84,
      "outputs": [
        {
          "output_type": "execute_result",
          "data": {
            "text/plain": [
              "RandomForestClassifier()"
            ],
            "text/html": [
              "<style>#sk-container-id-5 {color: black;background-color: white;}#sk-container-id-5 pre{padding: 0;}#sk-container-id-5 div.sk-toggleable {background-color: white;}#sk-container-id-5 label.sk-toggleable__label {cursor: pointer;display: block;width: 100%;margin-bottom: 0;padding: 0.3em;box-sizing: border-box;text-align: center;}#sk-container-id-5 label.sk-toggleable__label-arrow:before {content: \"▸\";float: left;margin-right: 0.25em;color: #696969;}#sk-container-id-5 label.sk-toggleable__label-arrow:hover:before {color: black;}#sk-container-id-5 div.sk-estimator:hover label.sk-toggleable__label-arrow:before {color: black;}#sk-container-id-5 div.sk-toggleable__content {max-height: 0;max-width: 0;overflow: hidden;text-align: left;background-color: #f0f8ff;}#sk-container-id-5 div.sk-toggleable__content pre {margin: 0.2em;color: black;border-radius: 0.25em;background-color: #f0f8ff;}#sk-container-id-5 input.sk-toggleable__control:checked~div.sk-toggleable__content {max-height: 200px;max-width: 100%;overflow: auto;}#sk-container-id-5 input.sk-toggleable__control:checked~label.sk-toggleable__label-arrow:before {content: \"▾\";}#sk-container-id-5 div.sk-estimator input.sk-toggleable__control:checked~label.sk-toggleable__label {background-color: #d4ebff;}#sk-container-id-5 div.sk-label input.sk-toggleable__control:checked~label.sk-toggleable__label {background-color: #d4ebff;}#sk-container-id-5 input.sk-hidden--visually {border: 0;clip: rect(1px 1px 1px 1px);clip: rect(1px, 1px, 1px, 1px);height: 1px;margin: -1px;overflow: hidden;padding: 0;position: absolute;width: 1px;}#sk-container-id-5 div.sk-estimator {font-family: monospace;background-color: #f0f8ff;border: 1px dotted black;border-radius: 0.25em;box-sizing: border-box;margin-bottom: 0.5em;}#sk-container-id-5 div.sk-estimator:hover {background-color: #d4ebff;}#sk-container-id-5 div.sk-parallel-item::after {content: \"\";width: 100%;border-bottom: 1px solid gray;flex-grow: 1;}#sk-container-id-5 div.sk-label:hover label.sk-toggleable__label {background-color: #d4ebff;}#sk-container-id-5 div.sk-serial::before {content: \"\";position: absolute;border-left: 1px solid gray;box-sizing: border-box;top: 0;bottom: 0;left: 50%;z-index: 0;}#sk-container-id-5 div.sk-serial {display: flex;flex-direction: column;align-items: center;background-color: white;padding-right: 0.2em;padding-left: 0.2em;position: relative;}#sk-container-id-5 div.sk-item {position: relative;z-index: 1;}#sk-container-id-5 div.sk-parallel {display: flex;align-items: stretch;justify-content: center;background-color: white;position: relative;}#sk-container-id-5 div.sk-item::before, #sk-container-id-5 div.sk-parallel-item::before {content: \"\";position: absolute;border-left: 1px solid gray;box-sizing: border-box;top: 0;bottom: 0;left: 50%;z-index: -1;}#sk-container-id-5 div.sk-parallel-item {display: flex;flex-direction: column;z-index: 1;position: relative;background-color: white;}#sk-container-id-5 div.sk-parallel-item:first-child::after {align-self: flex-end;width: 50%;}#sk-container-id-5 div.sk-parallel-item:last-child::after {align-self: flex-start;width: 50%;}#sk-container-id-5 div.sk-parallel-item:only-child::after {width: 0;}#sk-container-id-5 div.sk-dashed-wrapped {border: 1px dashed gray;margin: 0 0.4em 0.5em 0.4em;box-sizing: border-box;padding-bottom: 0.4em;background-color: white;}#sk-container-id-5 div.sk-label label {font-family: monospace;font-weight: bold;display: inline-block;line-height: 1.2em;}#sk-container-id-5 div.sk-label-container {text-align: center;}#sk-container-id-5 div.sk-container {/* jupyter's `normalize.less` sets `[hidden] { display: none; }` but bootstrap.min.css set `[hidden] { display: none !important; }` so we also need the `!important` here to be able to override the default hidden behavior on the sphinx rendered scikit-learn.org. See: https://github.com/scikit-learn/scikit-learn/issues/21755 */display: inline-block !important;position: relative;}#sk-container-id-5 div.sk-text-repr-fallback {display: none;}</style><div id=\"sk-container-id-5\" class=\"sk-top-container\"><div class=\"sk-text-repr-fallback\"><pre>RandomForestClassifier()</pre><b>In a Jupyter environment, please rerun this cell to show the HTML representation or trust the notebook. <br />On GitHub, the HTML representation is unable to render, please try loading this page with nbviewer.org.</b></div><div class=\"sk-container\" hidden><div class=\"sk-item\"><div class=\"sk-estimator sk-toggleable\"><input class=\"sk-toggleable__control sk-hidden--visually\" id=\"sk-estimator-id-5\" type=\"checkbox\" checked><label for=\"sk-estimator-id-5\" class=\"sk-toggleable__label sk-toggleable__label-arrow\">RandomForestClassifier</label><div class=\"sk-toggleable__content\"><pre>RandomForestClassifier()</pre></div></div></div></div></div>"
            ]
          },
          "metadata": {},
          "execution_count": 84
        }
      ]
    },
    {
      "cell_type": "code",
      "source": [
        "y_predict_rf= rf.predict(X_test)"
      ],
      "metadata": {
        "id": "c1LtD92gFGf2"
      },
      "execution_count": 85,
      "outputs": []
    },
    {
      "cell_type": "code",
      "source": [
        "print(\"Random Forest classifier is\",(accuracy_score(y_test,y_predict_rf))*100,\"%\",\"accurate on this dataset.\")"
      ],
      "metadata": {
        "colab": {
          "base_uri": "https://localhost:8080/"
        },
        "id": "U_Gl9GKjFMMS",
        "outputId": "14c9ec5a-c5fa-4165-d43f-8c10efa19e48"
      },
      "execution_count": 86,
      "outputs": [
        {
          "output_type": "stream",
          "name": "stdout",
          "text": [
            "Random Forest classifier is 83.51648351648352 % accurate on this dataset.\n"
          ]
        }
      ]
    },
    {
      "cell_type": "markdown",
      "source": [
        "### 15.) Gradient Boosting Classifier"
      ],
      "metadata": {
        "id": "rcK_XsZRvqNe"
      }
    },
    {
      "cell_type": "code",
      "source": [
        "from sklearn.ensemble import GradientBoostingClassifier"
      ],
      "metadata": {
        "id": "7_AdQXHBFcn4"
      },
      "execution_count": 87,
      "outputs": []
    },
    {
      "cell_type": "code",
      "source": [
        "gbc = GradientBoostingClassifier()"
      ],
      "metadata": {
        "id": "AoGtE2JvFcjb"
      },
      "execution_count": 88,
      "outputs": []
    },
    {
      "cell_type": "code",
      "source": [
        "gbc.fit(X_train,Y_train)"
      ],
      "metadata": {
        "colab": {
          "base_uri": "https://localhost:8080/",
          "height": 74
        },
        "id": "P_4-3mK6Fcc4",
        "outputId": "18ef5633-8024-4cfa-8cd3-63649082cf60"
      },
      "execution_count": 89,
      "outputs": [
        {
          "output_type": "execute_result",
          "data": {
            "text/plain": [
              "GradientBoostingClassifier()"
            ],
            "text/html": [
              "<style>#sk-container-id-6 {color: black;background-color: white;}#sk-container-id-6 pre{padding: 0;}#sk-container-id-6 div.sk-toggleable {background-color: white;}#sk-container-id-6 label.sk-toggleable__label {cursor: pointer;display: block;width: 100%;margin-bottom: 0;padding: 0.3em;box-sizing: border-box;text-align: center;}#sk-container-id-6 label.sk-toggleable__label-arrow:before {content: \"▸\";float: left;margin-right: 0.25em;color: #696969;}#sk-container-id-6 label.sk-toggleable__label-arrow:hover:before {color: black;}#sk-container-id-6 div.sk-estimator:hover label.sk-toggleable__label-arrow:before {color: black;}#sk-container-id-6 div.sk-toggleable__content {max-height: 0;max-width: 0;overflow: hidden;text-align: left;background-color: #f0f8ff;}#sk-container-id-6 div.sk-toggleable__content pre {margin: 0.2em;color: black;border-radius: 0.25em;background-color: #f0f8ff;}#sk-container-id-6 input.sk-toggleable__control:checked~div.sk-toggleable__content {max-height: 200px;max-width: 100%;overflow: auto;}#sk-container-id-6 input.sk-toggleable__control:checked~label.sk-toggleable__label-arrow:before {content: \"▾\";}#sk-container-id-6 div.sk-estimator input.sk-toggleable__control:checked~label.sk-toggleable__label {background-color: #d4ebff;}#sk-container-id-6 div.sk-label input.sk-toggleable__control:checked~label.sk-toggleable__label {background-color: #d4ebff;}#sk-container-id-6 input.sk-hidden--visually {border: 0;clip: rect(1px 1px 1px 1px);clip: rect(1px, 1px, 1px, 1px);height: 1px;margin: -1px;overflow: hidden;padding: 0;position: absolute;width: 1px;}#sk-container-id-6 div.sk-estimator {font-family: monospace;background-color: #f0f8ff;border: 1px dotted black;border-radius: 0.25em;box-sizing: border-box;margin-bottom: 0.5em;}#sk-container-id-6 div.sk-estimator:hover {background-color: #d4ebff;}#sk-container-id-6 div.sk-parallel-item::after {content: \"\";width: 100%;border-bottom: 1px solid gray;flex-grow: 1;}#sk-container-id-6 div.sk-label:hover label.sk-toggleable__label {background-color: #d4ebff;}#sk-container-id-6 div.sk-serial::before {content: \"\";position: absolute;border-left: 1px solid gray;box-sizing: border-box;top: 0;bottom: 0;left: 50%;z-index: 0;}#sk-container-id-6 div.sk-serial {display: flex;flex-direction: column;align-items: center;background-color: white;padding-right: 0.2em;padding-left: 0.2em;position: relative;}#sk-container-id-6 div.sk-item {position: relative;z-index: 1;}#sk-container-id-6 div.sk-parallel {display: flex;align-items: stretch;justify-content: center;background-color: white;position: relative;}#sk-container-id-6 div.sk-item::before, #sk-container-id-6 div.sk-parallel-item::before {content: \"\";position: absolute;border-left: 1px solid gray;box-sizing: border-box;top: 0;bottom: 0;left: 50%;z-index: -1;}#sk-container-id-6 div.sk-parallel-item {display: flex;flex-direction: column;z-index: 1;position: relative;background-color: white;}#sk-container-id-6 div.sk-parallel-item:first-child::after {align-self: flex-end;width: 50%;}#sk-container-id-6 div.sk-parallel-item:last-child::after {align-self: flex-start;width: 50%;}#sk-container-id-6 div.sk-parallel-item:only-child::after {width: 0;}#sk-container-id-6 div.sk-dashed-wrapped {border: 1px dashed gray;margin: 0 0.4em 0.5em 0.4em;box-sizing: border-box;padding-bottom: 0.4em;background-color: white;}#sk-container-id-6 div.sk-label label {font-family: monospace;font-weight: bold;display: inline-block;line-height: 1.2em;}#sk-container-id-6 div.sk-label-container {text-align: center;}#sk-container-id-6 div.sk-container {/* jupyter's `normalize.less` sets `[hidden] { display: none; }` but bootstrap.min.css set `[hidden] { display: none !important; }` so we also need the `!important` here to be able to override the default hidden behavior on the sphinx rendered scikit-learn.org. See: https://github.com/scikit-learn/scikit-learn/issues/21755 */display: inline-block !important;position: relative;}#sk-container-id-6 div.sk-text-repr-fallback {display: none;}</style><div id=\"sk-container-id-6\" class=\"sk-top-container\"><div class=\"sk-text-repr-fallback\"><pre>GradientBoostingClassifier()</pre><b>In a Jupyter environment, please rerun this cell to show the HTML representation or trust the notebook. <br />On GitHub, the HTML representation is unable to render, please try loading this page with nbviewer.org.</b></div><div class=\"sk-container\" hidden><div class=\"sk-item\"><div class=\"sk-estimator sk-toggleable\"><input class=\"sk-toggleable__control sk-hidden--visually\" id=\"sk-estimator-id-6\" type=\"checkbox\" checked><label for=\"sk-estimator-id-6\" class=\"sk-toggleable__label sk-toggleable__label-arrow\">GradientBoostingClassifier</label><div class=\"sk-toggleable__content\"><pre>GradientBoostingClassifier()</pre></div></div></div></div></div>"
            ]
          },
          "metadata": {},
          "execution_count": 89
        }
      ]
    },
    {
      "cell_type": "code",
      "source": [
        "y_predict_gbc = gbc.predict(X_test)"
      ],
      "metadata": {
        "id": "OUetKt6MFmiD"
      },
      "execution_count": 90,
      "outputs": []
    },
    {
      "cell_type": "code",
      "source": [
        "print(\"Gradient Boosting Classifier is\",(accuracy_score(y_test,y_predict_gbc))*100,\"%\",\"accurate on this dataset.\")"
      ],
      "metadata": {
        "colab": {
          "base_uri": "https://localhost:8080/"
        },
        "id": "CddTWJF1Fmrm",
        "outputId": "280ebf6c-969d-4b60-cff1-892397ffbcbb"
      },
      "execution_count": 91,
      "outputs": [
        {
          "output_type": "stream",
          "name": "stdout",
          "text": [
            "Gradient Boosting Classifier is 79.12087912087912 % accurate on this dataset.\n"
          ]
        }
      ]
    },
    {
      "cell_type": "markdown",
      "source": [
        "**Final Scores**"
      ],
      "metadata": {
        "id": "w4VCuCS9GPOJ"
      }
    },
    {
      "cell_type": "code",
      "source": [
        "final_score = pd.DataFrame({'Models':['LR','SVM','KNN','DT','RF','GB'],\n",
        "                          'ACCURACY':[accuracy_score(y_test,y_predict_lr)*100,\n",
        "                                accuracy_score(y_test,y_predict_svm)*100,\n",
        "                                accuracy_score(y_test,y_predict_knn)*100,\n",
        "                                accuracy_score(y_test,y_predict_dt)*100,\n",
        "                                accuracy_score(y_test,y_predict_rf)*100,\n",
        "                                accuracy_score(y_test,y_predict_gbc)*100]})"
      ],
      "metadata": {
        "id": "-FsXjqTBGN3p"
      },
      "execution_count": 92,
      "outputs": []
    },
    {
      "cell_type": "code",
      "source": [
        "final_score"
      ],
      "metadata": {
        "colab": {
          "base_uri": "https://localhost:8080/",
          "height": 237
        },
        "id": "4WAk-lOIGn5i",
        "outputId": "f05fc4f7-b9dc-4c66-da93-b93b42117177"
      },
      "execution_count": 93,
      "outputs": [
        {
          "output_type": "execute_result",
          "data": {
            "text/plain": [
              "  Models   ACCURACY\n",
              "0     LR  84.615385\n",
              "1    SVM  80.219780\n",
              "2    KNN  79.120879\n",
              "3     DT  70.329670\n",
              "4     RF  83.516484\n",
              "5     GB  79.120879"
            ],
            "text/html": [
              "\n",
              "  <div id=\"df-cc5c1a1b-dd5b-455c-b7f5-8d92e112ccb0\" class=\"colab-df-container\">\n",
              "    <div>\n",
              "<style scoped>\n",
              "    .dataframe tbody tr th:only-of-type {\n",
              "        vertical-align: middle;\n",
              "    }\n",
              "\n",
              "    .dataframe tbody tr th {\n",
              "        vertical-align: top;\n",
              "    }\n",
              "\n",
              "    .dataframe thead th {\n",
              "        text-align: right;\n",
              "    }\n",
              "</style>\n",
              "<table border=\"1\" class=\"dataframe\">\n",
              "  <thead>\n",
              "    <tr style=\"text-align: right;\">\n",
              "      <th></th>\n",
              "      <th>Models</th>\n",
              "      <th>ACCURACY</th>\n",
              "    </tr>\n",
              "  </thead>\n",
              "  <tbody>\n",
              "    <tr>\n",
              "      <th>0</th>\n",
              "      <td>LR</td>\n",
              "      <td>84.615385</td>\n",
              "    </tr>\n",
              "    <tr>\n",
              "      <th>1</th>\n",
              "      <td>SVM</td>\n",
              "      <td>80.219780</td>\n",
              "    </tr>\n",
              "    <tr>\n",
              "      <th>2</th>\n",
              "      <td>KNN</td>\n",
              "      <td>79.120879</td>\n",
              "    </tr>\n",
              "    <tr>\n",
              "      <th>3</th>\n",
              "      <td>DT</td>\n",
              "      <td>70.329670</td>\n",
              "    </tr>\n",
              "    <tr>\n",
              "      <th>4</th>\n",
              "      <td>RF</td>\n",
              "      <td>83.516484</td>\n",
              "    </tr>\n",
              "    <tr>\n",
              "      <th>5</th>\n",
              "      <td>GB</td>\n",
              "      <td>79.120879</td>\n",
              "    </tr>\n",
              "  </tbody>\n",
              "</table>\n",
              "</div>\n",
              "    <div class=\"colab-df-buttons\">\n",
              "\n",
              "  <div class=\"colab-df-container\">\n",
              "    <button class=\"colab-df-convert\" onclick=\"convertToInteractive('df-cc5c1a1b-dd5b-455c-b7f5-8d92e112ccb0')\"\n",
              "            title=\"Convert this dataframe to an interactive table.\"\n",
              "            style=\"display:none;\">\n",
              "\n",
              "  <svg xmlns=\"http://www.w3.org/2000/svg\" height=\"24px\" viewBox=\"0 -960 960 960\">\n",
              "    <path d=\"M120-120v-720h720v720H120Zm60-500h600v-160H180v160Zm220 220h160v-160H400v160Zm0 220h160v-160H400v160ZM180-400h160v-160H180v160Zm440 0h160v-160H620v160ZM180-180h160v-160H180v160Zm440 0h160v-160H620v160Z\"/>\n",
              "  </svg>\n",
              "    </button>\n",
              "\n",
              "  <style>\n",
              "    .colab-df-container {\n",
              "      display:flex;\n",
              "      gap: 12px;\n",
              "    }\n",
              "\n",
              "    .colab-df-convert {\n",
              "      background-color: #E8F0FE;\n",
              "      border: none;\n",
              "      border-radius: 50%;\n",
              "      cursor: pointer;\n",
              "      display: none;\n",
              "      fill: #1967D2;\n",
              "      height: 32px;\n",
              "      padding: 0 0 0 0;\n",
              "      width: 32px;\n",
              "    }\n",
              "\n",
              "    .colab-df-convert:hover {\n",
              "      background-color: #E2EBFA;\n",
              "      box-shadow: 0px 1px 2px rgba(60, 64, 67, 0.3), 0px 1px 3px 1px rgba(60, 64, 67, 0.15);\n",
              "      fill: #174EA6;\n",
              "    }\n",
              "\n",
              "    .colab-df-buttons div {\n",
              "      margin-bottom: 4px;\n",
              "    }\n",
              "\n",
              "    [theme=dark] .colab-df-convert {\n",
              "      background-color: #3B4455;\n",
              "      fill: #D2E3FC;\n",
              "    }\n",
              "\n",
              "    [theme=dark] .colab-df-convert:hover {\n",
              "      background-color: #434B5C;\n",
              "      box-shadow: 0px 1px 3px 1px rgba(0, 0, 0, 0.15);\n",
              "      filter: drop-shadow(0px 1px 2px rgba(0, 0, 0, 0.3));\n",
              "      fill: #FFFFFF;\n",
              "    }\n",
              "  </style>\n",
              "\n",
              "    <script>\n",
              "      const buttonEl =\n",
              "        document.querySelector('#df-cc5c1a1b-dd5b-455c-b7f5-8d92e112ccb0 button.colab-df-convert');\n",
              "      buttonEl.style.display =\n",
              "        google.colab.kernel.accessAllowed ? 'block' : 'none';\n",
              "\n",
              "      async function convertToInteractive(key) {\n",
              "        const element = document.querySelector('#df-cc5c1a1b-dd5b-455c-b7f5-8d92e112ccb0');\n",
              "        const dataTable =\n",
              "          await google.colab.kernel.invokeFunction('convertToInteractive',\n",
              "                                                    [key], {});\n",
              "        if (!dataTable) return;\n",
              "\n",
              "        const docLinkHtml = 'Like what you see? Visit the ' +\n",
              "          '<a target=\"_blank\" href=https://colab.research.google.com/notebooks/data_table.ipynb>data table notebook</a>'\n",
              "          + ' to learn more about interactive tables.';\n",
              "        element.innerHTML = '';\n",
              "        dataTable['output_type'] = 'display_data';\n",
              "        await google.colab.output.renderOutput(dataTable, element);\n",
              "        const docLink = document.createElement('div');\n",
              "        docLink.innerHTML = docLinkHtml;\n",
              "        element.appendChild(docLink);\n",
              "      }\n",
              "    </script>\n",
              "  </div>\n",
              "\n",
              "\n",
              "<div id=\"df-6eb06e99-47a2-4d66-8134-81af03923f0b\">\n",
              "  <button class=\"colab-df-quickchart\" onclick=\"quickchart('df-6eb06e99-47a2-4d66-8134-81af03923f0b')\"\n",
              "            title=\"Suggest charts\"\n",
              "            style=\"display:none;\">\n",
              "\n",
              "<svg xmlns=\"http://www.w3.org/2000/svg\" height=\"24px\"viewBox=\"0 0 24 24\"\n",
              "     width=\"24px\">\n",
              "    <g>\n",
              "        <path d=\"M19 3H5c-1.1 0-2 .9-2 2v14c0 1.1.9 2 2 2h14c1.1 0 2-.9 2-2V5c0-1.1-.9-2-2-2zM9 17H7v-7h2v7zm4 0h-2V7h2v10zm4 0h-2v-4h2v4z\"/>\n",
              "    </g>\n",
              "</svg>\n",
              "  </button>\n",
              "\n",
              "<style>\n",
              "  .colab-df-quickchart {\n",
              "      --bg-color: #E8F0FE;\n",
              "      --fill-color: #1967D2;\n",
              "      --hover-bg-color: #E2EBFA;\n",
              "      --hover-fill-color: #174EA6;\n",
              "      --disabled-fill-color: #AAA;\n",
              "      --disabled-bg-color: #DDD;\n",
              "  }\n",
              "\n",
              "  [theme=dark] .colab-df-quickchart {\n",
              "      --bg-color: #3B4455;\n",
              "      --fill-color: #D2E3FC;\n",
              "      --hover-bg-color: #434B5C;\n",
              "      --hover-fill-color: #FFFFFF;\n",
              "      --disabled-bg-color: #3B4455;\n",
              "      --disabled-fill-color: #666;\n",
              "  }\n",
              "\n",
              "  .colab-df-quickchart {\n",
              "    background-color: var(--bg-color);\n",
              "    border: none;\n",
              "    border-radius: 50%;\n",
              "    cursor: pointer;\n",
              "    display: none;\n",
              "    fill: var(--fill-color);\n",
              "    height: 32px;\n",
              "    padding: 0;\n",
              "    width: 32px;\n",
              "  }\n",
              "\n",
              "  .colab-df-quickchart:hover {\n",
              "    background-color: var(--hover-bg-color);\n",
              "    box-shadow: 0 1px 2px rgba(60, 64, 67, 0.3), 0 1px 3px 1px rgba(60, 64, 67, 0.15);\n",
              "    fill: var(--button-hover-fill-color);\n",
              "  }\n",
              "\n",
              "  .colab-df-quickchart-complete:disabled,\n",
              "  .colab-df-quickchart-complete:disabled:hover {\n",
              "    background-color: var(--disabled-bg-color);\n",
              "    fill: var(--disabled-fill-color);\n",
              "    box-shadow: none;\n",
              "  }\n",
              "\n",
              "  .colab-df-spinner {\n",
              "    border: 2px solid var(--fill-color);\n",
              "    border-color: transparent;\n",
              "    border-bottom-color: var(--fill-color);\n",
              "    animation:\n",
              "      spin 1s steps(1) infinite;\n",
              "  }\n",
              "\n",
              "  @keyframes spin {\n",
              "    0% {\n",
              "      border-color: transparent;\n",
              "      border-bottom-color: var(--fill-color);\n",
              "      border-left-color: var(--fill-color);\n",
              "    }\n",
              "    20% {\n",
              "      border-color: transparent;\n",
              "      border-left-color: var(--fill-color);\n",
              "      border-top-color: var(--fill-color);\n",
              "    }\n",
              "    30% {\n",
              "      border-color: transparent;\n",
              "      border-left-color: var(--fill-color);\n",
              "      border-top-color: var(--fill-color);\n",
              "      border-right-color: var(--fill-color);\n",
              "    }\n",
              "    40% {\n",
              "      border-color: transparent;\n",
              "      border-right-color: var(--fill-color);\n",
              "      border-top-color: var(--fill-color);\n",
              "    }\n",
              "    60% {\n",
              "      border-color: transparent;\n",
              "      border-right-color: var(--fill-color);\n",
              "    }\n",
              "    80% {\n",
              "      border-color: transparent;\n",
              "      border-right-color: var(--fill-color);\n",
              "      border-bottom-color: var(--fill-color);\n",
              "    }\n",
              "    90% {\n",
              "      border-color: transparent;\n",
              "      border-bottom-color: var(--fill-color);\n",
              "    }\n",
              "  }\n",
              "</style>\n",
              "\n",
              "  <script>\n",
              "    async function quickchart(key) {\n",
              "      const quickchartButtonEl =\n",
              "        document.querySelector('#' + key + ' button');\n",
              "      quickchartButtonEl.disabled = true;  // To prevent multiple clicks.\n",
              "      quickchartButtonEl.classList.add('colab-df-spinner');\n",
              "      try {\n",
              "        const charts = await google.colab.kernel.invokeFunction(\n",
              "            'suggestCharts', [key], {});\n",
              "      } catch (error) {\n",
              "        console.error('Error during call to suggestCharts:', error);\n",
              "      }\n",
              "      quickchartButtonEl.classList.remove('colab-df-spinner');\n",
              "      quickchartButtonEl.classList.add('colab-df-quickchart-complete');\n",
              "    }\n",
              "    (() => {\n",
              "      let quickchartButtonEl =\n",
              "        document.querySelector('#df-6eb06e99-47a2-4d66-8134-81af03923f0b button');\n",
              "      quickchartButtonEl.style.display =\n",
              "        google.colab.kernel.accessAllowed ? 'block' : 'none';\n",
              "    })();\n",
              "  </script>\n",
              "</div>\n",
              "\n",
              "  <div id=\"id_07ceded3-70b5-4a76-8802-d1c4c59b8bb3\">\n",
              "    <style>\n",
              "      .colab-df-generate {\n",
              "        background-color: #E8F0FE;\n",
              "        border: none;\n",
              "        border-radius: 50%;\n",
              "        cursor: pointer;\n",
              "        display: none;\n",
              "        fill: #1967D2;\n",
              "        height: 32px;\n",
              "        padding: 0 0 0 0;\n",
              "        width: 32px;\n",
              "      }\n",
              "\n",
              "      .colab-df-generate:hover {\n",
              "        background-color: #E2EBFA;\n",
              "        box-shadow: 0px 1px 2px rgba(60, 64, 67, 0.3), 0px 1px 3px 1px rgba(60, 64, 67, 0.15);\n",
              "        fill: #174EA6;\n",
              "      }\n",
              "\n",
              "      [theme=dark] .colab-df-generate {\n",
              "        background-color: #3B4455;\n",
              "        fill: #D2E3FC;\n",
              "      }\n",
              "\n",
              "      [theme=dark] .colab-df-generate:hover {\n",
              "        background-color: #434B5C;\n",
              "        box-shadow: 0px 1px 3px 1px rgba(0, 0, 0, 0.15);\n",
              "        filter: drop-shadow(0px 1px 2px rgba(0, 0, 0, 0.3));\n",
              "        fill: #FFFFFF;\n",
              "      }\n",
              "    </style>\n",
              "    <button class=\"colab-df-generate\" onclick=\"generateWithVariable('final_score')\"\n",
              "            title=\"Generate code using this dataframe.\"\n",
              "            style=\"display:none;\">\n",
              "\n",
              "  <svg xmlns=\"http://www.w3.org/2000/svg\" height=\"24px\"viewBox=\"0 0 24 24\"\n",
              "       width=\"24px\">\n",
              "    <path d=\"M7,19H8.4L18.45,9,17,7.55,7,17.6ZM5,21V16.75L18.45,3.32a2,2,0,0,1,2.83,0l1.4,1.43a1.91,1.91,0,0,1,.58,1.4,1.91,1.91,0,0,1-.58,1.4L9.25,21ZM18.45,9,17,7.55Zm-12,3A5.31,5.31,0,0,0,4.9,8.1,5.31,5.31,0,0,0,1,6.5,5.31,5.31,0,0,0,4.9,4.9,5.31,5.31,0,0,0,6.5,1,5.31,5.31,0,0,0,8.1,4.9,5.31,5.31,0,0,0,12,6.5,5.46,5.46,0,0,0,6.5,12Z\"/>\n",
              "  </svg>\n",
              "    </button>\n",
              "    <script>\n",
              "      (() => {\n",
              "      const buttonEl =\n",
              "        document.querySelector('#id_07ceded3-70b5-4a76-8802-d1c4c59b8bb3 button.colab-df-generate');\n",
              "      buttonEl.style.display =\n",
              "        google.colab.kernel.accessAllowed ? 'block' : 'none';\n",
              "\n",
              "      buttonEl.onclick = () => {\n",
              "        google.colab.notebook.generateWithVariable('final_score');\n",
              "      }\n",
              "      })();\n",
              "    </script>\n",
              "  </div>\n",
              "\n",
              "    </div>\n",
              "  </div>\n"
            ],
            "application/vnd.google.colaboratory.intrinsic+json": {
              "type": "dataframe",
              "variable_name": "final_score",
              "summary": "{\n  \"name\": \"final_score\",\n  \"rows\": 6,\n  \"fields\": [\n    {\n      \"column\": \"Models\",\n      \"properties\": {\n        \"dtype\": \"string\",\n        \"num_unique_values\": 6,\n        \"samples\": [\n          \"LR\",\n          \"SVM\",\n          \"GB\"\n        ],\n        \"semantic_type\": \"\",\n        \"description\": \"\"\n      }\n    },\n    {\n      \"column\": \"ACCURACY\",\n      \"properties\": {\n        \"dtype\": \"number\",\n        \"std\": 5.043784462434724,\n        \"min\": 70.32967032967034,\n        \"max\": 84.61538461538461,\n        \"num_unique_values\": 5,\n        \"samples\": [\n          80.21978021978022,\n          83.51648351648352,\n          79.12087912087912\n        ],\n        \"semantic_type\": \"\",\n        \"description\": \"\"\n      }\n    }\n  ]\n}"
            }
          },
          "metadata": {},
          "execution_count": 93
        }
      ]
    },
    {
      "cell_type": "code",
      "source": [
        "import matplotlib.pyplot as plt\n"
      ],
      "metadata": {
        "id": "Ch9xpUAKG0Gx"
      },
      "execution_count": 94,
      "outputs": []
    },
    {
      "cell_type": "code",
      "source": [
        "plt.bar(final_score['Models'],final_score['ACCURACY'],color=['r','g','b','y','orange','grey'])\n",
        "plt.ylim(0,100)\n",
        "plt.show()"
      ],
      "metadata": {
        "colab": {
          "base_uri": "https://localhost:8080/",
          "height": 435
        },
        "id": "grghgcHTG2WY",
        "outputId": "70a1a992-67ed-4158-df6d-c01eae6fd339"
      },
      "execution_count": 95,
      "outputs": [
        {
          "output_type": "display_data",
          "data": {
            "text/plain": [
              "<Figure size 640x480 with 1 Axes>"
            ],
            "image/png": "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\n"
          },
          "metadata": {}
        }
      ]
    },
    {
      "cell_type": "code",
      "source": [
        "X=dataset.drop('target',axis=1)\n",
        "y=dataset['target']"
      ],
      "metadata": {
        "id": "r-BvX_r5JzK5"
      },
      "execution_count": 96,
      "outputs": []
    },
    {
      "cell_type": "code",
      "source": [
        "from sklearn.ensemble import RandomForestClassifier"
      ],
      "metadata": {
        "id": "MuL08ZxXKAa4"
      },
      "execution_count": 97,
      "outputs": []
    },
    {
      "cell_type": "code",
      "source": [
        "model.feature_names = ['age', 'gender', 'cp', 'trestbps', 'chol', 'fbs', 'restecg', 'thalach', 'exang', 'oldpeak', 'slope', 'ca', 'thal']\n"
      ],
      "metadata": {
        "id": "HrQ0gujzy041"
      },
      "execution_count": 124,
      "outputs": []
    },
    {
      "cell_type": "code",
      "source": [
        "rf = RandomForestClassifier()\n",
        "rf.fit(X,y)"
      ],
      "metadata": {
        "colab": {
          "base_uri": "https://localhost:8080/",
          "height": 74
        },
        "id": "1OYWkAVjKIiD",
        "outputId": "15bd6eed-b47f-42a2-ebeb-4632216dd52b"
      },
      "execution_count": 116,
      "outputs": [
        {
          "output_type": "execute_result",
          "data": {
            "text/plain": [
              "RandomForestClassifier()"
            ],
            "text/html": [
              "<style>#sk-container-id-8 {color: black;background-color: white;}#sk-container-id-8 pre{padding: 0;}#sk-container-id-8 div.sk-toggleable {background-color: white;}#sk-container-id-8 label.sk-toggleable__label {cursor: pointer;display: block;width: 100%;margin-bottom: 0;padding: 0.3em;box-sizing: border-box;text-align: center;}#sk-container-id-8 label.sk-toggleable__label-arrow:before {content: \"▸\";float: left;margin-right: 0.25em;color: #696969;}#sk-container-id-8 label.sk-toggleable__label-arrow:hover:before {color: black;}#sk-container-id-8 div.sk-estimator:hover label.sk-toggleable__label-arrow:before {color: black;}#sk-container-id-8 div.sk-toggleable__content {max-height: 0;max-width: 0;overflow: hidden;text-align: left;background-color: #f0f8ff;}#sk-container-id-8 div.sk-toggleable__content pre {margin: 0.2em;color: black;border-radius: 0.25em;background-color: #f0f8ff;}#sk-container-id-8 input.sk-toggleable__control:checked~div.sk-toggleable__content {max-height: 200px;max-width: 100%;overflow: auto;}#sk-container-id-8 input.sk-toggleable__control:checked~label.sk-toggleable__label-arrow:before {content: \"▾\";}#sk-container-id-8 div.sk-estimator input.sk-toggleable__control:checked~label.sk-toggleable__label {background-color: #d4ebff;}#sk-container-id-8 div.sk-label input.sk-toggleable__control:checked~label.sk-toggleable__label {background-color: #d4ebff;}#sk-container-id-8 input.sk-hidden--visually {border: 0;clip: rect(1px 1px 1px 1px);clip: rect(1px, 1px, 1px, 1px);height: 1px;margin: -1px;overflow: hidden;padding: 0;position: absolute;width: 1px;}#sk-container-id-8 div.sk-estimator {font-family: monospace;background-color: #f0f8ff;border: 1px dotted black;border-radius: 0.25em;box-sizing: border-box;margin-bottom: 0.5em;}#sk-container-id-8 div.sk-estimator:hover {background-color: #d4ebff;}#sk-container-id-8 div.sk-parallel-item::after {content: \"\";width: 100%;border-bottom: 1px solid gray;flex-grow: 1;}#sk-container-id-8 div.sk-label:hover label.sk-toggleable__label {background-color: #d4ebff;}#sk-container-id-8 div.sk-serial::before {content: \"\";position: absolute;border-left: 1px solid gray;box-sizing: border-box;top: 0;bottom: 0;left: 50%;z-index: 0;}#sk-container-id-8 div.sk-serial {display: flex;flex-direction: column;align-items: center;background-color: white;padding-right: 0.2em;padding-left: 0.2em;position: relative;}#sk-container-id-8 div.sk-item {position: relative;z-index: 1;}#sk-container-id-8 div.sk-parallel {display: flex;align-items: stretch;justify-content: center;background-color: white;position: relative;}#sk-container-id-8 div.sk-item::before, #sk-container-id-8 div.sk-parallel-item::before {content: \"\";position: absolute;border-left: 1px solid gray;box-sizing: border-box;top: 0;bottom: 0;left: 50%;z-index: -1;}#sk-container-id-8 div.sk-parallel-item {display: flex;flex-direction: column;z-index: 1;position: relative;background-color: white;}#sk-container-id-8 div.sk-parallel-item:first-child::after {align-self: flex-end;width: 50%;}#sk-container-id-8 div.sk-parallel-item:last-child::after {align-self: flex-start;width: 50%;}#sk-container-id-8 div.sk-parallel-item:only-child::after {width: 0;}#sk-container-id-8 div.sk-dashed-wrapped {border: 1px dashed gray;margin: 0 0.4em 0.5em 0.4em;box-sizing: border-box;padding-bottom: 0.4em;background-color: white;}#sk-container-id-8 div.sk-label label {font-family: monospace;font-weight: bold;display: inline-block;line-height: 1.2em;}#sk-container-id-8 div.sk-label-container {text-align: center;}#sk-container-id-8 div.sk-container {/* jupyter's `normalize.less` sets `[hidden] { display: none; }` but bootstrap.min.css set `[hidden] { display: none !important; }` so we also need the `!important` here to be able to override the default hidden behavior on the sphinx rendered scikit-learn.org. See: https://github.com/scikit-learn/scikit-learn/issues/21755 */display: inline-block !important;position: relative;}#sk-container-id-8 div.sk-text-repr-fallback {display: none;}</style><div id=\"sk-container-id-8\" class=\"sk-top-container\"><div class=\"sk-text-repr-fallback\"><pre>RandomForestClassifier()</pre><b>In a Jupyter environment, please rerun this cell to show the HTML representation or trust the notebook. <br />On GitHub, the HTML representation is unable to render, please try loading this page with nbviewer.org.</b></div><div class=\"sk-container\" hidden><div class=\"sk-item\"><div class=\"sk-estimator sk-toggleable\"><input class=\"sk-toggleable__control sk-hidden--visually\" id=\"sk-estimator-id-8\" type=\"checkbox\" checked><label for=\"sk-estimator-id-8\" class=\"sk-toggleable__label sk-toggleable__label-arrow\">RandomForestClassifier</label><div class=\"sk-toggleable__content\"><pre>RandomForestClassifier()</pre></div></div></div></div></div>"
            ]
          },
          "metadata": {},
          "execution_count": 116
        }
      ]
    },
    {
      "cell_type": "markdown",
      "source": [
        "### 16.) Prediction on New Data"
      ],
      "metadata": {
        "id": "IdHmByE3vxVk"
      }
    },
    {
      "cell_type": "code",
      "source": [
        "import pandas as pd"
      ],
      "metadata": {
        "id": "ZMy9ucpbwF30"
      },
      "execution_count": 117,
      "outputs": []
    },
    {
      "cell_type": "code",
      "source": [
        "new_data = pd.DataFrame({\n",
        "    'age':44,\n",
        "    'sex':0,\n",
        "    'cp':1,\n",
        "    'trestbps':95,\n",
        "    'chol':212,\n",
        "    'fbs':0,\n",
        "    'restecg':1,\n",
        "    'thalach':168,\n",
        "    'exang':0,\n",
        "    'oldpeak':1.0,\n",
        "     'slope':2,\n",
        "    'ca':2,\n",
        "    'thal':3,\n",
        "},index=[0])"
      ],
      "metadata": {
        "id": "GWkg4uEEKdz6"
      },
      "execution_count": 119,
      "outputs": []
    },
    {
      "cell_type": "code",
      "source": [
        "new_data"
      ],
      "metadata": {
        "colab": {
          "base_uri": "https://localhost:8080/",
          "height": 89
        },
        "id": "G-U-YI2WK99a",
        "outputId": "816062ee-5a66-433e-88af-124eeaf53b1d"
      },
      "execution_count": 118,
      "outputs": [
        {
          "output_type": "execute_result",
          "data": {
            "text/plain": [
              "   age  sex  cp  trestbps  chol  fbs  restecg  thalach  exang  oldpeak  slope  \\\n",
              "0   44    0   1        95   212    0        1      168      0      1.0      2   \n",
              "\n",
              "   ca  thal  \n",
              "0   2     3  "
            ],
            "text/html": [
              "\n",
              "  <div id=\"df-c344613a-c1a7-4e4a-8588-36764c9e2bec\" class=\"colab-df-container\">\n",
              "    <div>\n",
              "<style scoped>\n",
              "    .dataframe tbody tr th:only-of-type {\n",
              "        vertical-align: middle;\n",
              "    }\n",
              "\n",
              "    .dataframe tbody tr th {\n",
              "        vertical-align: top;\n",
              "    }\n",
              "\n",
              "    .dataframe thead th {\n",
              "        text-align: right;\n",
              "    }\n",
              "</style>\n",
              "<table border=\"1\" class=\"dataframe\">\n",
              "  <thead>\n",
              "    <tr style=\"text-align: right;\">\n",
              "      <th></th>\n",
              "      <th>age</th>\n",
              "      <th>sex</th>\n",
              "      <th>cp</th>\n",
              "      <th>trestbps</th>\n",
              "      <th>chol</th>\n",
              "      <th>fbs</th>\n",
              "      <th>restecg</th>\n",
              "      <th>thalach</th>\n",
              "      <th>exang</th>\n",
              "      <th>oldpeak</th>\n",
              "      <th>slope</th>\n",
              "      <th>ca</th>\n",
              "      <th>thal</th>\n",
              "    </tr>\n",
              "  </thead>\n",
              "  <tbody>\n",
              "    <tr>\n",
              "      <th>0</th>\n",
              "      <td>44</td>\n",
              "      <td>0</td>\n",
              "      <td>1</td>\n",
              "      <td>95</td>\n",
              "      <td>212</td>\n",
              "      <td>0</td>\n",
              "      <td>1</td>\n",
              "      <td>168</td>\n",
              "      <td>0</td>\n",
              "      <td>1.0</td>\n",
              "      <td>2</td>\n",
              "      <td>2</td>\n",
              "      <td>3</td>\n",
              "    </tr>\n",
              "  </tbody>\n",
              "</table>\n",
              "</div>\n",
              "    <div class=\"colab-df-buttons\">\n",
              "\n",
              "  <div class=\"colab-df-container\">\n",
              "    <button class=\"colab-df-convert\" onclick=\"convertToInteractive('df-c344613a-c1a7-4e4a-8588-36764c9e2bec')\"\n",
              "            title=\"Convert this dataframe to an interactive table.\"\n",
              "            style=\"display:none;\">\n",
              "\n",
              "  <svg xmlns=\"http://www.w3.org/2000/svg\" height=\"24px\" viewBox=\"0 -960 960 960\">\n",
              "    <path d=\"M120-120v-720h720v720H120Zm60-500h600v-160H180v160Zm220 220h160v-160H400v160Zm0 220h160v-160H400v160ZM180-400h160v-160H180v160Zm440 0h160v-160H620v160ZM180-180h160v-160H180v160Zm440 0h160v-160H620v160Z\"/>\n",
              "  </svg>\n",
              "    </button>\n",
              "\n",
              "  <style>\n",
              "    .colab-df-container {\n",
              "      display:flex;\n",
              "      gap: 12px;\n",
              "    }\n",
              "\n",
              "    .colab-df-convert {\n",
              "      background-color: #E8F0FE;\n",
              "      border: none;\n",
              "      border-radius: 50%;\n",
              "      cursor: pointer;\n",
              "      display: none;\n",
              "      fill: #1967D2;\n",
              "      height: 32px;\n",
              "      padding: 0 0 0 0;\n",
              "      width: 32px;\n",
              "    }\n",
              "\n",
              "    .colab-df-convert:hover {\n",
              "      background-color: #E2EBFA;\n",
              "      box-shadow: 0px 1px 2px rgba(60, 64, 67, 0.3), 0px 1px 3px 1px rgba(60, 64, 67, 0.15);\n",
              "      fill: #174EA6;\n",
              "    }\n",
              "\n",
              "    .colab-df-buttons div {\n",
              "      margin-bottom: 4px;\n",
              "    }\n",
              "\n",
              "    [theme=dark] .colab-df-convert {\n",
              "      background-color: #3B4455;\n",
              "      fill: #D2E3FC;\n",
              "    }\n",
              "\n",
              "    [theme=dark] .colab-df-convert:hover {\n",
              "      background-color: #434B5C;\n",
              "      box-shadow: 0px 1px 3px 1px rgba(0, 0, 0, 0.15);\n",
              "      filter: drop-shadow(0px 1px 2px rgba(0, 0, 0, 0.3));\n",
              "      fill: #FFFFFF;\n",
              "    }\n",
              "  </style>\n",
              "\n",
              "    <script>\n",
              "      const buttonEl =\n",
              "        document.querySelector('#df-c344613a-c1a7-4e4a-8588-36764c9e2bec button.colab-df-convert');\n",
              "      buttonEl.style.display =\n",
              "        google.colab.kernel.accessAllowed ? 'block' : 'none';\n",
              "\n",
              "      async function convertToInteractive(key) {\n",
              "        const element = document.querySelector('#df-c344613a-c1a7-4e4a-8588-36764c9e2bec');\n",
              "        const dataTable =\n",
              "          await google.colab.kernel.invokeFunction('convertToInteractive',\n",
              "                                                    [key], {});\n",
              "        if (!dataTable) return;\n",
              "\n",
              "        const docLinkHtml = 'Like what you see? Visit the ' +\n",
              "          '<a target=\"_blank\" href=https://colab.research.google.com/notebooks/data_table.ipynb>data table notebook</a>'\n",
              "          + ' to learn more about interactive tables.';\n",
              "        element.innerHTML = '';\n",
              "        dataTable['output_type'] = 'display_data';\n",
              "        await google.colab.output.renderOutput(dataTable, element);\n",
              "        const docLink = document.createElement('div');\n",
              "        docLink.innerHTML = docLinkHtml;\n",
              "        element.appendChild(docLink);\n",
              "      }\n",
              "    </script>\n",
              "  </div>\n",
              "\n",
              "\n",
              "  <div id=\"id_6d8d6b81-462c-4211-b91d-8006a07ccde6\">\n",
              "    <style>\n",
              "      .colab-df-generate {\n",
              "        background-color: #E8F0FE;\n",
              "        border: none;\n",
              "        border-radius: 50%;\n",
              "        cursor: pointer;\n",
              "        display: none;\n",
              "        fill: #1967D2;\n",
              "        height: 32px;\n",
              "        padding: 0 0 0 0;\n",
              "        width: 32px;\n",
              "      }\n",
              "\n",
              "      .colab-df-generate:hover {\n",
              "        background-color: #E2EBFA;\n",
              "        box-shadow: 0px 1px 2px rgba(60, 64, 67, 0.3), 0px 1px 3px 1px rgba(60, 64, 67, 0.15);\n",
              "        fill: #174EA6;\n",
              "      }\n",
              "\n",
              "      [theme=dark] .colab-df-generate {\n",
              "        background-color: #3B4455;\n",
              "        fill: #D2E3FC;\n",
              "      }\n",
              "\n",
              "      [theme=dark] .colab-df-generate:hover {\n",
              "        background-color: #434B5C;\n",
              "        box-shadow: 0px 1px 3px 1px rgba(0, 0, 0, 0.15);\n",
              "        filter: drop-shadow(0px 1px 2px rgba(0, 0, 0, 0.3));\n",
              "        fill: #FFFFFF;\n",
              "      }\n",
              "    </style>\n",
              "    <button class=\"colab-df-generate\" onclick=\"generateWithVariable('new_data')\"\n",
              "            title=\"Generate code using this dataframe.\"\n",
              "            style=\"display:none;\">\n",
              "\n",
              "  <svg xmlns=\"http://www.w3.org/2000/svg\" height=\"24px\"viewBox=\"0 0 24 24\"\n",
              "       width=\"24px\">\n",
              "    <path d=\"M7,19H8.4L18.45,9,17,7.55,7,17.6ZM5,21V16.75L18.45,3.32a2,2,0,0,1,2.83,0l1.4,1.43a1.91,1.91,0,0,1,.58,1.4,1.91,1.91,0,0,1-.58,1.4L9.25,21ZM18.45,9,17,7.55Zm-12,3A5.31,5.31,0,0,0,4.9,8.1,5.31,5.31,0,0,0,1,6.5,5.31,5.31,0,0,0,4.9,4.9,5.31,5.31,0,0,0,6.5,1,5.31,5.31,0,0,0,8.1,4.9,5.31,5.31,0,0,0,12,6.5,5.46,5.46,0,0,0,6.5,12Z\"/>\n",
              "  </svg>\n",
              "    </button>\n",
              "    <script>\n",
              "      (() => {\n",
              "      const buttonEl =\n",
              "        document.querySelector('#id_6d8d6b81-462c-4211-b91d-8006a07ccde6 button.colab-df-generate');\n",
              "      buttonEl.style.display =\n",
              "        google.colab.kernel.accessAllowed ? 'block' : 'none';\n",
              "\n",
              "      buttonEl.onclick = () => {\n",
              "        google.colab.notebook.generateWithVariable('new_data');\n",
              "      }\n",
              "      })();\n",
              "    </script>\n",
              "  </div>\n",
              "\n",
              "    </div>\n",
              "  </div>\n"
            ],
            "application/vnd.google.colaboratory.intrinsic+json": {
              "type": "dataframe",
              "variable_name": "new_data",
              "summary": "{\n  \"name\": \"new_data\",\n  \"rows\": 1,\n  \"fields\": [\n    {\n      \"column\": \"age\",\n      \"properties\": {\n        \"dtype\": \"number\",\n        \"std\": null,\n        \"min\": 44,\n        \"max\": 44,\n        \"num_unique_values\": 1,\n        \"samples\": [\n          44\n        ],\n        \"semantic_type\": \"\",\n        \"description\": \"\"\n      }\n    },\n    {\n      \"column\": \"sex\",\n      \"properties\": {\n        \"dtype\": \"number\",\n        \"std\": null,\n        \"min\": 0,\n        \"max\": 0,\n        \"num_unique_values\": 1,\n        \"samples\": [\n          0\n        ],\n        \"semantic_type\": \"\",\n        \"description\": \"\"\n      }\n    },\n    {\n      \"column\": \"cp\",\n      \"properties\": {\n        \"dtype\": \"number\",\n        \"std\": null,\n        \"min\": 1,\n        \"max\": 1,\n        \"num_unique_values\": 1,\n        \"samples\": [\n          1\n        ],\n        \"semantic_type\": \"\",\n        \"description\": \"\"\n      }\n    },\n    {\n      \"column\": \"trestbps\",\n      \"properties\": {\n        \"dtype\": \"number\",\n        \"std\": null,\n        \"min\": 95,\n        \"max\": 95,\n        \"num_unique_values\": 1,\n        \"samples\": [\n          95\n        ],\n        \"semantic_type\": \"\",\n        \"description\": \"\"\n      }\n    },\n    {\n      \"column\": \"chol\",\n      \"properties\": {\n        \"dtype\": \"number\",\n        \"std\": null,\n        \"min\": 212,\n        \"max\": 212,\n        \"num_unique_values\": 1,\n        \"samples\": [\n          212\n        ],\n        \"semantic_type\": \"\",\n        \"description\": \"\"\n      }\n    },\n    {\n      \"column\": \"fbs\",\n      \"properties\": {\n        \"dtype\": \"number\",\n        \"std\": null,\n        \"min\": 0,\n        \"max\": 0,\n        \"num_unique_values\": 1,\n        \"samples\": [\n          0\n        ],\n        \"semantic_type\": \"\",\n        \"description\": \"\"\n      }\n    },\n    {\n      \"column\": \"restecg\",\n      \"properties\": {\n        \"dtype\": \"number\",\n        \"std\": null,\n        \"min\": 1,\n        \"max\": 1,\n        \"num_unique_values\": 1,\n        \"samples\": [\n          1\n        ],\n        \"semantic_type\": \"\",\n        \"description\": \"\"\n      }\n    },\n    {\n      \"column\": \"thalach\",\n      \"properties\": {\n        \"dtype\": \"number\",\n        \"std\": null,\n        \"min\": 168,\n        \"max\": 168,\n        \"num_unique_values\": 1,\n        \"samples\": [\n          168\n        ],\n        \"semantic_type\": \"\",\n        \"description\": \"\"\n      }\n    },\n    {\n      \"column\": \"exang\",\n      \"properties\": {\n        \"dtype\": \"number\",\n        \"std\": null,\n        \"min\": 0,\n        \"max\": 0,\n        \"num_unique_values\": 1,\n        \"samples\": [\n          0\n        ],\n        \"semantic_type\": \"\",\n        \"description\": \"\"\n      }\n    },\n    {\n      \"column\": \"oldpeak\",\n      \"properties\": {\n        \"dtype\": \"number\",\n        \"std\": null,\n        \"min\": 1.0,\n        \"max\": 1.0,\n        \"num_unique_values\": 1,\n        \"samples\": [\n          1.0\n        ],\n        \"semantic_type\": \"\",\n        \"description\": \"\"\n      }\n    },\n    {\n      \"column\": \"slope\",\n      \"properties\": {\n        \"dtype\": \"number\",\n        \"std\": null,\n        \"min\": 2,\n        \"max\": 2,\n        \"num_unique_values\": 1,\n        \"samples\": [\n          2\n        ],\n        \"semantic_type\": \"\",\n        \"description\": \"\"\n      }\n    },\n    {\n      \"column\": \"ca\",\n      \"properties\": {\n        \"dtype\": \"number\",\n        \"std\": null,\n        \"min\": 2,\n        \"max\": 2,\n        \"num_unique_values\": 1,\n        \"samples\": [\n          2\n        ],\n        \"semantic_type\": \"\",\n        \"description\": \"\"\n      }\n    },\n    {\n      \"column\": \"thal\",\n      \"properties\": {\n        \"dtype\": \"number\",\n        \"std\": null,\n        \"min\": 3,\n        \"max\": 3,\n        \"num_unique_values\": 1,\n        \"samples\": [\n          3\n        ],\n        \"semantic_type\": \"\",\n        \"description\": \"\"\n      }\n    }\n  ]\n}"
            }
          },
          "metadata": {},
          "execution_count": 118
        }
      ]
    },
    {
      "cell_type": "code",
      "source": [
        "p = rf.predict(new_data)\n",
        "if p[0]==0:\n",
        "    print(\"No Disease\")\n",
        "else:\n",
        "    print(\"Heart Disease\")"
      ],
      "metadata": {
        "colab": {
          "base_uri": "https://localhost:8080/"
        },
        "id": "pBMPQepGLFIt",
        "outputId": "17d4a19e-69f1-43fe-ed15-f3d08f495db9"
      },
      "execution_count": 115,
      "outputs": [
        {
          "output_type": "stream",
          "name": "stdout",
          "text": [
            "Heart Disease\n"
          ]
        }
      ]
    },
    {
      "cell_type": "markdown",
      "source": [
        "###17.) Save Model Using Joblib"
      ],
      "metadata": {
        "id": "ZIzwqWNhv2iJ"
      }
    },
    {
      "cell_type": "code",
      "source": [
        "import joblib"
      ],
      "metadata": {
        "id": "WdKZVgSLLUwU"
      },
      "execution_count": 126,
      "outputs": []
    },
    {
      "cell_type": "code",
      "source": [
        "joblib.dump(rf,'heart_d_p_joblib_model')"
      ],
      "metadata": {
        "colab": {
          "base_uri": "https://localhost:8080/"
        },
        "id": "630eIs3-LX24",
        "outputId": "58a28929-8e6d-4511-ad32-eaece75b9ca4"
      },
      "execution_count": 127,
      "outputs": [
        {
          "output_type": "execute_result",
          "data": {
            "text/plain": [
              "['heart_d_p_joblib_model']"
            ]
          },
          "metadata": {},
          "execution_count": 127
        }
      ]
    },
    {
      "cell_type": "code",
      "source": [
        "model = joblib.load('heart_d_p_joblib_model')"
      ],
      "metadata": {
        "id": "W7cFxkVKMtxX"
      },
      "execution_count": 128,
      "outputs": []
    },
    {
      "cell_type": "code",
      "source": [
        "model.predict(new_data)\n"
      ],
      "metadata": {
        "colab": {
          "base_uri": "https://localhost:8080/"
        },
        "id": "IpQQMNWRMyjD",
        "outputId": "7700fb00-1b02-4c26-95eb-a7afff5d3b26"
      },
      "execution_count": 123,
      "outputs": [
        {
          "output_type": "execute_result",
          "data": {
            "text/plain": [
              "array([1])"
            ]
          },
          "metadata": {},
          "execution_count": 123
        }
      ]
    },
    {
      "cell_type": "markdown",
      "source": [
        "###19.) GUI"
      ],
      "metadata": {
        "id": "MpYo0ey4v_R0"
      }
    },
    {
      "cell_type": "code",
      "source": [
        "import ipywidgets as widgets\n",
        "from IPython.display import display\n",
        "import joblib\n",
        "import numpy as np\n",
        "\n",
        "def show_entry_fields(button):\n",
        "    try:\n",
        "        # Get values from input fields\n",
        "        p1 = int(age_text.value)\n",
        "        p2 = 1 if gender_radiobutton.value == 'Male' else 0\n",
        "        p3 = int(cp_text.value)\n",
        "        p4 = int(trestbps_text.value)\n",
        "        p5 = int(chol_text.value)\n",
        "        p6 = int(fbs_text.value)\n",
        "        p7 = int(restecg_text.value)\n",
        "        p8 = int(thalach_text.value)\n",
        "        p9 = int(exang_text.value)\n",
        "        p10 = float(oldpeak_text.value)\n",
        "        p11 = int(slope_text.value)\n",
        "        p12 = int(ca_text.value)\n",
        "        p13 = int(thal_text.value)\n",
        "\n",
        "        # Check if any field is empty\n",
        "        if any(val is None or val == '' for val in [p1, p2, p3, p4, p5, p6, p7, p8, p9, p10, p11, p12, p13]):\n",
        "            raise ValueError(\"Please fill in all fields.\")\n",
        "\n",
        "        # Load the model\n",
        "        model = joblib.load('heart_d_p_joblib_model')\n",
        "\n",
        "        # Make prediction\n",
        "        result = model.predict([[p1, p2, p3, p4, p5, p6, p7, p8, p8, p10, p11, p12, p13]])\n",
        "\n",
        "        # Display result\n",
        "        if result == 0:\n",
        "            result_label.value = \"No Heart Disease\"\n",
        "        else:\n",
        "            result_label.value = \"Possibility of Heart Disease\"\n",
        "    except ValueError as e:\n",
        "        result_label.value = str(e)\n",
        "\n",
        "# Create widgets\n",
        "age_label = widgets.Label(value=\"Enter Your Age:\")\n",
        "age_text = widgets.IntText()\n",
        "gender_label = widgets.Label(value=\"Gender:\")\n",
        "gender_radiobutton = widgets.RadioButtons(options=['Male', 'Female'], value='Male', layout={'width': 'max-content'})\n",
        "cp_label = widgets.Label(value=\"Enter Value of CP:\")\n",
        "cp_text = widgets.IntSlider(value=0, min=0, max=3, step=1)\n",
        "trestbps_label = widgets.Label(value=\"Enter Value of trestbps:\")\n",
        "trestbps_text = widgets.IntText()\n",
        "chol_label = widgets.Label(value=\"Enter Value of chol:\")\n",
        "chol_text = widgets.IntText()\n",
        "fbs_label = widgets.Label(value=\"Enter Value of fbs:\")\n",
        "fbs_text = widgets.IntText()\n",
        "restecg_label = widgets.Label(value=\"Enter Value of restecg:\")\n",
        "restecg_text = widgets.IntSlider(value=0, min=0, max=2, step=1)\n",
        "thalach_label = widgets.Label(value=\"Enter Value of thalach:\")\n",
        "thalach_text = widgets.IntText()\n",
        "exang_label = widgets.Label(value=\"Enter Value of exang:\")\n",
        "exang_text = widgets.IntText()\n",
        "oldpeak_label = widgets.Label(value=\"Enter Value of oldpeak:\")\n",
        "oldpeak_text = widgets.FloatText()\n",
        "slope_label = widgets.Label(value=\"Enter Value of slope:\")\n",
        "slope_text = widgets.IntSlider(value=1, min=1, max=3, step=1)\n",
        "ca_label = widgets.Label(value=\"Enter Value of ca:\")\n",
        "ca_text = widgets.IntSlider(value=0, min=0, max=3, step=1)\n",
        "thal_label = widgets.Label(value=\"Enter Value of thal:\")\n",
        "thal_text = widgets.IntSlider(value=0, min=0, max=2, step=1)\n",
        "submit_button = widgets.Button(description=\"Predict\")\n",
        "result_label = widgets.Label()\n",
        "\n",
        "# Display widgets\n",
        "display(age_label, age_text, gender_label, gender_radiobutton, cp_label, cp_text, trestbps_label, trestbps_text,\n",
        "        chol_label, chol_text, fbs_label, fbs_text, restecg_label, restecg_text, thalach_label, thalach_text,\n",
        "        exang_label, exang_text, oldpeak_label, oldpeak_text, slope_label, slope_text, ca_label, ca_text,\n",
        "        thal_label, thal_text, submit_button, result_label)\n",
        "\n",
        "# Event handler for submit button\n",
        "submit_button.on_click(show_entry_fields)\n"
      ],
      "metadata": {
        "colab": {
          "base_uri": "https://localhost:8080/",
          "height": 911,
          "referenced_widgets": [
            "404309159333400d8244cb9b707d8d58",
            "3db496c4881c4c08b986638970f7927e",
            "48031253c0f749e0af7575acd62b770e",
            "be7ae75aa55e4610a74e21937711f68a",
            "cd0987e099204413bdfb85dc1ba35e93",
            "28e6cfc63b2f49908f7891a539718131",
            "2f0889b3c47145be811f06455e92b2dd",
            "1f49f5f21027432ebf5763e9cfb8b408",
            "249fb03885644a37bbe86fda1826e8b7",
            "1bf40d9e1fa748278c7ed27e84f49d9d",
            "cbb8daebf5cb4ecca0c7193875cda573",
            "8f3144ed09da42c1be367012e224b697",
            "c463d4f5a0774f8fab486918da21225a",
            "879df697156a484cb00c05e7fa4f4112",
            "7630a982162045a28aa921d5e5210ccf",
            "3957deb04d654a9ba46ed52346889acb",
            "6e046237219d46fe95c91583968d470b",
            "d194f81aeec44832ba3edd0f793d64fa",
            "cbcd4453c99840ae864a4a4ef3d7f466",
            "39b3e4468c7e42498d7e51f28da04e68",
            "01dde9527e424f638d5bce57f34d7cba",
            "0ad7ddd1f76141d0bc23d6e2fb658c59",
            "4a898d770d9a47759d56bb3dac283f4f",
            "dda11452ba974bfaa7bf48f6598696e2",
            "8bd4e8818ff545f6902db70457639e63",
            "bf0647d6be43455d87b6016ac024b9d1",
            "5a3a1386ea5742fe984f0fe4e860e58a",
            "320b8acb19a64d76830b5c2d72f0ae41",
            "ffe90b59908a477991d1e22586a39b7d",
            "511e93a90ca94447af5bb0ba939d85ef",
            "504901a694f24c1580b5f8215769b649",
            "c240026c24ac48959b4ab9512c542d13",
            "ff5027cdbfa24806b59ef0387f4a4222",
            "f9f98a5130cf44a7af5cecf8a220e8f5",
            "5db31ead7d814f11ac2a8bfc7d749dfa",
            "6359988d934c43fc93987ab25c4f21ae",
            "d59932f1639942b4b2293b2155d94b8d",
            "1c71408c0e114be0a38b33cdd24e822b",
            "b0aed6e408be423cba88c82f3b91a725",
            "b8763f7caa574ea9937411e6ec7fa67e",
            "e40ee144c0894151ae1f4a4949658151",
            "fdeea8f2e668473683ac18b26e29abde",
            "593bb5f778d84ef192a18055504d20e0",
            "5236a558c5f84ccca72f1b1c57bb77d6",
            "8ef1aaf682ec4923adcd731bf13dd189",
            "a4e022a674d64c28be051fe2d747052d",
            "d290878642764fbc819d2779b7163e1b",
            "1434aa27230146bb9418980abae7f5de",
            "f859cb1b19c142c5be6e217d7bb3ee86",
            "f164ef9fbb03456abdeb0b9d8b0b3e26",
            "7745b613bc6c47a1b79aa240c430dbe0",
            "9504c5efdee641d0a6c28add62255321",
            "41bcac00aea64b4488ce964346b27d9e",
            "df24c2c2984f4ffd91def8fe31b75741",
            "e5c6b058d820489ba7eea2cd2220ab5d",
            "c2f4539dcdc4465b8cac0709301d30d9",
            "9b87cdf1f6a74cc09439b03278dfca69",
            "074f520238434537a7afd763cfc1e374",
            "9588680ed3e748299ea08f7d17ac7750",
            "d8d0e2fb9404493680ac695818568c24",
            "5b398713e00449a1b44e1b7f188048a7",
            "6c5fde8d95af44bcb28378a882ae467f",
            "e3720170e7bd4d0f9016a8663cf18e1d",
            "c928f01f67c44cb3aa7e6d732b52941e",
            "faf6a3b7d639487d9190725a80746903",
            "42a6a8b91a9b4f12ab77bba59fc5d23e",
            "cc38b101767147fb94847b17700b54ba",
            "4217172ca4124db6800a4e74d55a9c26",
            "5734f910d4514e49bc3bdb647e37b828",
            "c5191a5a566d47738261ee8765edceee",
            "18c56e5a333242e9a6300be2423afb39",
            "88ed818f14424524a27d76e587c10a5f",
            "8e0b535693a642bba73f4a2d4cffe5e9",
            "6c873c4aa3214225bde9a0470d76a3f5",
            "dab710cdd7a2470d9e27e7ef59a19f41",
            "0ff1c90601d64d638900f710f763c123",
            "fd985d75223347a4a5f5403d35c056ca",
            "0803c5a52c3a4479881d64e0ea00d4be",
            "caaee8579b164205808ba1d6b2d163bf",
            "ca9839d2ef244d90b0dc33b5714ca923",
            "1fa2652bd69743f5a3b4fdb1324635c9",
            "e4012d73f1774100ab5eff349b83b1c4",
            "b2518ce417ce49809adee2220b0cc58b",
            "a1243be41df94011b88a83f52bddc191"
          ]
        },
        "id": "TRZnV_zM0Q2O",
        "outputId": "9244c6a1-4cbd-4172-8c10-a8370867e57c"
      },
      "execution_count": 134,
      "outputs": [
        {
          "output_type": "display_data",
          "data": {
            "text/plain": [
              "Label(value='Enter Your Age:')"
            ],
            "application/vnd.jupyter.widget-view+json": {
              "version_major": 2,
              "version_minor": 0,
              "model_id": "404309159333400d8244cb9b707d8d58"
            }
          },
          "metadata": {}
        },
        {
          "output_type": "display_data",
          "data": {
            "text/plain": [
              "IntText(value=0)"
            ],
            "application/vnd.jupyter.widget-view+json": {
              "version_major": 2,
              "version_minor": 0,
              "model_id": "be7ae75aa55e4610a74e21937711f68a"
            }
          },
          "metadata": {}
        },
        {
          "output_type": "display_data",
          "data": {
            "text/plain": [
              "Label(value='Gender:')"
            ],
            "application/vnd.jupyter.widget-view+json": {
              "version_major": 2,
              "version_minor": 0,
              "model_id": "2f0889b3c47145be811f06455e92b2dd"
            }
          },
          "metadata": {}
        },
        {
          "output_type": "display_data",
          "data": {
            "text/plain": [
              "RadioButtons(layout=Layout(width='max-content'), options=('Male', 'Female'), value='Male')"
            ],
            "application/vnd.jupyter.widget-view+json": {
              "version_major": 2,
              "version_minor": 0,
              "model_id": "1bf40d9e1fa748278c7ed27e84f49d9d"
            }
          },
          "metadata": {}
        },
        {
          "output_type": "display_data",
          "data": {
            "text/plain": [
              "Label(value='Enter Value of CP:')"
            ],
            "application/vnd.jupyter.widget-view+json": {
              "version_major": 2,
              "version_minor": 0,
              "model_id": "c463d4f5a0774f8fab486918da21225a"
            }
          },
          "metadata": {}
        },
        {
          "output_type": "display_data",
          "data": {
            "text/plain": [
              "IntSlider(value=0, max=3)"
            ],
            "application/vnd.jupyter.widget-view+json": {
              "version_major": 2,
              "version_minor": 0,
              "model_id": "3957deb04d654a9ba46ed52346889acb"
            }
          },
          "metadata": {}
        },
        {
          "output_type": "display_data",
          "data": {
            "text/plain": [
              "Label(value='Enter Value of trestbps:')"
            ],
            "application/vnd.jupyter.widget-view+json": {
              "version_major": 2,
              "version_minor": 0,
              "model_id": "cbcd4453c99840ae864a4a4ef3d7f466"
            }
          },
          "metadata": {}
        },
        {
          "output_type": "display_data",
          "data": {
            "text/plain": [
              "IntText(value=0)"
            ],
            "application/vnd.jupyter.widget-view+json": {
              "version_major": 2,
              "version_minor": 0,
              "model_id": "0ad7ddd1f76141d0bc23d6e2fb658c59"
            }
          },
          "metadata": {}
        },
        {
          "output_type": "display_data",
          "data": {
            "text/plain": [
              "Label(value='Enter Value of chol:')"
            ],
            "application/vnd.jupyter.widget-view+json": {
              "version_major": 2,
              "version_minor": 0,
              "model_id": "8bd4e8818ff545f6902db70457639e63"
            }
          },
          "metadata": {}
        },
        {
          "output_type": "display_data",
          "data": {
            "text/plain": [
              "IntText(value=0)"
            ],
            "application/vnd.jupyter.widget-view+json": {
              "version_major": 2,
              "version_minor": 0,
              "model_id": "320b8acb19a64d76830b5c2d72f0ae41"
            }
          },
          "metadata": {}
        },
        {
          "output_type": "display_data",
          "data": {
            "text/plain": [
              "Label(value='Enter Value of fbs:')"
            ],
            "application/vnd.jupyter.widget-view+json": {
              "version_major": 2,
              "version_minor": 0,
              "model_id": "504901a694f24c1580b5f8215769b649"
            }
          },
          "metadata": {}
        },
        {
          "output_type": "display_data",
          "data": {
            "text/plain": [
              "IntText(value=0)"
            ],
            "application/vnd.jupyter.widget-view+json": {
              "version_major": 2,
              "version_minor": 0,
              "model_id": "f9f98a5130cf44a7af5cecf8a220e8f5"
            }
          },
          "metadata": {}
        },
        {
          "output_type": "display_data",
          "data": {
            "text/plain": [
              "Label(value='Enter Value of restecg:')"
            ],
            "application/vnd.jupyter.widget-view+json": {
              "version_major": 2,
              "version_minor": 0,
              "model_id": "d59932f1639942b4b2293b2155d94b8d"
            }
          },
          "metadata": {}
        },
        {
          "output_type": "display_data",
          "data": {
            "text/plain": [
              "IntSlider(value=0, max=2)"
            ],
            "application/vnd.jupyter.widget-view+json": {
              "version_major": 2,
              "version_minor": 0,
              "model_id": "b8763f7caa574ea9937411e6ec7fa67e"
            }
          },
          "metadata": {}
        },
        {
          "output_type": "display_data",
          "data": {
            "text/plain": [
              "Label(value='Enter Value of thalach:')"
            ],
            "application/vnd.jupyter.widget-view+json": {
              "version_major": 2,
              "version_minor": 0,
              "model_id": "593bb5f778d84ef192a18055504d20e0"
            }
          },
          "metadata": {}
        },
        {
          "output_type": "display_data",
          "data": {
            "text/plain": [
              "IntText(value=0)"
            ],
            "application/vnd.jupyter.widget-view+json": {
              "version_major": 2,
              "version_minor": 0,
              "model_id": "a4e022a674d64c28be051fe2d747052d"
            }
          },
          "metadata": {}
        },
        {
          "output_type": "display_data",
          "data": {
            "text/plain": [
              "Label(value='Enter Value of exang:')"
            ],
            "application/vnd.jupyter.widget-view+json": {
              "version_major": 2,
              "version_minor": 0,
              "model_id": "f859cb1b19c142c5be6e217d7bb3ee86"
            }
          },
          "metadata": {}
        },
        {
          "output_type": "display_data",
          "data": {
            "text/plain": [
              "IntText(value=0)"
            ],
            "application/vnd.jupyter.widget-view+json": {
              "version_major": 2,
              "version_minor": 0,
              "model_id": "9504c5efdee641d0a6c28add62255321"
            }
          },
          "metadata": {}
        },
        {
          "output_type": "display_data",
          "data": {
            "text/plain": [
              "Label(value='Enter Value of oldpeak:')"
            ],
            "application/vnd.jupyter.widget-view+json": {
              "version_major": 2,
              "version_minor": 0,
              "model_id": "e5c6b058d820489ba7eea2cd2220ab5d"
            }
          },
          "metadata": {}
        },
        {
          "output_type": "display_data",
          "data": {
            "text/plain": [
              "FloatText(value=0.0)"
            ],
            "application/vnd.jupyter.widget-view+json": {
              "version_major": 2,
              "version_minor": 0,
              "model_id": "074f520238434537a7afd763cfc1e374"
            }
          },
          "metadata": {}
        },
        {
          "output_type": "display_data",
          "data": {
            "text/plain": [
              "Label(value='Enter Value of slope:')"
            ],
            "application/vnd.jupyter.widget-view+json": {
              "version_major": 2,
              "version_minor": 0,
              "model_id": "5b398713e00449a1b44e1b7f188048a7"
            }
          },
          "metadata": {}
        },
        {
          "output_type": "display_data",
          "data": {
            "text/plain": [
              "IntSlider(value=1, max=3, min=1)"
            ],
            "application/vnd.jupyter.widget-view+json": {
              "version_major": 2,
              "version_minor": 0,
              "model_id": "c928f01f67c44cb3aa7e6d732b52941e"
            }
          },
          "metadata": {}
        },
        {
          "output_type": "display_data",
          "data": {
            "text/plain": [
              "Label(value='Enter Value of ca:')"
            ],
            "application/vnd.jupyter.widget-view+json": {
              "version_major": 2,
              "version_minor": 0,
              "model_id": "cc38b101767147fb94847b17700b54ba"
            }
          },
          "metadata": {}
        },
        {
          "output_type": "display_data",
          "data": {
            "text/plain": [
              "IntSlider(value=0, max=3)"
            ],
            "application/vnd.jupyter.widget-view+json": {
              "version_major": 2,
              "version_minor": 0,
              "model_id": "c5191a5a566d47738261ee8765edceee"
            }
          },
          "metadata": {}
        },
        {
          "output_type": "display_data",
          "data": {
            "text/plain": [
              "Label(value='Enter Value of thal:')"
            ],
            "application/vnd.jupyter.widget-view+json": {
              "version_major": 2,
              "version_minor": 0,
              "model_id": "8e0b535693a642bba73f4a2d4cffe5e9"
            }
          },
          "metadata": {}
        },
        {
          "output_type": "display_data",
          "data": {
            "text/plain": [
              "IntSlider(value=0, max=2)"
            ],
            "application/vnd.jupyter.widget-view+json": {
              "version_major": 2,
              "version_minor": 0,
              "model_id": "0ff1c90601d64d638900f710f763c123"
            }
          },
          "metadata": {}
        },
        {
          "output_type": "display_data",
          "data": {
            "text/plain": [
              "Button(description='Predict', style=ButtonStyle())"
            ],
            "application/vnd.jupyter.widget-view+json": {
              "version_major": 2,
              "version_minor": 0,
              "model_id": "caaee8579b164205808ba1d6b2d163bf"
            }
          },
          "metadata": {}
        },
        {
          "output_type": "display_data",
          "data": {
            "text/plain": [
              "Label(value='')"
            ],
            "application/vnd.jupyter.widget-view+json": {
              "version_major": 2,
              "version_minor": 0,
              "model_id": "e4012d73f1774100ab5eff349b83b1c4"
            }
          },
          "metadata": {}
        },
        {
          
          ]
        }
      ]
    }
  ]
}
